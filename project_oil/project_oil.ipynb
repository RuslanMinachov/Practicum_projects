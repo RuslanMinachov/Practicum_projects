{
 "cells": [
  {
   "cell_type": "markdown",
   "id": "8498e61d",
   "metadata": {},
   "source": [
    "\n",
    "_________\n",
    "\n",
    "**Название проекта.**\n",
    "\n",
    "**Выбор локации для скважины.**\n",
    "_________\n",
    "\n",
    "**Описание проекта.**\n",
    "\n",
    "Допустим, вы работаете в добывающей компании «`ГлавРосГосНефть`». Нужно решить, где бурить новую скважину.\n",
    "\n",
    "**Шаги** для выбора локации обычно такие:\n",
    "- В избранном регионе собирают характеристики для скважин: качество нефти и объём её запасов;\n",
    "- Строят модель для предсказания объёма запасов в новых скважинах;\n",
    "- Выбирают скважины с самыми высокими оценками значений;\n",
    "- Определяют регион с максимальной суммарной прибылью отобранных скважин.\n",
    "_________\n",
    "\n",
    "**Цель проекта.**\n",
    "\n",
    "- Постройть модель для определения региона, где добыча принесёт наибольшую прибыль.\n",
    "- Проанализировать возможную прибыль и риски.\n",
    "\n",
    "__________\n",
    "\n",
    "**Задачи проекта.**\n",
    "\n",
    "\n",
    "\n",
    "\n",
    "____________\n",
    "\n",
    "**Исходные данные.**\n",
    "\n",
    "**Данные геологоразведки трёх регионов находятся в файлах**: \n",
    "\n",
    "- `/datasets/geo_data_0.csv.`\n",
    "- `/datasets/geo_data_1.csv.` \n",
    "- `/datasets/geo_data_2.csv.` \n",
    "- `id` — уникальный идентификатор скважины;\n",
    "- `f0, f1, f2` — три признака точек ;\n",
    "- `product` — объём запасов в скважине (тыс. баррелей).\n",
    "\n",
    "____________\n",
    "\n",
    "**Данное исследование разделим на несколько частей.**\n",
    "\n",
    "- [**Шаг 1. Загрузка и изучение данных.**](#section1)\n",
    "  - [Загрузка данных.](#section1.1)\n",
    "  - [Изучение данных.](#section1.2)\n",
    "  - [Промежуточный вывод.](#section1.3)\n",
    "\n",
    "\n",
    "- [**Шаг 2. Предобработка данных.**](#section2)\n",
    "  - [Приведение к нужному типу данных.](#section2.1)\n",
    "  - [Проверка дубликатов.](#section2.2)\n",
    "  - [Промежуточный вывод.](#section2.3)\n",
    "\n",
    "\n",
    "- [**Шаг 3. Исследовательский анализ данных.**](#section3)\n",
    "  - [Функция для построения графиков.](#section3.1)\n",
    "  - [Датафрейм geo_data_0.](#section3.2)\n",
    "  - [Датафрейм geo_data_1.](#section3.3)\n",
    "  - [Датафрейм geo_data_2.](#section3.4)\n",
    "  - [Промежуточный вывод.](#section3.5)\n",
    "\n",
    "\n",
    "- [**Шаг 4. Корреляционный анализ данных.**](#section4)\n",
    "  - [Датафрейм geo_data_0.](#section4.1)\n",
    "  - [Датафрейм geo_data_1.](#section4.2)\n",
    "  - [Датафрейм geo_data_2.](#section4.3)\n",
    "  - [Промежуточный вывод.](#section4.4)\n",
    "\n",
    "\n",
    "- [**Шаг 5. Обучение моделей.**](#section5)\n",
    "  - [Составление пайплайна.](#section5.1)\n",
    "  - [Датафрейм geo_data_0.](#section5.2)\n",
    "  - [Датафрейм geo_data_1.](#section5.3)\n",
    "  - [Датафрейм geo_data_2.](#section5.4)\n",
    "  - [Промежуточный вывод.](#section5.5)\n",
    "\n",
    "\n",
    "- [**Шаг 6. Подготовка к расчёту прибыли.**](#section6)\n",
    "\n",
    "\n",
    "- [**Шаг 7. Функция для расчета прибыли.**](#section7)\n",
    "\n",
    "\n",
    "- [**Шаг 8. Риски и прибыль для каждого региона.**](#section8)\n",
    "  - [Датафрейм geo_data_0.](#section8.1)\n",
    "  - [Датафрейм geo_data_1.](#section8.2)\n",
    "  - [Датафрейм geo_data_2.](#section8.3)\n",
    "  - [Промежуточный вывод.](#section8.4)\n",
    "\n",
    "\n",
    "- [**Шаг 9. Общий вывод.**](#section9)\n",
    "\n",
    "---------"
   ]
  },
  {
   "cell_type": "code",
   "execution_count": 1,
   "id": "56618113",
   "metadata": {},
   "outputs": [],
   "source": [
    "!pip install optuna -q\n",
    "!pip install optuna-integration[sklearn] -q\n",
    "!pip install phik -q"
   ]
  },
  {
   "cell_type": "code",
   "execution_count": 2,
   "id": "87509cb9",
   "metadata": {},
   "outputs": [],
   "source": [
    "import pandas as pd\n",
    "import os\n",
    "import matplotlib.pylab as plt\n",
    "import seaborn as sns\n",
    "from scipy import stats as st\n",
    "\n",
    "from sklearn.model_selection import train_test_split\n",
    "from sklearn.pipeline import Pipeline\n",
    "from sklearn.preprocessing import PolynomialFeatures, StandardScaler, MinMaxScaler\n",
    "from sklearn.feature_selection import SelectKBest, f_regression\n",
    "from sklearn.linear_model import LinearRegression\n",
    "from sklearn.compose import ColumnTransformer\n",
    "from sklearn.metrics import mean_squared_error\n",
    "\n",
    "from optuna import distributions\n",
    "from optuna.integration import OptunaSearchCV\n",
    "from optuna.distributions import CategoricalDistribution, IntDistribution, FloatDistribution\n",
    "\n",
    "from numpy.random import RandomState\n",
    "import numpy as np\n",
    "\n",
    "from phik import phik_matrix"
   ]
  },
  {
   "cell_type": "markdown",
   "id": "2d64c712",
   "metadata": {},
   "source": [
    " <a id=\"section1\"></a>\n",
    "### Загрузка и изучение данных."
   ]
  },
  {
   "cell_type": "markdown",
   "id": "9b5247f3",
   "metadata": {},
   "source": [
    " <a id=\"section1.1\"></a>\n",
    "#### Загрузка данных."
   ]
  },
  {
   "cell_type": "code",
   "execution_count": 3,
   "id": "b6533420",
   "metadata": {},
   "outputs": [],
   "source": [
    "file_paths = {\n",
    "    'geo_data_0': [\n",
    "        '/Users/ruslanminacov/Downloads/geo_data_0.csv',\n",
    "        'https://code.s3.yandex.net/datasets/geo_data_0.csv'\n",
    "    ],\n",
    "    'geo_data_1': [\n",
    "        '/Users/ruslanminacov/Downloads/geo_data_1.csv',\n",
    "        'https://code.s3.yandex.net/datasets/geo_data_1.csv'\n",
    "    ],\n",
    "    'geo_data_2': [\n",
    "        '/Users/ruslanminacov/Downloads/geo_data_2.csv',\n",
    "        'https://code.s3.yandex.net/datasets/geo_data_2.csv'\n",
    "    ]\n",
    "}\n",
    "\n",
    "\n",
    "dataframes = {}\n",
    "\n",
    "for data_name, paths in file_paths.items():  \n",
    "    loaded = False\n",
    "    for path in paths:\n",
    "        try:\n",
    "            if os.path.exists(path):\n",
    "                dataframes[data_name] = pd.read_csv(path)\n",
    "                loaded = True\n",
    "                break\n",
    "            elif path.startswith('http'):\n",
    "                dataframes[data_name] = pd.read_csv(path)\n",
    "                loaded = True\n",
    "                break\n",
    "        except Exception as e:\n",
    "            print(f\"Failed to load {path}: {e}\")\n",
    "            continue\n",
    "    if not loaded:\n",
    "        print(f'Failed to load data for {data_name}') \n",
    "        \n",
    "geo_data_0 = dataframes['geo_data_0']\n",
    "geo_data_1 = dataframes['geo_data_1']\n",
    "geo_data_2 = dataframes['geo_data_2']"
   ]
  },
  {
   "cell_type": "markdown",
   "id": "7320b8f0",
   "metadata": {},
   "source": [
    " <a id=\"section2\"></a>\n",
    "#### Изучение данных."
   ]
  },
  {
   "cell_type": "code",
   "execution_count": 4,
   "id": "6070f2b3",
   "metadata": {},
   "outputs": [
    {
     "name": "stdout",
     "output_type": "stream",
     "text": [
      "<class 'pandas.core.frame.DataFrame'>\n",
      "RangeIndex: 100000 entries, 0 to 99999\n",
      "Data columns (total 5 columns):\n",
      " #   Column   Non-Null Count   Dtype  \n",
      "---  ------   --------------   -----  \n",
      " 0   id       100000 non-null  object \n",
      " 1   f0       100000 non-null  float64\n",
      " 2   f1       100000 non-null  float64\n",
      " 3   f2       100000 non-null  float64\n",
      " 4   product  100000 non-null  float64\n",
      "dtypes: float64(4), object(1)\n",
      "memory usage: 3.8+ MB\n"
     ]
    },
    {
     "data": {
      "text/html": [
       "<div>\n",
       "<style scoped>\n",
       "    .dataframe tbody tr th:only-of-type {\n",
       "        vertical-align: middle;\n",
       "    }\n",
       "\n",
       "    .dataframe tbody tr th {\n",
       "        vertical-align: top;\n",
       "    }\n",
       "\n",
       "    .dataframe thead th {\n",
       "        text-align: right;\n",
       "    }\n",
       "</style>\n",
       "<table border=\"1\" class=\"dataframe\">\n",
       "  <thead>\n",
       "    <tr style=\"text-align: right;\">\n",
       "      <th></th>\n",
       "      <th>id</th>\n",
       "      <th>f0</th>\n",
       "      <th>f1</th>\n",
       "      <th>f2</th>\n",
       "      <th>product</th>\n",
       "    </tr>\n",
       "  </thead>\n",
       "  <tbody>\n",
       "    <tr>\n",
       "      <th>0</th>\n",
       "      <td>txEyH</td>\n",
       "      <td>0.705745</td>\n",
       "      <td>-0.497823</td>\n",
       "      <td>1.221170</td>\n",
       "      <td>105.280062</td>\n",
       "    </tr>\n",
       "    <tr>\n",
       "      <th>1</th>\n",
       "      <td>2acmU</td>\n",
       "      <td>1.334711</td>\n",
       "      <td>-0.340164</td>\n",
       "      <td>4.365080</td>\n",
       "      <td>73.037750</td>\n",
       "    </tr>\n",
       "    <tr>\n",
       "      <th>2</th>\n",
       "      <td>409Wp</td>\n",
       "      <td>1.022732</td>\n",
       "      <td>0.151990</td>\n",
       "      <td>1.419926</td>\n",
       "      <td>85.265647</td>\n",
       "    </tr>\n",
       "    <tr>\n",
       "      <th>3</th>\n",
       "      <td>iJLyR</td>\n",
       "      <td>-0.032172</td>\n",
       "      <td>0.139033</td>\n",
       "      <td>2.978566</td>\n",
       "      <td>168.620776</td>\n",
       "    </tr>\n",
       "    <tr>\n",
       "      <th>4</th>\n",
       "      <td>Xdl7t</td>\n",
       "      <td>1.988431</td>\n",
       "      <td>0.155413</td>\n",
       "      <td>4.751769</td>\n",
       "      <td>154.036647</td>\n",
       "    </tr>\n",
       "  </tbody>\n",
       "</table>\n",
       "</div>"
      ],
      "text/plain": [
       "      id        f0        f1        f2     product\n",
       "0  txEyH  0.705745 -0.497823  1.221170  105.280062\n",
       "1  2acmU  1.334711 -0.340164  4.365080   73.037750\n",
       "2  409Wp  1.022732  0.151990  1.419926   85.265647\n",
       "3  iJLyR -0.032172  0.139033  2.978566  168.620776\n",
       "4  Xdl7t  1.988431  0.155413  4.751769  154.036647"
      ]
     },
     "execution_count": 4,
     "metadata": {},
     "output_type": "execute_result"
    }
   ],
   "source": [
    "geo_data_0.info()\n",
    "geo_data_0.head()"
   ]
  },
  {
   "cell_type": "code",
   "execution_count": 5,
   "id": "ac30a6fc",
   "metadata": {},
   "outputs": [
    {
     "name": "stdout",
     "output_type": "stream",
     "text": [
      "<class 'pandas.core.frame.DataFrame'>\n",
      "RangeIndex: 100000 entries, 0 to 99999\n",
      "Data columns (total 5 columns):\n",
      " #   Column   Non-Null Count   Dtype  \n",
      "---  ------   --------------   -----  \n",
      " 0   id       100000 non-null  object \n",
      " 1   f0       100000 non-null  float64\n",
      " 2   f1       100000 non-null  float64\n",
      " 3   f2       100000 non-null  float64\n",
      " 4   product  100000 non-null  float64\n",
      "dtypes: float64(4), object(1)\n",
      "memory usage: 3.8+ MB\n"
     ]
    },
    {
     "data": {
      "text/html": [
       "<div>\n",
       "<style scoped>\n",
       "    .dataframe tbody tr th:only-of-type {\n",
       "        vertical-align: middle;\n",
       "    }\n",
       "\n",
       "    .dataframe tbody tr th {\n",
       "        vertical-align: top;\n",
       "    }\n",
       "\n",
       "    .dataframe thead th {\n",
       "        text-align: right;\n",
       "    }\n",
       "</style>\n",
       "<table border=\"1\" class=\"dataframe\">\n",
       "  <thead>\n",
       "    <tr style=\"text-align: right;\">\n",
       "      <th></th>\n",
       "      <th>id</th>\n",
       "      <th>f0</th>\n",
       "      <th>f1</th>\n",
       "      <th>f2</th>\n",
       "      <th>product</th>\n",
       "    </tr>\n",
       "  </thead>\n",
       "  <tbody>\n",
       "    <tr>\n",
       "      <th>0</th>\n",
       "      <td>kBEdx</td>\n",
       "      <td>-15.001348</td>\n",
       "      <td>-8.276000</td>\n",
       "      <td>-0.005876</td>\n",
       "      <td>3.179103</td>\n",
       "    </tr>\n",
       "    <tr>\n",
       "      <th>1</th>\n",
       "      <td>62mP7</td>\n",
       "      <td>14.272088</td>\n",
       "      <td>-3.475083</td>\n",
       "      <td>0.999183</td>\n",
       "      <td>26.953261</td>\n",
       "    </tr>\n",
       "    <tr>\n",
       "      <th>2</th>\n",
       "      <td>vyE1P</td>\n",
       "      <td>6.263187</td>\n",
       "      <td>-5.948386</td>\n",
       "      <td>5.001160</td>\n",
       "      <td>134.766305</td>\n",
       "    </tr>\n",
       "    <tr>\n",
       "      <th>3</th>\n",
       "      <td>KcrkZ</td>\n",
       "      <td>-13.081196</td>\n",
       "      <td>-11.506057</td>\n",
       "      <td>4.999415</td>\n",
       "      <td>137.945408</td>\n",
       "    </tr>\n",
       "    <tr>\n",
       "      <th>4</th>\n",
       "      <td>AHL4O</td>\n",
       "      <td>12.702195</td>\n",
       "      <td>-8.147433</td>\n",
       "      <td>5.004363</td>\n",
       "      <td>134.766305</td>\n",
       "    </tr>\n",
       "  </tbody>\n",
       "</table>\n",
       "</div>"
      ],
      "text/plain": [
       "      id         f0         f1        f2     product\n",
       "0  kBEdx -15.001348  -8.276000 -0.005876    3.179103\n",
       "1  62mP7  14.272088  -3.475083  0.999183   26.953261\n",
       "2  vyE1P   6.263187  -5.948386  5.001160  134.766305\n",
       "3  KcrkZ -13.081196 -11.506057  4.999415  137.945408\n",
       "4  AHL4O  12.702195  -8.147433  5.004363  134.766305"
      ]
     },
     "execution_count": 5,
     "metadata": {},
     "output_type": "execute_result"
    }
   ],
   "source": [
    "geo_data_1.info()\n",
    "geo_data_1.head()"
   ]
  },
  {
   "cell_type": "code",
   "execution_count": 6,
   "id": "22565bb2",
   "metadata": {},
   "outputs": [
    {
     "name": "stdout",
     "output_type": "stream",
     "text": [
      "<class 'pandas.core.frame.DataFrame'>\n",
      "RangeIndex: 100000 entries, 0 to 99999\n",
      "Data columns (total 5 columns):\n",
      " #   Column   Non-Null Count   Dtype  \n",
      "---  ------   --------------   -----  \n",
      " 0   id       100000 non-null  object \n",
      " 1   f0       100000 non-null  float64\n",
      " 2   f1       100000 non-null  float64\n",
      " 3   f2       100000 non-null  float64\n",
      " 4   product  100000 non-null  float64\n",
      "dtypes: float64(4), object(1)\n",
      "memory usage: 3.8+ MB\n"
     ]
    },
    {
     "data": {
      "text/html": [
       "<div>\n",
       "<style scoped>\n",
       "    .dataframe tbody tr th:only-of-type {\n",
       "        vertical-align: middle;\n",
       "    }\n",
       "\n",
       "    .dataframe tbody tr th {\n",
       "        vertical-align: top;\n",
       "    }\n",
       "\n",
       "    .dataframe thead th {\n",
       "        text-align: right;\n",
       "    }\n",
       "</style>\n",
       "<table border=\"1\" class=\"dataframe\">\n",
       "  <thead>\n",
       "    <tr style=\"text-align: right;\">\n",
       "      <th></th>\n",
       "      <th>id</th>\n",
       "      <th>f0</th>\n",
       "      <th>f1</th>\n",
       "      <th>f2</th>\n",
       "      <th>product</th>\n",
       "    </tr>\n",
       "  </thead>\n",
       "  <tbody>\n",
       "    <tr>\n",
       "      <th>0</th>\n",
       "      <td>fwXo0</td>\n",
       "      <td>-1.146987</td>\n",
       "      <td>0.963328</td>\n",
       "      <td>-0.828965</td>\n",
       "      <td>27.758673</td>\n",
       "    </tr>\n",
       "    <tr>\n",
       "      <th>1</th>\n",
       "      <td>WJtFt</td>\n",
       "      <td>0.262778</td>\n",
       "      <td>0.269839</td>\n",
       "      <td>-2.530187</td>\n",
       "      <td>56.069697</td>\n",
       "    </tr>\n",
       "    <tr>\n",
       "      <th>2</th>\n",
       "      <td>ovLUW</td>\n",
       "      <td>0.194587</td>\n",
       "      <td>0.289035</td>\n",
       "      <td>-5.586433</td>\n",
       "      <td>62.871910</td>\n",
       "    </tr>\n",
       "    <tr>\n",
       "      <th>3</th>\n",
       "      <td>q6cA6</td>\n",
       "      <td>2.236060</td>\n",
       "      <td>-0.553760</td>\n",
       "      <td>0.930038</td>\n",
       "      <td>114.572842</td>\n",
       "    </tr>\n",
       "    <tr>\n",
       "      <th>4</th>\n",
       "      <td>WPMUX</td>\n",
       "      <td>-0.515993</td>\n",
       "      <td>1.716266</td>\n",
       "      <td>5.899011</td>\n",
       "      <td>149.600746</td>\n",
       "    </tr>\n",
       "  </tbody>\n",
       "</table>\n",
       "</div>"
      ],
      "text/plain": [
       "      id        f0        f1        f2     product\n",
       "0  fwXo0 -1.146987  0.963328 -0.828965   27.758673\n",
       "1  WJtFt  0.262778  0.269839 -2.530187   56.069697\n",
       "2  ovLUW  0.194587  0.289035 -5.586433   62.871910\n",
       "3  q6cA6  2.236060 -0.553760  0.930038  114.572842\n",
       "4  WPMUX -0.515993  1.716266  5.899011  149.600746"
      ]
     },
     "execution_count": 6,
     "metadata": {},
     "output_type": "execute_result"
    }
   ],
   "source": [
    "geo_data_2.info()\n",
    "geo_data_2.head()"
   ]
  },
  {
   "cell_type": "markdown",
   "id": "7d89099b",
   "metadata": {},
   "source": [
    " <a id=\"section1.3\"></a>\n",
    "#### Промежуточный вывод."
   ]
  },
  {
   "cell_type": "markdown",
   "id": "66a92aec",
   "metadata": {},
   "source": [
    "**Загрузка данных**\n",
    "\n",
    "Три набора данных (`geo_data_0`, `geo_data_1`, `geo_data_2`) были успешно загружены. Реализован гибкий механизм загрузки, поддерживающий как локальные файлы, так и загрузку по URL, с обработкой возможных ошибок. Все данные корректно сохранены в виде объектов `DataFrame`.\n",
    "\n",
    "**Изучение данных**\n",
    "\n",
    "Каждый набор данных содержит 100 000 записей и 5 столбцов:\n",
    "- `id` (тип `object`) — уникальный идентификатор скважины.\n",
    "- `f0`, `f1`, `f2` (тип `float64`) — числовые признаки.\n",
    "- `product` (тип `float64`) — целевая переменная, отражающая объём запасов нефти (в тысячах баррелей).\n",
    "\n",
    "- Пропуски в данных отсутствуют.\n",
    "\n",
    "\n"
   ]
  },
  {
   "cell_type": "markdown",
   "id": "9959cc75",
   "metadata": {},
   "source": [
    " <a id=\"section2\"></a>\n",
    "### Предобработка данных."
   ]
  },
  {
   "cell_type": "markdown",
   "id": "989d024f",
   "metadata": {},
   "source": [
    " <a id=\"section2.1\"></a>\n",
    "#### Приведение к нужному типу данных."
   ]
  },
  {
   "cell_type": "code",
   "execution_count": 7,
   "id": "ff6d83a1",
   "metadata": {},
   "outputs": [
    {
     "name": "stdout",
     "output_type": "stream",
     "text": [
      "<class 'pandas.core.frame.DataFrame'>\n",
      "RangeIndex: 100000 entries, 0 to 99999\n",
      "Data columns (total 5 columns):\n",
      " #   Column   Non-Null Count   Dtype  \n",
      "---  ------   --------------   -----  \n",
      " 0   id       100000 non-null  object \n",
      " 1   f0       100000 non-null  float32\n",
      " 2   f1       100000 non-null  float32\n",
      " 3   f2       100000 non-null  float32\n",
      " 4   product  100000 non-null  float32\n",
      "dtypes: float32(4), object(1)\n",
      "memory usage: 2.3+ MB\n",
      "<class 'pandas.core.frame.DataFrame'>\n",
      "RangeIndex: 100000 entries, 0 to 99999\n",
      "Data columns (total 5 columns):\n",
      " #   Column   Non-Null Count   Dtype  \n",
      "---  ------   --------------   -----  \n",
      " 0   id       100000 non-null  object \n",
      " 1   f0       100000 non-null  float32\n",
      " 2   f1       100000 non-null  float32\n",
      " 3   f2       100000 non-null  float32\n",
      " 4   product  100000 non-null  float32\n",
      "dtypes: float32(4), object(1)\n",
      "memory usage: 2.3+ MB\n",
      "<class 'pandas.core.frame.DataFrame'>\n",
      "RangeIndex: 100000 entries, 0 to 99999\n",
      "Data columns (total 5 columns):\n",
      " #   Column   Non-Null Count   Dtype  \n",
      "---  ------   --------------   -----  \n",
      " 0   id       100000 non-null  object \n",
      " 1   f0       100000 non-null  float32\n",
      " 2   f1       100000 non-null  float32\n",
      " 3   f2       100000 non-null  float32\n",
      " 4   product  100000 non-null  float32\n",
      "dtypes: float32(4), object(1)\n",
      "memory usage: 2.3+ MB\n"
     ]
    }
   ],
   "source": [
    "for data in [geo_data_0, geo_data_1, geo_data_2]:\n",
    "    for column in ['f0', 'f1', 'f2', 'product']:\n",
    "        data[column] = data[column].astype('float32')\n",
    "    data.info()"
   ]
  },
  {
   "cell_type": "markdown",
   "id": "db5d0e30",
   "metadata": {},
   "source": [
    " <a id=\"section2.2\"></a>\n",
    "#### Проверка дубликатов."
   ]
  },
  {
   "cell_type": "code",
   "execution_count": 8,
   "id": "c116d243",
   "metadata": {},
   "outputs": [
    {
     "name": "stdout",
     "output_type": "stream",
     "text": [
      "\n",
      "Количество дубликатов в датафрейме \"geo_data_0\" составляет: 0\n",
      "\n",
      "Количество дубликатов в датафрейме \"geo_data_1\" составляет: 0\n",
      "\n",
      "Количество дубликатов в датафрейме \"geo_data_2\" составляет: 0\n"
     ]
    }
   ],
   "source": [
    "data_names = {\n",
    "    'geo_data_0': geo_data_0,\n",
    "    'geo_data_1': geo_data_1,\n",
    "    'geo_data_2': geo_data_2\n",
    "}\n",
    "\n",
    "\n",
    "for name, df in data_names.items():\n",
    "    duplicates = df.duplicated().sum()\n",
    "    print(f'\\nКоличество дубликатов в датафрейме \"{name}\" составляет: {duplicates}')"
   ]
  },
  {
   "cell_type": "code",
   "execution_count": 9,
   "id": "5e9925b7",
   "metadata": {},
   "outputs": [
    {
     "name": "stdout",
     "output_type": "stream",
     "text": [
      "\n",
      "Количество дубликатов в \"id\" датафрейма \"geo_data_0\" составляет: 10\n",
      "\n",
      "Количество дубликатов в \"id\" датафрейма \"geo_data_1\" составляет: 4\n",
      "\n",
      "Количество дубликатов в \"id\" датафрейма \"geo_data_2\" составляет: 4\n"
     ]
    }
   ],
   "source": [
    "for name, df in data_names.items():\n",
    "    duplicates_id = df['id'].duplicated().sum()\n",
    "    print(f'\\nКоличество дубликатов в \"id\" датафрейма \"{name}\" составляет: {duplicates_id}')"
   ]
  },
  {
   "cell_type": "code",
   "execution_count": 10,
   "id": "eb84d708",
   "metadata": {},
   "outputs": [
    {
     "data": {
      "text/html": [
       "<div>\n",
       "<style scoped>\n",
       "    .dataframe tbody tr th:only-of-type {\n",
       "        vertical-align: middle;\n",
       "    }\n",
       "\n",
       "    .dataframe tbody tr th {\n",
       "        vertical-align: top;\n",
       "    }\n",
       "\n",
       "    .dataframe thead th {\n",
       "        text-align: right;\n",
       "    }\n",
       "</style>\n",
       "<table border=\"1\" class=\"dataframe\">\n",
       "  <thead>\n",
       "    <tr style=\"text-align: right;\">\n",
       "      <th></th>\n",
       "      <th>id</th>\n",
       "      <th>f0</th>\n",
       "      <th>f1</th>\n",
       "      <th>f2</th>\n",
       "      <th>product</th>\n",
       "    </tr>\n",
       "  </thead>\n",
       "  <tbody>\n",
       "    <tr>\n",
       "      <th>931</th>\n",
       "      <td>HZww2</td>\n",
       "      <td>0.755284</td>\n",
       "      <td>0.368511</td>\n",
       "      <td>1.863211</td>\n",
       "      <td>30.681774</td>\n",
       "    </tr>\n",
       "    <tr>\n",
       "      <th>1364</th>\n",
       "      <td>bxg6G</td>\n",
       "      <td>0.411645</td>\n",
       "      <td>0.856830</td>\n",
       "      <td>-3.653440</td>\n",
       "      <td>73.604263</td>\n",
       "    </tr>\n",
       "    <tr>\n",
       "      <th>1949</th>\n",
       "      <td>QcMuo</td>\n",
       "      <td>0.506563</td>\n",
       "      <td>-0.323775</td>\n",
       "      <td>-2.215583</td>\n",
       "      <td>75.496506</td>\n",
       "    </tr>\n",
       "    <tr>\n",
       "      <th>3389</th>\n",
       "      <td>A5aEY</td>\n",
       "      <td>-0.039949</td>\n",
       "      <td>0.156872</td>\n",
       "      <td>0.209861</td>\n",
       "      <td>89.249367</td>\n",
       "    </tr>\n",
       "    <tr>\n",
       "      <th>7530</th>\n",
       "      <td>HZww2</td>\n",
       "      <td>1.061194</td>\n",
       "      <td>-0.373969</td>\n",
       "      <td>10.430210</td>\n",
       "      <td>158.828690</td>\n",
       "    </tr>\n",
       "    <tr>\n",
       "      <th>16633</th>\n",
       "      <td>fiKDv</td>\n",
       "      <td>0.157341</td>\n",
       "      <td>1.028359</td>\n",
       "      <td>5.585586</td>\n",
       "      <td>95.817886</td>\n",
       "    </tr>\n",
       "    <tr>\n",
       "      <th>21426</th>\n",
       "      <td>Tdehs</td>\n",
       "      <td>0.829406</td>\n",
       "      <td>0.298807</td>\n",
       "      <td>-0.049563</td>\n",
       "      <td>96.035309</td>\n",
       "    </tr>\n",
       "    <tr>\n",
       "      <th>41724</th>\n",
       "      <td>bxg6G</td>\n",
       "      <td>-0.823752</td>\n",
       "      <td>0.546319</td>\n",
       "      <td>3.630479</td>\n",
       "      <td>93.007797</td>\n",
       "    </tr>\n",
       "    <tr>\n",
       "      <th>42529</th>\n",
       "      <td>AGS9W</td>\n",
       "      <td>1.454747</td>\n",
       "      <td>-0.479651</td>\n",
       "      <td>0.683380</td>\n",
       "      <td>126.370506</td>\n",
       "    </tr>\n",
       "    <tr>\n",
       "      <th>51970</th>\n",
       "      <td>A5aEY</td>\n",
       "      <td>-0.180335</td>\n",
       "      <td>0.935548</td>\n",
       "      <td>-2.094773</td>\n",
       "      <td>33.020206</td>\n",
       "    </tr>\n",
       "    <tr>\n",
       "      <th>60140</th>\n",
       "      <td>TtcGQ</td>\n",
       "      <td>0.569276</td>\n",
       "      <td>-0.104876</td>\n",
       "      <td>6.440215</td>\n",
       "      <td>85.350189</td>\n",
       "    </tr>\n",
       "    <tr>\n",
       "      <th>63593</th>\n",
       "      <td>QcMuo</td>\n",
       "      <td>0.635635</td>\n",
       "      <td>-0.473422</td>\n",
       "      <td>0.862670</td>\n",
       "      <td>64.578674</td>\n",
       "    </tr>\n",
       "    <tr>\n",
       "      <th>64022</th>\n",
       "      <td>74z30</td>\n",
       "      <td>0.741456</td>\n",
       "      <td>0.459229</td>\n",
       "      <td>5.153109</td>\n",
       "      <td>140.771500</td>\n",
       "    </tr>\n",
       "    <tr>\n",
       "      <th>66136</th>\n",
       "      <td>74z30</td>\n",
       "      <td>1.084962</td>\n",
       "      <td>-0.312358</td>\n",
       "      <td>6.990771</td>\n",
       "      <td>127.643326</td>\n",
       "    </tr>\n",
       "    <tr>\n",
       "      <th>69163</th>\n",
       "      <td>AGS9W</td>\n",
       "      <td>-0.933795</td>\n",
       "      <td>0.116194</td>\n",
       "      <td>-3.655896</td>\n",
       "      <td>19.230453</td>\n",
       "    </tr>\n",
       "    <tr>\n",
       "      <th>75715</th>\n",
       "      <td>Tdehs</td>\n",
       "      <td>0.112079</td>\n",
       "      <td>0.430296</td>\n",
       "      <td>3.218993</td>\n",
       "      <td>60.964020</td>\n",
       "    </tr>\n",
       "    <tr>\n",
       "      <th>89582</th>\n",
       "      <td>bsk9y</td>\n",
       "      <td>0.398908</td>\n",
       "      <td>-0.400253</td>\n",
       "      <td>10.122376</td>\n",
       "      <td>163.433075</td>\n",
       "    </tr>\n",
       "    <tr>\n",
       "      <th>90815</th>\n",
       "      <td>fiKDv</td>\n",
       "      <td>0.049883</td>\n",
       "      <td>0.841313</td>\n",
       "      <td>6.394613</td>\n",
       "      <td>137.346588</td>\n",
       "    </tr>\n",
       "    <tr>\n",
       "      <th>92341</th>\n",
       "      <td>TtcGQ</td>\n",
       "      <td>0.110711</td>\n",
       "      <td>1.022689</td>\n",
       "      <td>0.911381</td>\n",
       "      <td>101.318008</td>\n",
       "    </tr>\n",
       "    <tr>\n",
       "      <th>97785</th>\n",
       "      <td>bsk9y</td>\n",
       "      <td>0.378429</td>\n",
       "      <td>0.005837</td>\n",
       "      <td>0.160827</td>\n",
       "      <td>160.637299</td>\n",
       "    </tr>\n",
       "  </tbody>\n",
       "</table>\n",
       "</div>"
      ],
      "text/plain": [
       "          id        f0        f1         f2     product\n",
       "931    HZww2  0.755284  0.368511   1.863211   30.681774\n",
       "1364   bxg6G  0.411645  0.856830  -3.653440   73.604263\n",
       "1949   QcMuo  0.506563 -0.323775  -2.215583   75.496506\n",
       "3389   A5aEY -0.039949  0.156872   0.209861   89.249367\n",
       "7530   HZww2  1.061194 -0.373969  10.430210  158.828690\n",
       "16633  fiKDv  0.157341  1.028359   5.585586   95.817886\n",
       "21426  Tdehs  0.829406  0.298807  -0.049563   96.035309\n",
       "41724  bxg6G -0.823752  0.546319   3.630479   93.007797\n",
       "42529  AGS9W  1.454747 -0.479651   0.683380  126.370506\n",
       "51970  A5aEY -0.180335  0.935548  -2.094773   33.020206\n",
       "60140  TtcGQ  0.569276 -0.104876   6.440215   85.350189\n",
       "63593  QcMuo  0.635635 -0.473422   0.862670   64.578674\n",
       "64022  74z30  0.741456  0.459229   5.153109  140.771500\n",
       "66136  74z30  1.084962 -0.312358   6.990771  127.643326\n",
       "69163  AGS9W -0.933795  0.116194  -3.655896   19.230453\n",
       "75715  Tdehs  0.112079  0.430296   3.218993   60.964020\n",
       "89582  bsk9y  0.398908 -0.400253  10.122376  163.433075\n",
       "90815  fiKDv  0.049883  0.841313   6.394613  137.346588\n",
       "92341  TtcGQ  0.110711  1.022689   0.911381  101.318008\n",
       "97785  bsk9y  0.378429  0.005837   0.160827  160.637299"
      ]
     },
     "execution_count": 10,
     "metadata": {},
     "output_type": "execute_result"
    }
   ],
   "source": [
    "geo_data_0[geo_data_0['id'].duplicated(keep=False)]"
   ]
  },
  {
   "cell_type": "code",
   "execution_count": 11,
   "id": "7836f5ec",
   "metadata": {},
   "outputs": [
    {
     "data": {
      "text/html": [
       "<div>\n",
       "<style scoped>\n",
       "    .dataframe tbody tr th:only-of-type {\n",
       "        vertical-align: middle;\n",
       "    }\n",
       "\n",
       "    .dataframe tbody tr th {\n",
       "        vertical-align: top;\n",
       "    }\n",
       "\n",
       "    .dataframe thead th {\n",
       "        text-align: right;\n",
       "    }\n",
       "</style>\n",
       "<table border=\"1\" class=\"dataframe\">\n",
       "  <thead>\n",
       "    <tr style=\"text-align: right;\">\n",
       "      <th></th>\n",
       "      <th>id</th>\n",
       "      <th>f0</th>\n",
       "      <th>f1</th>\n",
       "      <th>f2</th>\n",
       "      <th>product</th>\n",
       "    </tr>\n",
       "  </thead>\n",
       "  <tbody>\n",
       "    <tr>\n",
       "      <th>1305</th>\n",
       "      <td>LHZR0</td>\n",
       "      <td>11.170835</td>\n",
       "      <td>-1.945066</td>\n",
       "      <td>3.002872</td>\n",
       "      <td>80.859779</td>\n",
       "    </tr>\n",
       "    <tr>\n",
       "      <th>2721</th>\n",
       "      <td>bfPNe</td>\n",
       "      <td>-9.494442</td>\n",
       "      <td>-5.463692</td>\n",
       "      <td>4.006042</td>\n",
       "      <td>110.992149</td>\n",
       "    </tr>\n",
       "    <tr>\n",
       "      <th>5849</th>\n",
       "      <td>5ltQ6</td>\n",
       "      <td>-3.435401</td>\n",
       "      <td>-12.296043</td>\n",
       "      <td>1.999796</td>\n",
       "      <td>57.085625</td>\n",
       "    </tr>\n",
       "    <tr>\n",
       "      <th>41906</th>\n",
       "      <td>LHZR0</td>\n",
       "      <td>-8.989672</td>\n",
       "      <td>-4.286607</td>\n",
       "      <td>2.009139</td>\n",
       "      <td>57.085625</td>\n",
       "    </tr>\n",
       "    <tr>\n",
       "      <th>47591</th>\n",
       "      <td>wt4Uk</td>\n",
       "      <td>-9.091098</td>\n",
       "      <td>-8.109279</td>\n",
       "      <td>-0.002314</td>\n",
       "      <td>3.179103</td>\n",
       "    </tr>\n",
       "    <tr>\n",
       "      <th>82178</th>\n",
       "      <td>bfPNe</td>\n",
       "      <td>-6.202799</td>\n",
       "      <td>-4.820045</td>\n",
       "      <td>2.995107</td>\n",
       "      <td>84.038887</td>\n",
       "    </tr>\n",
       "    <tr>\n",
       "      <th>82873</th>\n",
       "      <td>wt4Uk</td>\n",
       "      <td>10.259973</td>\n",
       "      <td>-9.376355</td>\n",
       "      <td>4.994297</td>\n",
       "      <td>134.766312</td>\n",
       "    </tr>\n",
       "    <tr>\n",
       "      <th>84461</th>\n",
       "      <td>5ltQ6</td>\n",
       "      <td>18.213839</td>\n",
       "      <td>2.191999</td>\n",
       "      <td>3.993869</td>\n",
       "      <td>107.813042</td>\n",
       "    </tr>\n",
       "  </tbody>\n",
       "</table>\n",
       "</div>"
      ],
      "text/plain": [
       "          id         f0         f1        f2     product\n",
       "1305   LHZR0  11.170835  -1.945066  3.002872   80.859779\n",
       "2721   bfPNe  -9.494442  -5.463692  4.006042  110.992149\n",
       "5849   5ltQ6  -3.435401 -12.296043  1.999796   57.085625\n",
       "41906  LHZR0  -8.989672  -4.286607  2.009139   57.085625\n",
       "47591  wt4Uk  -9.091098  -8.109279 -0.002314    3.179103\n",
       "82178  bfPNe  -6.202799  -4.820045  2.995107   84.038887\n",
       "82873  wt4Uk  10.259973  -9.376355  4.994297  134.766312\n",
       "84461  5ltQ6  18.213839   2.191999  3.993869  107.813042"
      ]
     },
     "execution_count": 11,
     "metadata": {},
     "output_type": "execute_result"
    }
   ],
   "source": [
    "geo_data_1[geo_data_1['id'].duplicated(keep=False)]"
   ]
  },
  {
   "cell_type": "code",
   "execution_count": 12,
   "id": "2e4d4958",
   "metadata": {},
   "outputs": [
    {
     "data": {
      "text/html": [
       "<div>\n",
       "<style scoped>\n",
       "    .dataframe tbody tr th:only-of-type {\n",
       "        vertical-align: middle;\n",
       "    }\n",
       "\n",
       "    .dataframe tbody tr th {\n",
       "        vertical-align: top;\n",
       "    }\n",
       "\n",
       "    .dataframe thead th {\n",
       "        text-align: right;\n",
       "    }\n",
       "</style>\n",
       "<table border=\"1\" class=\"dataframe\">\n",
       "  <thead>\n",
       "    <tr style=\"text-align: right;\">\n",
       "      <th></th>\n",
       "      <th>id</th>\n",
       "      <th>f0</th>\n",
       "      <th>f1</th>\n",
       "      <th>f2</th>\n",
       "      <th>product</th>\n",
       "    </tr>\n",
       "  </thead>\n",
       "  <tbody>\n",
       "    <tr>\n",
       "      <th>11449</th>\n",
       "      <td>VF7Jo</td>\n",
       "      <td>2.122656</td>\n",
       "      <td>-0.858275</td>\n",
       "      <td>5.746001</td>\n",
       "      <td>181.716812</td>\n",
       "    </tr>\n",
       "    <tr>\n",
       "      <th>28039</th>\n",
       "      <td>xCHr8</td>\n",
       "      <td>1.633027</td>\n",
       "      <td>0.368135</td>\n",
       "      <td>-2.378367</td>\n",
       "      <td>6.120525</td>\n",
       "    </tr>\n",
       "    <tr>\n",
       "      <th>43233</th>\n",
       "      <td>xCHr8</td>\n",
       "      <td>-0.847066</td>\n",
       "      <td>2.101796</td>\n",
       "      <td>5.597130</td>\n",
       "      <td>184.388641</td>\n",
       "    </tr>\n",
       "    <tr>\n",
       "      <th>44378</th>\n",
       "      <td>Vcm5J</td>\n",
       "      <td>-1.229484</td>\n",
       "      <td>-2.439204</td>\n",
       "      <td>1.222909</td>\n",
       "      <td>137.968292</td>\n",
       "    </tr>\n",
       "    <tr>\n",
       "      <th>45404</th>\n",
       "      <td>KUPhW</td>\n",
       "      <td>0.231846</td>\n",
       "      <td>-1.698941</td>\n",
       "      <td>4.990775</td>\n",
       "      <td>11.716299</td>\n",
       "    </tr>\n",
       "    <tr>\n",
       "      <th>49564</th>\n",
       "      <td>VF7Jo</td>\n",
       "      <td>-0.883115</td>\n",
       "      <td>0.560537</td>\n",
       "      <td>0.723601</td>\n",
       "      <td>136.233414</td>\n",
       "    </tr>\n",
       "    <tr>\n",
       "      <th>55967</th>\n",
       "      <td>KUPhW</td>\n",
       "      <td>1.211151</td>\n",
       "      <td>3.176408</td>\n",
       "      <td>5.543540</td>\n",
       "      <td>132.831802</td>\n",
       "    </tr>\n",
       "    <tr>\n",
       "      <th>95090</th>\n",
       "      <td>Vcm5J</td>\n",
       "      <td>2.587702</td>\n",
       "      <td>1.986875</td>\n",
       "      <td>2.482245</td>\n",
       "      <td>92.327576</td>\n",
       "    </tr>\n",
       "  </tbody>\n",
       "</table>\n",
       "</div>"
      ],
      "text/plain": [
       "          id        f0        f1        f2     product\n",
       "11449  VF7Jo  2.122656 -0.858275  5.746001  181.716812\n",
       "28039  xCHr8  1.633027  0.368135 -2.378367    6.120525\n",
       "43233  xCHr8 -0.847066  2.101796  5.597130  184.388641\n",
       "44378  Vcm5J -1.229484 -2.439204  1.222909  137.968292\n",
       "45404  KUPhW  0.231846 -1.698941  4.990775   11.716299\n",
       "49564  VF7Jo -0.883115  0.560537  0.723601  136.233414\n",
       "55967  KUPhW  1.211151  3.176408  5.543540  132.831802\n",
       "95090  Vcm5J  2.587702  1.986875  2.482245   92.327576"
      ]
     },
     "execution_count": 12,
     "metadata": {},
     "output_type": "execute_result"
    }
   ],
   "source": [
    "geo_data_2[geo_data_2['id'].duplicated(keep=False)]"
   ]
  },
  {
   "cell_type": "markdown",
   "id": "24380b02",
   "metadata": {},
   "source": [
    " <a id=\"section2.3\"></a>\n",
    "#### Промежуточный вывод. "
   ]
  },
  {
   "cell_type": "markdown",
   "id": "36b05797",
   "metadata": {},
   "source": [
    "**Приведение к нужному типу данных**\n",
    "\n",
    "Для всех трёх наборов данных (`geo_data_0`, `geo_data_1`, `geo_data_2`) была выполнена оптимизация типов данных. Столбцы `f0`, `f1`, `f2` и `product`, изначально имевшие тип `float64`, были преобразованы в тип `float32`. Это изменение позволяет уменьшить объём занимаемой памяти и потенциально ускорить вычисления при обучении моделей машинного обучения, сохраняя при этом достаточную точность для числовых признаков и целевой переменной.\n",
    "\n",
    "**Проверка дубликатов**\n",
    "\n",
    "В каждом из наборов данных (`geo_data_0`, `geo_data_1`, `geo_data_2`) была проведена проверка на наличие полных дубликатов строк с использованием метода `duplicated()`. Результаты показали, что дубликаты отсутствуют:  \n",
    "- В `geo_data_0`: 0 дубликатов.  \n",
    "- В `geo_data_1`: 0 дубликатов.  \n",
    "- В `geo_data_2`: 0 дубликатов.  \n",
    "\n",
    "Найдены неявные дубликаты в столбце (`id`):\n",
    "- Количество дубликатов в `id` датафрейма `geo_data_0` составляет: 10\n",
    "- Количество дубликатов в `id` датафрейма `geo_data_1` составляет: 4\n",
    "- Количество дубликатов в `id` датафрейма `geo_data_2` составляет: 4\n",
    "\n",
    "Принято решение оставить данные дубликаты, т.к. нельзя точно выявить природу происхождения данных дубликатов (возможно возникновение дубликатов связано с двумя скважинами в одной локации и т.п.). Количество дубликатов очень мало относительно размера всего датафрейма. Также дубликаты представляют собой уникальные значение признаков, что може тбыть полезно для обучения модели."
   ]
  },
  {
   "cell_type": "markdown",
   "id": "887b9f6e",
   "metadata": {},
   "source": [
    " <a id=\"section3\"></a>\n",
    "### Иследовательский анализ данных."
   ]
  },
  {
   "cell_type": "markdown",
   "id": "352a652c",
   "metadata": {},
   "source": [
    " <a id=\"section3.1\"></a>\n",
    "#### Функция для построения графиков."
   ]
  },
  {
   "cell_type": "code",
   "execution_count": 13,
   "id": "37b405b0",
   "metadata": {},
   "outputs": [],
   "source": [
    "def histo(data):\n",
    "    for column in ['f0', 'f1', 'f2', 'product']:\n",
    "        data[column].plot(kind='hist', bins=100, color='blue', edgecolor='black', figsize=(8,4)) \n",
    "\n",
    "        plt.grid(axis='y', linestyle='--', alpha=0.7)\n",
    "        plt.title(f'Гистограмма {column}') \n",
    "        plt.ylabel('Количество значений')\n",
    "        plt.xlabel(column)\n",
    "\n",
    "        plt.show()"
   ]
  },
  {
   "cell_type": "markdown",
   "id": "c39fb56d",
   "metadata": {},
   "source": [
    " <a id=\"section3.2\"></a>\n",
    "#### Датафрейм `geo_data_0`."
   ]
  },
  {
   "cell_type": "code",
   "execution_count": 14,
   "id": "ebbea363",
   "metadata": {},
   "outputs": [
    {
     "data": {
      "image/png": "[encoded data removed]",
      "text/plain": [
       "<Figure size 576x288 with 1 Axes>"
      ]
     },
     "metadata": {
      "needs_background": "light"
     },
     "output_type": "display_data"
    },
    {
     "data": {
      "image/png": "[encoded data removed]",
      "text/plain": [
       "<Figure size 576x288 with 1 Axes>"
      ]
     },
     "metadata": {
      "needs_background": "light"
     },
     "output_type": "display_data"
    },
    {
     "data": {
      "image/png": "[encoded data removed]",
      "text/plain": [
       "<Figure size 576x288 with 1 Axes>"
      ]
     },
     "metadata": {
      "needs_background": "light"
     },
     "output_type": "display_data"
    },
    {
     "data": {
      "image/png": "[encoded data removed]",
      "text/plain": [
       "<Figure size 576x288 with 1 Axes>"
      ]
     },
     "metadata": {
      "needs_background": "light"
     },
     "output_type": "display_data"
    }
   ],
   "source": [
    "histo(geo_data_0)"
   ]
  },
  {
   "cell_type": "markdown",
   "id": "54f6a2fc",
   "metadata": {},
   "source": [
    "\n",
    "**Выводы по данным гистограммам**\n",
    "\n",
    "На основе гистограмм можно сделать следующие наблюдения:\n",
    "\n",
    "1. **Гистограмма f0**: Распределение демонстрирует несколько пиков, с наибольшей частотой в районе 0.0 и 1.0, а также вторичными пиками около -1.0 и 2.0. Это указывает на мультимодальное распределение, что может свидетельствовать о наличии нескольких различных групп или кластеров в данных.\n",
    "\n",
    "\n",
    "2. **Гистограмма f1**: Также наблюдается мультимодальное распределение с пиками около -0.5, 0.25 и 1.0. Частота здесь ниже по сравнению с f0, с самым высоким пиком около 1750 скважин.\n",
    "\n",
    "\n",
    "3. **Гистограмма f2**: Распределение выглядит как унимодальное, центрированное около 0, с симметричной формой и пиковой частотой около 3000 отсчетов.\n",
    "\n",
    "\n",
    "4. **Гистограмма product**: Показывает мультимодальное распределение с несколькими отчетливыми пиками между 0 и 175, с наибольшими частотами около 60, 80, 110 и 130. \n"
   ]
  },
  {
   "cell_type": "markdown",
   "id": "003acf88",
   "metadata": {},
   "source": [
    "<a id=\"section3.3\"></a>\n",
    "#### Датафрейм `geo_data_1`. "
   ]
  },
  {
   "cell_type": "code",
   "execution_count": 15,
   "id": "213913ea",
   "metadata": {},
   "outputs": [
    {
     "data": {
      "image/png": "[encoded data removed]",
      "text/plain": [
       "<Figure size 576x288 with 1 Axes>"
      ]
     },
     "metadata": {
      "needs_background": "light"
     },
     "output_type": "display_data"
    },
    {
     "data": {
      "image/png": "[encoded data removed]",
      "text/plain": [
       "<Figure size 576x288 with 1 Axes>"
      ]
     },
     "metadata": {
      "needs_background": "light"
     },
     "output_type": "display_data"
    },
    {
     "data": {
      "image/png": "[encoded data removed]",
      "text/plain": [
       "<Figure size 576x288 with 1 Axes>"
      ]
     },
     "metadata": {
      "needs_background": "light"
     },
     "output_type": "display_data"
    },
    {
     "data": {
      "image/png": "[encoded data removed]",
      "text/plain": [
       "<Figure size 576x288 with 1 Axes>"
      ]
     },
     "metadata": {
      "needs_background": "light"
     },
     "output_type": "display_data"
    }
   ],
   "source": [
    "histo(geo_data_1)"
   ]
  },
  {
   "cell_type": "markdown",
   "id": "2f3d9ba2",
   "metadata": {},
   "source": [
    "**Выводы по данным гистограммам**\n",
    "\n",
    "На основе гистограмм можно сделать следующие наблюдения:\n",
    "\n",
    "**Гистограмма f0**: Распределение демонстрирует несколько пиков, с наибольшей частотой в районе 10 и -10. Это указывает на мультимодальное распределение.\n",
    "\n",
    "**Гистограмма f1**: Распределение выглядит как одномодальное, центрированное около -5, с симметричной формой и пиковой частотой около 3500 скважин.\n",
    "\n",
    "**Гистограмма f2**: Распределение состоит только из пиков, с частотой в районе 0, 1, 2, 3 и 4, 5. Все значения признаки расположены вплотную к этим значениям. Распределения признака больше похоже на качественное. \n",
    "\n",
    "**Гистограмма product**: Распределение состоит только из пиков в районе значений 0, 30, 60, 80, 110, 140. Распределение, также, больше похоже на качественное. Количество пиков равно количеству пиков признака f2, что может означать высокую корреляцию, которую рассмотрим в следующей части проекта.\n",
    "\n",
    "\n",
    "\n"
   ]
  },
  {
   "cell_type": "markdown",
   "id": "325d82b2",
   "metadata": {},
   "source": [
    " <a id=\"section3.4\"></a>\n",
    "#### Датафрейм `geo_data_2`."
   ]
  },
  {
   "cell_type": "code",
   "execution_count": 16,
   "id": "9628d1a1",
   "metadata": {},
   "outputs": [
    {
     "data": {
      "image/png": "[encoded data removed]",
      "text/plain": [
       "<Figure size 576x288 with 1 Axes>"
      ]
     },
     "metadata": {
      "needs_background": "light"
     },
     "output_type": "display_data"
    },
    {
     "data": {
      "image/png": "[encoded data removed]",
      "text/plain": [
       "<Figure size 576x288 with 1 Axes>"
      ]
     },
     "metadata": {
      "needs_background": "light"
     },
     "output_type": "display_data"
    },
    {
     "data": {
      "image/png": "[encoded data removed]",
      "text/plain": [
       "<Figure size 576x288 with 1 Axes>"
      ]
     },
     "metadata": {
      "needs_background": "light"
     },
     "output_type": "display_data"
    },
    {
     "data": {
      "image/png": "[encoded data removed]",
      "text/plain": [
       "<Figure size 576x288 with 1 Axes>"
      ]
     },
     "metadata": {
      "needs_background": "light"
     },
     "output_type": "display_data"
    }
   ],
   "source": [
    "histo(geo_data_2)"
   ]
  },
  {
   "cell_type": "markdown",
   "id": "72d46408",
   "metadata": {},
   "source": [
    "**Выводы по данным гистограммам**\n",
    "\n",
    "На основе гистограмм можно сделать следующие наблюдения:\n",
    "\n",
    "**Гистограмма f0**: Распределение демонстрирует один отчетливый пик, с наибольшей частотой в районе 0.0. Это указывает на одномодальное распределение, симметричное относительно центра, с данными, варьирующимися в диапазоне от -8 до 8.\n",
    "\n",
    "**Гистограмма f1**: Распределение также имеет один четкий пик, с наибольшей частотой около 0.0. Оно одномодальное и симметричное, с данными, распределенными в диапазоне от -6 до 8, и пиковая частота достигает около 3500 скважин.\n",
    "\n",
    "**Гистограмма f2**: Распределение показывает один отчетливый пик, с наибольшей частотой около 0.0. Оно одномодальное и симметричное, с данными, варьирующимися от -10 до 15, и пиковая частота составляет около 3000 отсчетов.\n",
    "\n",
    "**Гистограмма product**: Показывает мультимодальное распределение с несколькими отчетливыми пиками между 0 и 175, с наибольшими частотами около 60, 80, 110, 130, и второстепенными пиками в районе 35 и 160.\n",
    "\n",
    "\n"
   ]
  },
  {
   "cell_type": "markdown",
   "id": "09b165f0",
   "metadata": {},
   "source": [
    " <a id=\"section3.5\"></a>\n",
    "#### Промежуточный вывод."
   ]
  },
  {
   "cell_type": "markdown",
   "id": "16960477",
   "metadata": {},
   "source": [
    "\n",
    "На основе анализа гистограмм трёх регионов (`geo_data_0`, `geo_data_1`, `geo_data_2`) можно сделать следующие выводы:\n",
    "\n",
    "- **Различия в распределениях признаков и целевой переменной**: Каждый регион демонстрирует уникальные особенности в распределении признаков `f0`, `f1`, `f2` и целевой переменной `product`. В первом регионе (`geo_data_0`) и третьем регионе (`geo_data_2`) наблюдаются мультимодальные распределения целевой переменной `product`, что указывает на наличие нескольких подгрупп или кластеров в данных. Второй регион (`geo_data_1`) выделяется качественным характером распределения `f2` и `product`, где значения сосредоточены в дискретных пиках, что может быть связано с высокой корреляцией между этими переменными.\n",
    "  \n",
    "\n",
    "- **Потенциальные проблемы для линейной регрессии**: Мультимодальные и дискретные распределения в регионах создают сложности для линейной регрессии, так как она предполагает линейные зависимости и нормальное распределение остатков. Эти особенности могут привести к недостаточной подгонке модели и увеличению ошибок предсказания.\n"
   ]
  },
  {
   "cell_type": "markdown",
   "id": "8da1e4b9",
   "metadata": {},
   "source": [
    " <a id=\"section4\"></a>\n",
    "### Корреляционный анализ данных."
   ]
  },
  {
   "cell_type": "markdown",
   "id": "7dcd4bd1",
   "metadata": {},
   "source": [
    " <a id=\"section4.1\"></a>\n",
    " #### Датафрейм `geo_data_0`."
   ]
  },
  {
   "cell_type": "code",
   "execution_count": 17,
   "id": "c402992e",
   "metadata": {},
   "outputs": [
    {
     "data": {
      "image/png": "[encoded data removed]",
      "text/plain": [
       "<Figure size 576x576 with 2 Axes>"
      ]
     },
     "metadata": {
      "needs_background": "light"
     },
     "output_type": "display_data"
    }
   ],
   "source": [
    "plt.figure(figsize=(8, 8))\n",
    "sns.heatmap(geo_data_0.drop(columns=['id']).phik_matrix(interval_cols=[\n",
    "    'f0', 'f1', 'f2', 'product'\n",
    "    ]), annot=True, cmap='cividis', fmt='.2f')\n",
    "\n",
    "plt.title('Тепловая карта корреляций первого региона')\n",
    "\n",
    "plt.show()"
   ]
  },
  {
   "cell_type": "markdown",
   "id": "2686e859",
   "metadata": {},
   "source": [
    "**Регион 1** (`geo_data_0`)\n",
    "\n",
    "**Корреляция между признаками**:\n",
    "\n",
    "- f0 и f1 имеют сильную положительную корреляцию (0.76), что указывает на значительную взаимосвязь между этими переменными.\n",
    "- f0 и f2, а также f1 и f2 демонстрируют слабую или отсутствующую корреляцию (0.00), что говорит об их независимости.\n",
    "- f2 имеет умеренную положительную корреляцию с product (0.48), тогда как f0 и f1 имеют слабую положительную корреляцию с product (0.22 и 0.25 соответственно).\n",
    "\n",
    "**Вывод**: Высокая корреляция между f0 и f1 может привести к мультиколлинеарности при обучении модели, что негативно скажется на стабильности коэффициентов линейной регрессии. Связь product с признаками относительно слабая, что может затруднить точное предсказание."
   ]
  },
  {
   "cell_type": "markdown",
   "id": "a9c396e5",
   "metadata": {},
   "source": [
    " <a id=\"section4.2\"></a>\n",
    "#### Датафрейм `geo_data_1`."
   ]
  },
  {
   "cell_type": "code",
   "execution_count": 18,
   "id": "c5394718",
   "metadata": {
    "scrolled": true
   },
   "outputs": [
    {
     "data": {
      "image/png": "[encoded data removed]",
      "text/plain": [
       "<Figure size 576x576 with 2 Axes>"
      ]
     },
     "metadata": {
      "needs_background": "light"
     },
     "output_type": "display_data"
    }
   ],
   "source": [
    "plt.figure(figsize=(8, 8))\n",
    "sns.heatmap(geo_data_1.drop(columns=['id']).phik_matrix(interval_cols=[\n",
    "    'f0', 'f1', 'f2', 'product'\n",
    "    ]), annot=True, cmap='cividis', fmt='.2f')\n",
    "\n",
    "plt.title('Тепловая карта корреляций второго региона')\n",
    "\n",
    "plt.show()"
   ]
  },
  {
   "cell_type": "markdown",
   "id": "bea5b850",
   "metadata": {},
   "source": [
    "**Регион 2** (`geo_data_1`)\n",
    "\n",
    "**Корреляция между признаками:**\n",
    "\n",
    "- f0 и f1 имеют слабую положительную корреляцию (0.20), а с f2 корреляция отсутствует (0.00), что указывает на слабую взаимосвязь между этими признаками.\n",
    "\n",
    "- f2 демонстрирует очень сильную положительную корреляцию с product (0.98), что подтверждает гипотезу о высокой линейной зависимости между ними.\n",
    "\n",
    "- f0 и f1 имеют умеренную и слабую положительную корреляцию с product (0.63 и 0.19 соответственно).\n",
    "\n",
    "**вывод**: Высокая корреляция между f2 и product может быть полезной для предсказания, но также создаёт риск мультиколлинеарности, если другие признаки также коррелируют с f2. Слабая связь f0 и f1 с product может снизить общую точность модели, если они не вносят значимого вклада."
   ]
  },
  {
   "cell_type": "markdown",
   "id": "6a6ddb48",
   "metadata": {},
   "source": [
    " <a id=\"section4.3\"></a>\n",
    "#### Датафрейм `geo_data_2`."
   ]
  },
  {
   "cell_type": "code",
   "execution_count": 19,
   "id": "74d140e6",
   "metadata": {
    "scrolled": true
   },
   "outputs": [
    {
     "data": {
      "image/png": "[encoded data removed]",
      "text/plain": [
       "<Figure size 576x576 with 2 Axes>"
      ]
     },
     "metadata": {
      "needs_background": "light"
     },
     "output_type": "display_data"
    }
   ],
   "source": [
    "plt.figure(figsize=(8, 8))\n",
    "sns.heatmap(geo_data_2.drop(columns=['id']).phik_matrix(interval_cols=[\n",
    "    'f0', 'f1', 'f2', 'product'\n",
    "    ]), annot=True, cmap='cividis', fmt='.2f')\n",
    "\n",
    "plt.title('Тепловая карта корреляций третьего региона')\n",
    "\n",
    "plt.show()"
   ]
  },
  {
   "cell_type": "markdown",
   "id": "24751e6e",
   "metadata": {},
   "source": [
    "**Регион 3** (`geo_data_2`)\n",
    "\n",
    "**Корреляция между признаками:**\n",
    "\n",
    "- между входными признаками f0, f1, f2 корреляция отсутствует (0.00), что указывает на независимость между этими переменными.\n",
    "\n",
    "- f2 имеет умеренную положительную корреляцию с product (0.44), тогда как f0 и f1 показывают слабую положительную корреляцию с product (0.20 и 0.22 соответственно).\n",
    "\n",
    "**вывод:** Отсутствие сильной корреляции между признаками снижает риск мультиколлинеарности. Однако слабая связь всех признаков с product может привести к низкой объяснительной способности модели."
   ]
  },
  {
   "cell_type": "markdown",
   "id": "c864358b",
   "metadata": {},
   "source": [
    "#### Промежуточный вывод:"
   ]
  },
  {
   "cell_type": "markdown",
   "id": "1ea1fa56",
   "metadata": {},
   "source": [
    "\n",
    "**Различия между регионами**: Регион 1 характеризуется высокой корреляцией между f0 и f1, регион 2 выделяется сильной зависимостью f2 от product, а регион 3 демонстрирует более равномерную, но слабую корреляцию признаков с целевой переменной.\n",
    "\n",
    "**Проблемы для линейной регрессии:**\n",
    "\n",
    "- В регионе 1 мультиколлинеарность между f0 и f1 может исказить результаты модели.\n",
    "\n",
    "- В регионе 2 высокая корреляция f2 и product может привести к переобучению на эту зависимость, игнорируя вклад других признаков.\n",
    "\n",
    "- В регионе 3 слабая корреляция признаков с product может снизить точность предсказаний.\n",
    "\n",
    "**Влияние на метрику RMSE**: Высокая мультиколлинеарность или слабая связь с целевой переменной могут увеличить RMSE из-за нестабильных коэффициентов или систематических ошибок предсказания.\n"
   ]
  },
  {
   "cell_type": "markdown",
   "id": "ec11c299",
   "metadata": {},
   "source": [
    " <a id=\"section5\"></a>\n",
    "### Обучение моделей."
   ]
  },
  {
   "cell_type": "markdown",
   "id": "c8090056",
   "metadata": {},
   "source": [
    " <a id=\"section5.1\"></a>\n",
    "#### Состовление пайплайна."
   ]
  },
  {
   "cell_type": "code",
   "execution_count": 20,
   "id": "6efdde2a",
   "metadata": {},
   "outputs": [],
   "source": [
    "def model(data):\n",
    "    \n",
    "    X = data.drop(columns=['product', 'id'])\n",
    "    y = data['product']\n",
    "    X_train, X_val, y_train, y_val = train_test_split(\n",
    "        X,\n",
    "        y,\n",
    "        test_size=0.25, \n",
    "        random_state=42\n",
    "    )\n",
    "    \n",
    "    \n",
    "    num_pipeline = Pipeline([\n",
    "        ('poly', PolynomialFeatures(degree=2, include_bias=False)),\n",
    "        ('scaler', 'passthrough')    \n",
    "    ]\n",
    "    )\n",
    "    \n",
    "    preprocessor = ColumnTransformer([\n",
    "        ('num', num_pipeline, X.columns),\n",
    "    ])\n",
    "    \n",
    "    pipeline = Pipeline([\n",
    "        ('preprocessor', preprocessor),\n",
    "        ('selector', SelectKBest(score_func=f_regression)),\n",
    "        ('model', LinearRegression())\n",
    "    ])\n",
    "    \n",
    "    param_dist = {\n",
    "        'model__fit_intercept': CategoricalDistribution([True, False]),  \n",
    "        'model__positive': CategoricalDistribution([True, False]),      \n",
    "        'preprocessor__num__scaler': CategoricalDistribution([StandardScaler(), MinMaxScaler()]),\n",
    "        'selector__k': CategoricalDistribution([3, 5, 7, 'all'])\n",
    "    }\n",
    "    \n",
    "    optuna_search = OptunaSearchCV(\n",
    "        pipeline,\n",
    "        param_distributions=param_dist,\n",
    "        cv=5,\n",
    "        scoring='neg_root_mean_squared_error', \n",
    "        n_trials=100,\n",
    "        random_state=42\n",
    "    )\n",
    "    \n",
    "    optuna_search.fit(X_train, y_train)\n",
    "    \n",
    "    val_score = optuna_search.score(X_val, y_val)\n",
    "    print(\"Лучшие параметры:\", optuna_search.best_params_)\n",
    "    print(\"Лучшее значение RMSE (кросс-валидация):\", -optuna_search.best_score_)\n",
    "    print(\"RMSE на валидационной выборке:\", -val_score)\n",
    "    print(\"средний запас предсказанного сырья:\", optuna_search.predict(X_val).mean())\n",
    "    \n",
    "    predict = optuna_search.predict(X_val)\n",
    "    \n",
    "    errors = y_val - predict\n",
    "    \n",
    "    plt.figure(figsize=(4, 2))\n",
    "    sns.histplot(errors, bins=30, kde=True, color='blue')\n",
    "\n",
    "    \n",
    "    plt.title('Гистограмма распределения ошибок модели', fontsize=9)\n",
    "    plt.xlabel('Ошибка (y_val - predict)', fontsize=6)\n",
    "    plt.ylabel('Количество значений', fontsize=6)\n",
    "\n",
    "    plt.grid(True)\n",
    "    plt.show()\n",
    "    \n",
    "    predict_data = pd.DataFrame({\n",
    "    'product': y_val,\n",
    "    'predict_product': predict\n",
    "    })\n",
    "    \n",
    "    return predict_data\n",
    "    \n",
    "    \n"
   ]
  },
  {
   "cell_type": "markdown",
   "id": "a6150a80",
   "metadata": {},
   "source": [
    " <a id=\"section5.2\"></a>\n",
    "#### Датафрейм `geo_data_0`."
   ]
  },
  {
   "cell_type": "code",
   "execution_count": 21,
   "id": "aefe0050",
   "metadata": {},
   "outputs": [
    {
     "name": "stderr",
     "output_type": "stream",
     "text": [
      "/opt/conda/lib/python3.9/site-packages/optuna/distributions.py:515: UserWarning: Choices for a categorical distribution should be a tuple of None, bool, int, float and str for persistent storage but contains StandardScaler() which is of type StandardScaler.\n",
      "  warnings.warn(message)\n",
      "/opt/conda/lib/python3.9/site-packages/optuna/distributions.py:515: UserWarning: Choices for a categorical distribution should be a tuple of None, bool, int, float and str for persistent storage but contains MinMaxScaler() which is of type MinMaxScaler.\n",
      "  warnings.warn(message)\n",
      "/tmp/ipykernel_49/629422226.py:36: ExperimentalWarning: OptunaSearchCV is experimental (supported from v0.17.0). The interface can change in the future.\n",
      "  optuna_search = OptunaSearchCV(\n",
      "[I 2025-05-16 10:47:48,224] A new study created in memory with name: no-name-247865ac-1a8d-4969-84f4-d63bd69c5645\n",
      "[I 2025-05-16 10:47:49,850] Trial 0 finished with value: -99.93145141601562 and parameters: {'model__fit_intercept': False, 'model__positive': False, 'preprocessor__num__scaler': StandardScaler(), 'selector__k': 'all'}. Best is trial 0 with value: -99.93145141601562.\n",
      "[I 2025-05-16 10:47:51,151] Trial 1 finished with value: -38.37213828459463 and parameters: {'model__fit_intercept': False, 'model__positive': True, 'preprocessor__num__scaler': MinMaxScaler(), 'selector__k': 5}. Best is trial 1 with value: -38.37213828459463.\n",
      "[I 2025-05-16 10:47:52,340] Trial 2 finished with value: -38.5708825238863 and parameters: {'model__fit_intercept': False, 'model__positive': True, 'preprocessor__num__scaler': MinMaxScaler(), 'selector__k': 3}. Best is trial 1 with value: -38.37213828459463.\n",
      "[I 2025-05-16 10:47:53,749] Trial 3 finished with value: -99.94776306152343 and parameters: {'model__fit_intercept': False, 'model__positive': False, 'preprocessor__num__scaler': StandardScaler(), 'selector__k': 5}. Best is trial 1 with value: -38.37213828459463.\n",
      "[I 2025-05-16 10:47:55,342] Trial 4 finished with value: -37.73331527709961 and parameters: {'model__fit_intercept': False, 'model__positive': False, 'preprocessor__num__scaler': MinMaxScaler(), 'selector__k': 'all'}. Best is trial 4 with value: -37.73331527709961.\n",
      "[I 2025-05-16 10:47:56,756] Trial 5 finished with value: -38.2193060708626 and parameters: {'model__fit_intercept': True, 'model__positive': True, 'preprocessor__num__scaler': StandardScaler(), 'selector__k': 'all'}. Best is trial 4 with value: -37.73331527709961.\n",
      "[I 2025-05-16 10:47:58,250] Trial 6 finished with value: -37.707794952392575 and parameters: {'model__fit_intercept': True, 'model__positive': False, 'preprocessor__num__scaler': StandardScaler(), 'selector__k': 5}. Best is trial 6 with value: -37.707794952392575.\n",
      "[I 2025-05-16 10:47:59,563] Trial 7 finished with value: -38.56793926344591 and parameters: {'model__fit_intercept': True, 'model__positive': True, 'preprocessor__num__scaler': MinMaxScaler(), 'selector__k': 3}. Best is trial 6 with value: -37.707794952392575.\n",
      "[I 2025-05-16 10:48:00,752] Trial 8 finished with value: -38.570883178710936 and parameters: {'model__fit_intercept': False, 'model__positive': False, 'preprocessor__num__scaler': MinMaxScaler(), 'selector__k': 3}. Best is trial 6 with value: -37.707794952392575.\n",
      "[I 2025-05-16 10:48:02,247] Trial 9 finished with value: -37.673003387451175 and parameters: {'model__fit_intercept': True, 'model__positive': False, 'preprocessor__num__scaler': MinMaxScaler(), 'selector__k': 7}. Best is trial 9 with value: -37.673003387451175.\n",
      "[I 2025-05-16 10:48:03,757] Trial 10 finished with value: -37.673003387451175 and parameters: {'model__fit_intercept': True, 'model__positive': False, 'preprocessor__num__scaler': MinMaxScaler(), 'selector__k': 7}. Best is trial 9 with value: -37.673003387451175.\n",
      "[I 2025-05-16 10:48:05,253] Trial 11 finished with value: -37.673003387451175 and parameters: {'model__fit_intercept': True, 'model__positive': False, 'preprocessor__num__scaler': MinMaxScaler(), 'selector__k': 7}. Best is trial 9 with value: -37.673003387451175.\n",
      "[I 2025-05-16 10:48:06,758] Trial 12 finished with value: -37.673003387451175 and parameters: {'model__fit_intercept': True, 'model__positive': False, 'preprocessor__num__scaler': MinMaxScaler(), 'selector__k': 7}. Best is trial 9 with value: -37.673003387451175.\n",
      "[I 2025-05-16 10:48:08,355] Trial 13 finished with value: -37.673003387451175 and parameters: {'model__fit_intercept': True, 'model__positive': False, 'preprocessor__num__scaler': MinMaxScaler(), 'selector__k': 7}. Best is trial 9 with value: -37.673003387451175.\n",
      "[I 2025-05-16 10:48:09,948] Trial 14 finished with value: -37.673003387451175 and parameters: {'model__fit_intercept': True, 'model__positive': False, 'preprocessor__num__scaler': MinMaxScaler(), 'selector__k': 7}. Best is trial 9 with value: -37.673003387451175.\n",
      "[I 2025-05-16 10:48:11,363] Trial 15 finished with value: -37.673003387451175 and parameters: {'model__fit_intercept': True, 'model__positive': False, 'preprocessor__num__scaler': MinMaxScaler(), 'selector__k': 7}. Best is trial 9 with value: -37.673003387451175.\n",
      "[I 2025-05-16 10:48:12,844] Trial 16 finished with value: -37.673003387451175 and parameters: {'model__fit_intercept': True, 'model__positive': False, 'preprocessor__num__scaler': MinMaxScaler(), 'selector__k': 7}. Best is trial 9 with value: -37.673003387451175.\n",
      "[I 2025-05-16 10:48:14,364] Trial 17 finished with value: -37.673003387451175 and parameters: {'model__fit_intercept': True, 'model__positive': False, 'preprocessor__num__scaler': MinMaxScaler(), 'selector__k': 7}. Best is trial 9 with value: -37.673003387451175.\n",
      "[I 2025-05-16 10:48:16,054] Trial 18 finished with value: -38.2193060708626 and parameters: {'model__fit_intercept': True, 'model__positive': True, 'preprocessor__num__scaler': StandardScaler(), 'selector__k': 7}. Best is trial 9 with value: -37.673003387451175.\n",
      "[I 2025-05-16 10:48:17,647] Trial 19 finished with value: -37.673003387451175 and parameters: {'model__fit_intercept': True, 'model__positive': False, 'preprocessor__num__scaler': MinMaxScaler(), 'selector__k': 7}. Best is trial 9 with value: -37.673003387451175.\n",
      "[I 2025-05-16 10:48:19,244] Trial 20 finished with value: -37.673003387451175 and parameters: {'model__fit_intercept': True, 'model__positive': False, 'preprocessor__num__scaler': MinMaxScaler(), 'selector__k': 7}. Best is trial 9 with value: -37.673003387451175.\n",
      "[I 2025-05-16 10:48:20,846] Trial 21 finished with value: -37.673003387451175 and parameters: {'model__fit_intercept': True, 'model__positive': False, 'preprocessor__num__scaler': MinMaxScaler(), 'selector__k': 7}. Best is trial 9 with value: -37.673003387451175.\n",
      "[I 2025-05-16 10:48:22,351] Trial 22 finished with value: -37.673003387451175 and parameters: {'model__fit_intercept': True, 'model__positive': False, 'preprocessor__num__scaler': MinMaxScaler(), 'selector__k': 7}. Best is trial 9 with value: -37.673003387451175.\n",
      "[I 2025-05-16 10:48:24,166] Trial 23 finished with value: -37.673003387451175 and parameters: {'model__fit_intercept': True, 'model__positive': False, 'preprocessor__num__scaler': MinMaxScaler(), 'selector__k': 7}. Best is trial 9 with value: -37.673003387451175.\n",
      "[I 2025-05-16 10:48:25,954] Trial 24 finished with value: -37.673003387451175 and parameters: {'model__fit_intercept': True, 'model__positive': False, 'preprocessor__num__scaler': MinMaxScaler(), 'selector__k': 7}. Best is trial 9 with value: -37.673003387451175.\n",
      "[I 2025-05-16 10:48:27,365] Trial 25 finished with value: -37.673003387451175 and parameters: {'model__fit_intercept': True, 'model__positive': False, 'preprocessor__num__scaler': MinMaxScaler(), 'selector__k': 7}. Best is trial 9 with value: -37.673003387451175.\n",
      "[I 2025-05-16 10:48:29,057] Trial 26 finished with value: -37.674685668945315 and parameters: {'model__fit_intercept': True, 'model__positive': False, 'preprocessor__num__scaler': MinMaxScaler(), 'selector__k': 'all'}. Best is trial 9 with value: -37.673003387451175.\n",
      "[I 2025-05-16 10:48:30,567] Trial 27 finished with value: -38.36795992832783 and parameters: {'model__fit_intercept': True, 'model__positive': True, 'preprocessor__num__scaler': StandardScaler(), 'selector__k': 5}. Best is trial 9 with value: -37.673003387451175.\n",
      "[I 2025-05-16 10:48:31,854] Trial 28 finished with value: -38.56793899536133 and parameters: {'model__fit_intercept': True, 'model__positive': False, 'preprocessor__num__scaler': MinMaxScaler(), 'selector__k': 3}. Best is trial 9 with value: -37.673003387451175.\n",
      "[I 2025-05-16 10:48:33,456] Trial 29 finished with value: -99.93145141601562 and parameters: {'model__fit_intercept': False, 'model__positive': False, 'preprocessor__num__scaler': StandardScaler(), 'selector__k': 'all'}. Best is trial 9 with value: -37.673003387451175.\n",
      "[I 2025-05-16 10:48:34,758] Trial 30 finished with value: -37.673003387451175 and parameters: {'model__fit_intercept': True, 'model__positive': False, 'preprocessor__num__scaler': MinMaxScaler(), 'selector__k': 7}. Best is trial 9 with value: -37.673003387451175.\n",
      "[I 2025-05-16 10:48:36,150] Trial 31 finished with value: -37.673003387451175 and parameters: {'model__fit_intercept': True, 'model__positive': False, 'preprocessor__num__scaler': MinMaxScaler(), 'selector__k': 7}. Best is trial 9 with value: -37.673003387451175.\n",
      "[I 2025-05-16 10:48:37,551] Trial 32 finished with value: -37.673003387451175 and parameters: {'model__fit_intercept': True, 'model__positive': False, 'preprocessor__num__scaler': MinMaxScaler(), 'selector__k': 7}. Best is trial 9 with value: -37.673003387451175.\n",
      "[I 2025-05-16 10:48:39,159] Trial 33 finished with value: -37.673003387451175 and parameters: {'model__fit_intercept': True, 'model__positive': False, 'preprocessor__num__scaler': MinMaxScaler(), 'selector__k': 7}. Best is trial 9 with value: -37.673003387451175.\n",
      "[I 2025-05-16 10:48:40,551] Trial 34 finished with value: -38.37213828459463 and parameters: {'model__fit_intercept': False, 'model__positive': True, 'preprocessor__num__scaler': MinMaxScaler(), 'selector__k': 5}. Best is trial 9 with value: -37.673003387451175.\n",
      "[I 2025-05-16 10:48:41,844] Trial 35 finished with value: -37.75724487304687 and parameters: {'model__fit_intercept': False, 'model__positive': False, 'preprocessor__num__scaler': MinMaxScaler(), 'selector__k': 7}. Best is trial 9 with value: -37.673003387451175.\n",
      "[I 2025-05-16 10:48:43,040] Trial 36 finished with value: -38.56793899536133 and parameters: {'model__fit_intercept': True, 'model__positive': False, 'preprocessor__num__scaler': MinMaxScaler(), 'selector__k': 3}. Best is trial 9 with value: -37.673003387451175.\n",
      "[I 2025-05-16 10:48:44,459] Trial 37 finished with value: -38.2193060708626 and parameters: {'model__fit_intercept': True, 'model__positive': True, 'preprocessor__num__scaler': StandardScaler(), 'selector__k': 'all'}. Best is trial 9 with value: -37.673003387451175.\n",
      "[I 2025-05-16 10:48:45,461] Trial 38 finished with value: -37.81482086181641 and parameters: {'model__fit_intercept': False, 'model__positive': False, 'preprocessor__num__scaler': MinMaxScaler(), 'selector__k': 5}. Best is trial 9 with value: -37.673003387451175.\n",
      "[I 2025-05-16 10:48:47,144] Trial 39 finished with value: -37.67300262451172 and parameters: {'model__fit_intercept': True, 'model__positive': False, 'preprocessor__num__scaler': StandardScaler(), 'selector__k': 7}. Best is trial 39 with value: -37.67300262451172.\n",
      "[I 2025-05-16 10:48:48,858] Trial 40 finished with value: -38.2193060708626 and parameters: {'model__fit_intercept': True, 'model__positive': True, 'preprocessor__num__scaler': StandardScaler(), 'selector__k': 7}. Best is trial 39 with value: -37.67300262451172.\n",
      "[I 2025-05-16 10:48:50,452] Trial 41 finished with value: -37.67300262451172 and parameters: {'model__fit_intercept': True, 'model__positive': False, 'preprocessor__num__scaler': StandardScaler(), 'selector__k': 7}. Best is trial 39 with value: -37.67300262451172.\n",
      "[I 2025-05-16 10:48:51,955] Trial 42 finished with value: -37.67300262451172 and parameters: {'model__fit_intercept': True, 'model__positive': False, 'preprocessor__num__scaler': StandardScaler(), 'selector__k': 7}. Best is trial 39 with value: -37.67300262451172.\n",
      "[I 2025-05-16 10:48:53,763] Trial 43 finished with value: -37.67300262451172 and parameters: {'model__fit_intercept': True, 'model__positive': False, 'preprocessor__num__scaler': StandardScaler(), 'selector__k': 7}. Best is trial 39 with value: -37.67300262451172.\n",
      "[I 2025-05-16 10:48:55,244] Trial 44 finished with value: -38.56793899536133 and parameters: {'model__fit_intercept': True, 'model__positive': False, 'preprocessor__num__scaler': StandardScaler(), 'selector__k': 3}. Best is trial 39 with value: -37.67300262451172.\n",
      "[I 2025-05-16 10:48:57,154] Trial 45 finished with value: -37.67300262451172 and parameters: {'model__fit_intercept': True, 'model__positive': False, 'preprocessor__num__scaler': StandardScaler(), 'selector__k': 7}. Best is trial 39 with value: -37.67300262451172.\n",
      "[I 2025-05-16 10:48:58,848] Trial 46 finished with value: -99.93123779296874 and parameters: {'model__fit_intercept': False, 'model__positive': False, 'preprocessor__num__scaler': StandardScaler(), 'selector__k': 7}. Best is trial 39 with value: -37.67300262451172.\n",
      "[I 2025-05-16 10:49:00,549] Trial 47 finished with value: -37.67300262451172 and parameters: {'model__fit_intercept': True, 'model__positive': False, 'preprocessor__num__scaler': StandardScaler(), 'selector__k': 7}. Best is trial 39 with value: -37.67300262451172.\n",
      "[I 2025-05-16 10:49:02,443] Trial 48 finished with value: -37.674685668945315 and parameters: {'model__fit_intercept': True, 'model__positive': False, 'preprocessor__num__scaler': StandardScaler(), 'selector__k': 'all'}. Best is trial 39 with value: -37.67300262451172.\n",
      "[I 2025-05-16 10:49:03,855] Trial 49 finished with value: -37.707794952392575 and parameters: {'model__fit_intercept': True, 'model__positive': False, 'preprocessor__num__scaler': StandardScaler(), 'selector__k': 5}. Best is trial 39 with value: -37.67300262451172.\n",
      "[I 2025-05-16 10:49:05,564] Trial 50 finished with value: -37.67300262451172 and parameters: {'model__fit_intercept': True, 'model__positive': False, 'preprocessor__num__scaler': StandardScaler(), 'selector__k': 7}. Best is trial 39 with value: -37.67300262451172.\n",
      "[I 2025-05-16 10:49:07,157] Trial 51 finished with value: -37.67300262451172 and parameters: {'model__fit_intercept': True, 'model__positive': False, 'preprocessor__num__scaler': StandardScaler(), 'selector__k': 7}. Best is trial 39 with value: -37.67300262451172.\n",
      "[I 2025-05-16 10:49:08,762] Trial 52 finished with value: -37.67300262451172 and parameters: {'model__fit_intercept': True, 'model__positive': False, 'preprocessor__num__scaler': StandardScaler(), 'selector__k': 7}. Best is trial 39 with value: -37.67300262451172.\n",
      "[I 2025-05-16 10:49:10,349] Trial 53 finished with value: -37.67300262451172 and parameters: {'model__fit_intercept': True, 'model__positive': False, 'preprocessor__num__scaler': StandardScaler(), 'selector__k': 7}. Best is trial 39 with value: -37.67300262451172.\n",
      "[I 2025-05-16 10:49:11,950] Trial 54 finished with value: -37.67300262451172 and parameters: {'model__fit_intercept': True, 'model__positive': False, 'preprocessor__num__scaler': StandardScaler(), 'selector__k': 7}. Best is trial 39 with value: -37.67300262451172.\n",
      "[I 2025-05-16 10:49:13,540] Trial 55 finished with value: -37.67300262451172 and parameters: {'model__fit_intercept': True, 'model__positive': False, 'preprocessor__num__scaler': StandardScaler(), 'selector__k': 7}. Best is trial 39 with value: -37.67300262451172.\n",
      "[I 2025-05-16 10:49:15,240] Trial 56 finished with value: -38.2193060708626 and parameters: {'model__fit_intercept': True, 'model__positive': True, 'preprocessor__num__scaler': StandardScaler(), 'selector__k': 7}. Best is trial 39 with value: -37.67300262451172.\n",
      "[I 2025-05-16 10:49:16,758] Trial 57 finished with value: -37.67300262451172 and parameters: {'model__fit_intercept': True, 'model__positive': False, 'preprocessor__num__scaler': StandardScaler(), 'selector__k': 7}. Best is trial 39 with value: -37.67300262451172.\n",
      "[I 2025-05-16 10:49:18,649] Trial 58 finished with value: -37.67300262451172 and parameters: {'model__fit_intercept': True, 'model__positive': False, 'preprocessor__num__scaler': StandardScaler(), 'selector__k': 7}. Best is trial 39 with value: -37.67300262451172.\n",
      "[I 2025-05-16 10:49:20,254] Trial 59 finished with value: -38.56793899536133 and parameters: {'model__fit_intercept': True, 'model__positive': False, 'preprocessor__num__scaler': StandardScaler(), 'selector__k': 3}. Best is trial 39 with value: -37.67300262451172.\n",
      "[I 2025-05-16 10:49:21,868] Trial 60 finished with value: -99.93123779296874 and parameters: {'model__fit_intercept': False, 'model__positive': False, 'preprocessor__num__scaler': StandardScaler(), 'selector__k': 7}. Best is trial 39 with value: -37.67300262451172.\n",
      "[I 2025-05-16 10:49:23,459] Trial 61 finished with value: -37.67300262451172 and parameters: {'model__fit_intercept': True, 'model__positive': False, 'preprocessor__num__scaler': StandardScaler(), 'selector__k': 7}. Best is trial 39 with value: -37.67300262451172.\n",
      "[I 2025-05-16 10:49:25,055] Trial 62 finished with value: -37.67300262451172 and parameters: {'model__fit_intercept': True, 'model__positive': False, 'preprocessor__num__scaler': StandardScaler(), 'selector__k': 7}. Best is trial 39 with value: -37.67300262451172.\n",
      "[I 2025-05-16 10:49:26,740] Trial 63 finished with value: -37.67300262451172 and parameters: {'model__fit_intercept': True, 'model__positive': False, 'preprocessor__num__scaler': StandardScaler(), 'selector__k': 7}. Best is trial 39 with value: -37.67300262451172.\n",
      "[I 2025-05-16 10:49:28,463] Trial 64 finished with value: -37.67300262451172 and parameters: {'model__fit_intercept': True, 'model__positive': False, 'preprocessor__num__scaler': StandardScaler(), 'selector__k': 7}. Best is trial 39 with value: -37.67300262451172.\n",
      "[I 2025-05-16 10:49:29,975] Trial 65 finished with value: -37.67300262451172 and parameters: {'model__fit_intercept': True, 'model__positive': False, 'preprocessor__num__scaler': StandardScaler(), 'selector__k': 7}. Best is trial 39 with value: -37.67300262451172.\n",
      "[I 2025-05-16 10:49:31,540] Trial 66 finished with value: -37.67300262451172 and parameters: {'model__fit_intercept': True, 'model__positive': False, 'preprocessor__num__scaler': StandardScaler(), 'selector__k': 7}. Best is trial 39 with value: -37.67300262451172.\n",
      "[I 2025-05-16 10:49:33,175] Trial 67 finished with value: -37.67300262451172 and parameters: {'model__fit_intercept': True, 'model__positive': False, 'preprocessor__num__scaler': StandardScaler(), 'selector__k': 7}. Best is trial 39 with value: -37.67300262451172.\n",
      "[I 2025-05-16 10:49:34,766] Trial 68 finished with value: -37.67300262451172 and parameters: {'model__fit_intercept': True, 'model__positive': False, 'preprocessor__num__scaler': StandardScaler(), 'selector__k': 7}. Best is trial 39 with value: -37.67300262451172.\n",
      "[I 2025-05-16 10:49:36,262] Trial 69 finished with value: -38.2193060708626 and parameters: {'model__fit_intercept': True, 'model__positive': True, 'preprocessor__num__scaler': StandardScaler(), 'selector__k': 'all'}. Best is trial 39 with value: -37.67300262451172.\n",
      "[I 2025-05-16 10:49:37,844] Trial 70 finished with value: -37.67300262451172 and parameters: {'model__fit_intercept': True, 'model__positive': False, 'preprocessor__num__scaler': StandardScaler(), 'selector__k': 7}. Best is trial 39 with value: -37.67300262451172.\n",
      "[I 2025-05-16 10:49:39,365] Trial 71 finished with value: -37.67300262451172 and parameters: {'model__fit_intercept': True, 'model__positive': False, 'preprocessor__num__scaler': StandardScaler(), 'selector__k': 7}. Best is trial 39 with value: -37.67300262451172.\n",
      "[I 2025-05-16 10:49:40,948] Trial 72 finished with value: -37.67300262451172 and parameters: {'model__fit_intercept': True, 'model__positive': False, 'preprocessor__num__scaler': StandardScaler(), 'selector__k': 7}. Best is trial 39 with value: -37.67300262451172.\n",
      "[I 2025-05-16 10:49:42,652] Trial 73 finished with value: -37.67300262451172 and parameters: {'model__fit_intercept': True, 'model__positive': False, 'preprocessor__num__scaler': StandardScaler(), 'selector__k': 7}. Best is trial 39 with value: -37.67300262451172.\n",
      "[I 2025-05-16 10:49:44,360] Trial 74 finished with value: -37.67300262451172 and parameters: {'model__fit_intercept': True, 'model__positive': False, 'preprocessor__num__scaler': StandardScaler(), 'selector__k': 7}. Best is trial 39 with value: -37.67300262451172.\n",
      "[I 2025-05-16 10:49:46,060] Trial 75 finished with value: -37.707794952392575 and parameters: {'model__fit_intercept': True, 'model__positive': False, 'preprocessor__num__scaler': StandardScaler(), 'selector__k': 5}. Best is trial 39 with value: -37.67300262451172.\n",
      "[I 2025-05-16 10:49:47,648] Trial 76 finished with value: -37.67300262451172 and parameters: {'model__fit_intercept': True, 'model__positive': False, 'preprocessor__num__scaler': StandardScaler(), 'selector__k': 7}. Best is trial 39 with value: -37.67300262451172.\n",
      "[I 2025-05-16 10:49:49,351] Trial 77 finished with value: -37.67300262451172 and parameters: {'model__fit_intercept': True, 'model__positive': False, 'preprocessor__num__scaler': StandardScaler(), 'selector__k': 7}. Best is trial 39 with value: -37.67300262451172.\n",
      "[I 2025-05-16 10:49:50,850] Trial 78 finished with value: -100.27133636474609 and parameters: {'model__fit_intercept': False, 'model__positive': False, 'preprocessor__num__scaler': StandardScaler(), 'selector__k': 3}. Best is trial 39 with value: -37.67300262451172.\n",
      "[I 2025-05-16 10:49:52,354] Trial 79 finished with value: -37.67300262451172 and parameters: {'model__fit_intercept': True, 'model__positive': False, 'preprocessor__num__scaler': StandardScaler(), 'selector__k': 7}. Best is trial 39 with value: -37.67300262451172.\n",
      "[I 2025-05-16 10:49:53,951] Trial 80 finished with value: -38.2193060708626 and parameters: {'model__fit_intercept': True, 'model__positive': True, 'preprocessor__num__scaler': StandardScaler(), 'selector__k': 7}. Best is trial 39 with value: -37.67300262451172.\n",
      "[I 2025-05-16 10:49:55,639] Trial 81 finished with value: -37.67300262451172 and parameters: {'model__fit_intercept': True, 'model__positive': False, 'preprocessor__num__scaler': StandardScaler(), 'selector__k': 7}. Best is trial 39 with value: -37.67300262451172.\n",
      "[I 2025-05-16 10:49:57,243] Trial 82 finished with value: -37.67300262451172 and parameters: {'model__fit_intercept': True, 'model__positive': False, 'preprocessor__num__scaler': StandardScaler(), 'selector__k': 7}. Best is trial 39 with value: -37.67300262451172.\n",
      "[I 2025-05-16 10:49:58,959] Trial 83 finished with value: -37.67300262451172 and parameters: {'model__fit_intercept': True, 'model__positive': False, 'preprocessor__num__scaler': StandardScaler(), 'selector__k': 7}. Best is trial 39 with value: -37.67300262451172.\n",
      "[I 2025-05-16 10:50:00,540] Trial 84 finished with value: -37.67300262451172 and parameters: {'model__fit_intercept': True, 'model__positive': False, 'preprocessor__num__scaler': StandardScaler(), 'selector__k': 7}. Best is trial 39 with value: -37.67300262451172.\n",
      "[I 2025-05-16 10:50:02,056] Trial 85 finished with value: -37.67300262451172 and parameters: {'model__fit_intercept': True, 'model__positive': False, 'preprocessor__num__scaler': StandardScaler(), 'selector__k': 7}. Best is trial 39 with value: -37.67300262451172.\n",
      "[I 2025-05-16 10:50:03,643] Trial 86 finished with value: -37.674685668945315 and parameters: {'model__fit_intercept': True, 'model__positive': False, 'preprocessor__num__scaler': StandardScaler(), 'selector__k': 'all'}. Best is trial 39 with value: -37.67300262451172.\n",
      "[I 2025-05-16 10:50:05,158] Trial 87 finished with value: -37.67300262451172 and parameters: {'model__fit_intercept': True, 'model__positive': False, 'preprocessor__num__scaler': StandardScaler(), 'selector__k': 7}. Best is trial 39 with value: -37.67300262451172.\n",
      "[I 2025-05-16 10:50:06,744] Trial 88 finished with value: -37.707794952392575 and parameters: {'model__fit_intercept': True, 'model__positive': False, 'preprocessor__num__scaler': StandardScaler(), 'selector__k': 5}. Best is trial 39 with value: -37.67300262451172.\n",
      "[I 2025-05-16 10:50:08,358] Trial 89 finished with value: -99.93123779296874 and parameters: {'model__fit_intercept': False, 'model__positive': False, 'preprocessor__num__scaler': StandardScaler(), 'selector__k': 7}. Best is trial 39 with value: -37.67300262451172.\n",
      "[I 2025-05-16 10:50:09,955] Trial 90 finished with value: -37.67300262451172 and parameters: {'model__fit_intercept': True, 'model__positive': False, 'preprocessor__num__scaler': StandardScaler(), 'selector__k': 7}. Best is trial 39 with value: -37.67300262451172.\n",
      "[I 2025-05-16 10:50:11,553] Trial 91 finished with value: -37.67300262451172 and parameters: {'model__fit_intercept': True, 'model__positive': False, 'preprocessor__num__scaler': StandardScaler(), 'selector__k': 7}. Best is trial 39 with value: -37.67300262451172.\n",
      "[I 2025-05-16 10:50:13,258] Trial 92 finished with value: -37.67300262451172 and parameters: {'model__fit_intercept': True, 'model__positive': False, 'preprocessor__num__scaler': StandardScaler(), 'selector__k': 7}. Best is trial 39 with value: -37.67300262451172.\n",
      "[I 2025-05-16 10:50:14,852] Trial 93 finished with value: -37.67300262451172 and parameters: {'model__fit_intercept': True, 'model__positive': False, 'preprocessor__num__scaler': StandardScaler(), 'selector__k': 7}. Best is trial 39 with value: -37.67300262451172.\n",
      "[I 2025-05-16 10:50:16,537] Trial 94 finished with value: -37.67300262451172 and parameters: {'model__fit_intercept': True, 'model__positive': False, 'preprocessor__num__scaler': StandardScaler(), 'selector__k': 7}. Best is trial 39 with value: -37.67300262451172.\n",
      "[I 2025-05-16 10:50:17,968] Trial 95 finished with value: -37.67300262451172 and parameters: {'model__fit_intercept': True, 'model__positive': False, 'preprocessor__num__scaler': StandardScaler(), 'selector__k': 7}. Best is trial 39 with value: -37.67300262451172.\n",
      "[I 2025-05-16 10:50:19,545] Trial 96 finished with value: -37.67300262451172 and parameters: {'model__fit_intercept': True, 'model__positive': False, 'preprocessor__num__scaler': StandardScaler(), 'selector__k': 7}. Best is trial 39 with value: -37.67300262451172.\n",
      "[I 2025-05-16 10:50:20,948] Trial 97 finished with value: -38.56793924450098 and parameters: {'model__fit_intercept': True, 'model__positive': True, 'preprocessor__num__scaler': StandardScaler(), 'selector__k': 3}. Best is trial 39 with value: -37.67300262451172.\n",
      "[I 2025-05-16 10:50:22,555] Trial 98 finished with value: -37.67300262451172 and parameters: {'model__fit_intercept': True, 'model__positive': False, 'preprocessor__num__scaler': StandardScaler(), 'selector__k': 7}. Best is trial 39 with value: -37.67300262451172.\n",
      "[I 2025-05-16 10:50:24,144] Trial 99 finished with value: -37.67300262451172 and parameters: {'model__fit_intercept': True, 'model__positive': False, 'preprocessor__num__scaler': StandardScaler(), 'selector__k': 7}. Best is trial 39 with value: -37.67300262451172.\n"
     ]
    },
    {
     "name": "stdout",
     "output_type": "stream",
     "text": [
      "Лучшие параметры: {'model__fit_intercept': True, 'model__positive': False, 'preprocessor__num__scaler': StandardScaler(), 'selector__k': 7}\n",
      "Лучшее значение RMSE (кросс-валидация): 37.67300262451172\n",
      "RMSE на валидационной выборке: 37.75632095336914\n",
      "средний запас предсказанного сырья: 92.4007\n"
     ]
    },
    {
     "data": {
      "image/png": "[encoded data removed]",
      "text/plain": [
       "<Figure size 288x144 with 1 Axes>"
      ]
     },
     "metadata": {
      "needs_background": "light"
     },
     "output_type": "display_data"
    }
   ],
   "source": [
    "geo_0_predict = model(geo_data_0)"
   ]
  },
  {
   "cell_type": "markdown",
   "id": "b38d7dfa",
   "metadata": {},
   "source": [
    "**Регион 1** (`geo_data_0`)\n",
    "- **Лучшие параметры**:\n",
    "  - `fit_intercept=True`: Модель включает свободный член, что позволяет лучше адаптироваться к данным.\n",
    "  - `positive=False`: Коэффициенты могут быть как положительными, так и отрицательными.\n",
    "  - `scaler=MinMaxScaler()`: Используется масштабирование признаков в диапазон [0, 1], что может быть полезно для данных с разными масштабами.\n",
    "  - `k=7`: Выбрано 7 признаков для модели, что указывает на отбор признаков.\n",
    "- **RMSE**:\n",
    "  - Кросс-валидация: 37.67\n",
    "  - Валидационная выборка: 37.76\n",
    "  - Разница между RMSE на кросс-валидации и валидационной выборке минимальна, что говорит о стабильности модели и отсутствии переобучения.\n",
    "- **Средний запас предсказанного сырья**: 92.40\n",
    "- **Вывод**:\n",
    "  - Модель демонстрирует высокое значение RMSE, что может быть связано с мультимодальным распределением признаков и целевой переменной, а также с умеренной корреляцией между признаками и `product`.\n",
    "  - Средний запас сырья относительно высокий, но ошибка предсказания (RMSE) значительная, что снижает надёжность прогнозов.\n"
   ]
  },
  {
   "cell_type": "markdown",
   "id": "a2c767b7",
   "metadata": {},
   "source": [
    " <a id=\"section5.3\"></a>\n",
    "#### Датафрейм `geo_data_1`."
   ]
  },
  {
   "cell_type": "code",
   "execution_count": 22,
   "id": "3a2fe6b7",
   "metadata": {
    "scrolled": true
   },
   "outputs": [
    {
     "name": "stderr",
     "output_type": "stream",
     "text": [
      "/opt/conda/lib/python3.9/site-packages/optuna/distributions.py:515: UserWarning: Choices for a categorical distribution should be a tuple of None, bool, int, float and str for persistent storage but contains StandardScaler() which is of type StandardScaler.\n",
      "  warnings.warn(message)\n",
      "/opt/conda/lib/python3.9/site-packages/optuna/distributions.py:515: UserWarning: Choices for a categorical distribution should be a tuple of None, bool, int, float and str for persistent storage but contains MinMaxScaler() which is of type MinMaxScaler.\n",
      "  warnings.warn(message)\n",
      "/tmp/ipykernel_49/629422226.py:36: ExperimentalWarning: OptunaSearchCV is experimental (supported from v0.17.0). The interface can change in the future.\n",
      "  optuna_search = OptunaSearchCV(\n",
      "[I 2025-05-16 10:50:25,379] A new study created in memory with name: no-name-43c56aae-2615-4283-a3fd-b71a45951781\n",
      "[I 2025-05-16 10:50:26,658] Trial 0 finished with value: -68.86399536132812 and parameters: {'model__fit_intercept': False, 'model__positive': False, 'preprocessor__num__scaler': StandardScaler(), 'selector__k': 'all'}. Best is trial 0 with value: -68.86399536132812.\n",
      "[I 2025-05-16 10:50:28,055] Trial 1 finished with value: -1.6234856881944075 and parameters: {'model__fit_intercept': False, 'model__positive': True, 'preprocessor__num__scaler': MinMaxScaler(), 'selector__k': 5}. Best is trial 1 with value: -1.6234856881944075.\n",
      "[I 2025-05-16 10:50:29,348] Trial 2 finished with value: -1.6234856881944075 and parameters: {'model__fit_intercept': False, 'model__positive': True, 'preprocessor__num__scaler': MinMaxScaler(), 'selector__k': 3}. Best is trial 1 with value: -1.6234856881944075.\n",
      "[I 2025-05-16 10:50:30,863] Trial 3 finished with value: -68.86401672363282 and parameters: {'model__fit_intercept': False, 'model__positive': False, 'preprocessor__num__scaler': StandardScaler(), 'selector__k': 5}. Best is trial 1 with value: -1.6234856881944075.\n",
      "[I 2025-05-16 10:50:32,548] Trial 4 finished with value: -0.9642311811447144 and parameters: {'model__fit_intercept': False, 'model__positive': False, 'preprocessor__num__scaler': MinMaxScaler(), 'selector__k': 'all'}. Best is trial 4 with value: -0.9642311811447144.\n",
      "[I 2025-05-16 10:50:34,256] Trial 5 finished with value: -1.3172227212730234 and parameters: {'model__fit_intercept': True, 'model__positive': True, 'preprocessor__num__scaler': StandardScaler(), 'selector__k': 'all'}. Best is trial 4 with value: -0.9642311811447144.\n",
      "[I 2025-05-16 10:50:35,850] Trial 6 finished with value: -0.8928118228912354 and parameters: {'model__fit_intercept': True, 'model__positive': False, 'preprocessor__num__scaler': StandardScaler(), 'selector__k': 5}. Best is trial 6 with value: -0.8928118228912354.\n",
      "[I 2025-05-16 10:50:37,040] Trial 7 finished with value: -1.5954307373197765 and parameters: {'model__fit_intercept': True, 'model__positive': True, 'preprocessor__num__scaler': MinMaxScaler(), 'selector__k': 3}. Best is trial 6 with value: -0.8928118228912354.\n",
      "[I 2025-05-16 10:50:38,364] Trial 8 finished with value: -1.6219724416732788 and parameters: {'model__fit_intercept': False, 'model__positive': False, 'preprocessor__num__scaler': MinMaxScaler(), 'selector__k': 3}. Best is trial 6 with value: -0.8928118228912354.\n",
      "[I 2025-05-16 10:50:40,056] Trial 9 finished with value: -0.8928238868713378 and parameters: {'model__fit_intercept': True, 'model__positive': False, 'preprocessor__num__scaler': MinMaxScaler(), 'selector__k': 7}. Best is trial 6 with value: -0.8928118228912354.\n",
      "[I 2025-05-16 10:50:41,643] Trial 10 finished with value: -0.8928118228912354 and parameters: {'model__fit_intercept': True, 'model__positive': False, 'preprocessor__num__scaler': StandardScaler(), 'selector__k': 5}. Best is trial 6 with value: -0.8928118228912354.\n",
      "[I 2025-05-16 10:50:43,151] Trial 11 finished with value: -0.8928118228912354 and parameters: {'model__fit_intercept': True, 'model__positive': False, 'preprocessor__num__scaler': StandardScaler(), 'selector__k': 5}. Best is trial 6 with value: -0.8928118228912354.\n",
      "[I 2025-05-16 10:50:44,648] Trial 12 finished with value: -0.8928118228912354 and parameters: {'model__fit_intercept': True, 'model__positive': False, 'preprocessor__num__scaler': StandardScaler(), 'selector__k': 5}. Best is trial 6 with value: -0.8928118228912354.\n",
      "[I 2025-05-16 10:50:46,144] Trial 13 finished with value: -0.8928118228912354 and parameters: {'model__fit_intercept': True, 'model__positive': False, 'preprocessor__num__scaler': StandardScaler(), 'selector__k': 5}. Best is trial 6 with value: -0.8928118228912354.\n",
      "[I 2025-05-16 10:50:48,060] Trial 14 finished with value: -0.8928239464759826 and parameters: {'model__fit_intercept': True, 'model__positive': False, 'preprocessor__num__scaler': StandardScaler(), 'selector__k': 7}. Best is trial 6 with value: -0.8928118228912354.\n",
      "[I 2025-05-16 10:50:49,548] Trial 15 finished with value: -0.8928118228912354 and parameters: {'model__fit_intercept': True, 'model__positive': False, 'preprocessor__num__scaler': StandardScaler(), 'selector__k': 5}. Best is trial 6 with value: -0.8928118228912354.\n",
      "[I 2025-05-16 10:50:51,056] Trial 16 finished with value: -0.8928118228912354 and parameters: {'model__fit_intercept': True, 'model__positive': False, 'preprocessor__num__scaler': StandardScaler(), 'selector__k': 5}. Best is trial 6 with value: -0.8928118228912354.\n",
      "[I 2025-05-16 10:50:52,550] Trial 17 finished with value: -0.8928118228912354 and parameters: {'model__fit_intercept': True, 'model__positive': False, 'preprocessor__num__scaler': StandardScaler(), 'selector__k': 5}. Best is trial 6 with value: -0.8928118228912354.\n",
      "[I 2025-05-16 10:50:54,153] Trial 18 finished with value: -1.3267680146529575 and parameters: {'model__fit_intercept': True, 'model__positive': True, 'preprocessor__num__scaler': StandardScaler(), 'selector__k': 7}. Best is trial 6 with value: -0.8928118228912354.\n",
      "[I 2025-05-16 10:50:55,547] Trial 19 finished with value: -0.8928118228912354 and parameters: {'model__fit_intercept': True, 'model__positive': False, 'preprocessor__num__scaler': StandardScaler(), 'selector__k': 5}. Best is trial 6 with value: -0.8928118228912354.\n",
      "[I 2025-05-16 10:50:57,246] Trial 20 finished with value: -0.8928118228912354 and parameters: {'model__fit_intercept': True, 'model__positive': False, 'preprocessor__num__scaler': StandardScaler(), 'selector__k': 5}. Best is trial 6 with value: -0.8928118228912354.\n",
      "[I 2025-05-16 10:50:58,952] Trial 21 finished with value: -0.8928118228912354 and parameters: {'model__fit_intercept': True, 'model__positive': False, 'preprocessor__num__scaler': StandardScaler(), 'selector__k': 5}. Best is trial 6 with value: -0.8928118228912354.\n",
      "[I 2025-05-16 10:51:00,543] Trial 22 finished with value: -0.8928118228912354 and parameters: {'model__fit_intercept': True, 'model__positive': False, 'preprocessor__num__scaler': StandardScaler(), 'selector__k': 5}. Best is trial 6 with value: -0.8928118228912354.\n",
      "[I 2025-05-16 10:51:01,955] Trial 23 finished with value: -0.8928118228912354 and parameters: {'model__fit_intercept': True, 'model__positive': False, 'preprocessor__num__scaler': StandardScaler(), 'selector__k': 5}. Best is trial 6 with value: -0.8928118228912354.\n",
      "[I 2025-05-16 10:51:03,451] Trial 24 finished with value: -0.8928118228912354 and parameters: {'model__fit_intercept': True, 'model__positive': False, 'preprocessor__num__scaler': StandardScaler(), 'selector__k': 5}. Best is trial 6 with value: -0.8928118228912354.\n",
      "[I 2025-05-16 10:51:05,137] Trial 25 finished with value: -0.8928118228912354 and parameters: {'model__fit_intercept': True, 'model__positive': False, 'preprocessor__num__scaler': StandardScaler(), 'selector__k': 5}. Best is trial 6 with value: -0.8928118228912354.\n",
      "[I 2025-05-16 10:51:06,941] Trial 26 finished with value: -0.8905078291893005 and parameters: {'model__fit_intercept': True, 'model__positive': False, 'preprocessor__num__scaler': StandardScaler(), 'selector__k': 'all'}. Best is trial 26 with value: -0.8905078291893005.\n",
      "[I 2025-05-16 10:51:08,655] Trial 27 finished with value: -1.3172227212730234 and parameters: {'model__fit_intercept': True, 'model__positive': True, 'preprocessor__num__scaler': StandardScaler(), 'selector__k': 'all'}. Best is trial 26 with value: -0.8905078291893005.\n",
      "[I 2025-05-16 10:51:10,546] Trial 28 finished with value: -0.8905078291893005 and parameters: {'model__fit_intercept': True, 'model__positive': False, 'preprocessor__num__scaler': StandardScaler(), 'selector__k': 'all'}. Best is trial 26 with value: -0.8905078291893005.\n",
      "[I 2025-05-16 10:51:12,056] Trial 29 finished with value: -68.86399536132812 and parameters: {'model__fit_intercept': False, 'model__positive': False, 'preprocessor__num__scaler': StandardScaler(), 'selector__k': 'all'}. Best is trial 26 with value: -0.8905078291893005.\n",
      "[I 2025-05-16 10:51:13,750] Trial 30 finished with value: -0.8905078291893005 and parameters: {'model__fit_intercept': True, 'model__positive': False, 'preprocessor__num__scaler': StandardScaler(), 'selector__k': 'all'}. Best is trial 26 with value: -0.8905078291893005.\n",
      "[I 2025-05-16 10:51:15,263] Trial 31 finished with value: -0.8905078291893005 and parameters: {'model__fit_intercept': True, 'model__positive': False, 'preprocessor__num__scaler': StandardScaler(), 'selector__k': 'all'}. Best is trial 26 with value: -0.8905078291893005.\n",
      "[I 2025-05-16 10:51:16,759] Trial 32 finished with value: -0.8905078291893005 and parameters: {'model__fit_intercept': True, 'model__positive': False, 'preprocessor__num__scaler': StandardScaler(), 'selector__k': 'all'}. Best is trial 26 with value: -0.8905078291893005.\n",
      "[I 2025-05-16 10:51:18,459] Trial 33 finished with value: -0.8905078291893005 and parameters: {'model__fit_intercept': True, 'model__positive': False, 'preprocessor__num__scaler': StandardScaler(), 'selector__k': 'all'}. Best is trial 26 with value: -0.8905078291893005.\n",
      "[I 2025-05-16 10:51:19,844] Trial 34 finished with value: -1.4917435064628382 and parameters: {'model__fit_intercept': False, 'model__positive': True, 'preprocessor__num__scaler': MinMaxScaler(), 'selector__k': 'all'}. Best is trial 26 with value: -0.8905078291893005.\n",
      "[I 2025-05-16 10:51:21,456] Trial 35 finished with value: -68.86399536132812 and parameters: {'model__fit_intercept': False, 'model__positive': False, 'preprocessor__num__scaler': StandardScaler(), 'selector__k': 'all'}. Best is trial 26 with value: -0.8905078291893005.\n",
      "[I 2025-05-16 10:51:23,147] Trial 36 finished with value: -0.8905079364776611 and parameters: {'model__fit_intercept': True, 'model__positive': False, 'preprocessor__num__scaler': MinMaxScaler(), 'selector__k': 'all'}. Best is trial 26 with value: -0.8905078291893005.\n",
      "[I 2025-05-16 10:51:24,660] Trial 37 finished with value: -1.3172227212730234 and parameters: {'model__fit_intercept': True, 'model__positive': True, 'preprocessor__num__scaler': StandardScaler(), 'selector__k': 'all'}. Best is trial 26 with value: -0.8905078291893005.\n",
      "[I 2025-05-16 10:51:26,345] Trial 38 finished with value: -68.86399536132812 and parameters: {'model__fit_intercept': False, 'model__positive': False, 'preprocessor__num__scaler': StandardScaler(), 'selector__k': 'all'}. Best is trial 26 with value: -0.8905078291893005.\n",
      "[I 2025-05-16 10:51:27,944] Trial 39 finished with value: -0.8905079364776611 and parameters: {'model__fit_intercept': True, 'model__positive': False, 'preprocessor__num__scaler': MinMaxScaler(), 'selector__k': 'all'}. Best is trial 26 with value: -0.8905078291893005.\n",
      "[I 2025-05-16 10:51:29,449] Trial 40 finished with value: -1.595430737928397 and parameters: {'model__fit_intercept': True, 'model__positive': True, 'preprocessor__num__scaler': StandardScaler(), 'selector__k': 3}. Best is trial 26 with value: -0.8905078291893005.\n",
      "[I 2025-05-16 10:51:31,240] Trial 41 finished with value: -0.8905078291893005 and parameters: {'model__fit_intercept': True, 'model__positive': False, 'preprocessor__num__scaler': StandardScaler(), 'selector__k': 'all'}. Best is trial 26 with value: -0.8905078291893005.\n",
      "[I 2025-05-16 10:51:33,048] Trial 42 finished with value: -0.8905078291893005 and parameters: {'model__fit_intercept': True, 'model__positive': False, 'preprocessor__num__scaler': StandardScaler(), 'selector__k': 'all'}. Best is trial 26 with value: -0.8905078291893005.\n",
      "[I 2025-05-16 10:51:34,947] Trial 43 finished with value: -0.8905078291893005 and parameters: {'model__fit_intercept': True, 'model__positive': False, 'preprocessor__num__scaler': StandardScaler(), 'selector__k': 'all'}. Best is trial 26 with value: -0.8905078291893005.\n",
      "[I 2025-05-16 10:51:36,658] Trial 44 finished with value: -0.8905078291893005 and parameters: {'model__fit_intercept': True, 'model__positive': False, 'preprocessor__num__scaler': StandardScaler(), 'selector__k': 'all'}. Best is trial 26 with value: -0.8905078291893005.\n",
      "[I 2025-05-16 10:51:38,564] Trial 45 finished with value: -0.8905078291893005 and parameters: {'model__fit_intercept': True, 'model__positive': False, 'preprocessor__num__scaler': StandardScaler(), 'selector__k': 'all'}. Best is trial 26 with value: -0.8905078291893005.\n",
      "[I 2025-05-16 10:51:40,267] Trial 46 finished with value: -0.9642311811447144 and parameters: {'model__fit_intercept': False, 'model__positive': False, 'preprocessor__num__scaler': MinMaxScaler(), 'selector__k': 'all'}. Best is trial 26 with value: -0.8905078291893005.\n",
      "[I 2025-05-16 10:51:41,662] Trial 47 finished with value: -1.5700103521347046 and parameters: {'model__fit_intercept': True, 'model__positive': False, 'preprocessor__num__scaler': StandardScaler(), 'selector__k': 3}. Best is trial 26 with value: -0.8905078291893005.\n",
      "[I 2025-05-16 10:51:43,353] Trial 48 finished with value: -0.8905078291893005 and parameters: {'model__fit_intercept': True, 'model__positive': False, 'preprocessor__num__scaler': StandardScaler(), 'selector__k': 'all'}. Best is trial 26 with value: -0.8905078291893005.\n",
      "[I 2025-05-16 10:51:45,052] Trial 49 finished with value: -0.8928239464759826 and parameters: {'model__fit_intercept': True, 'model__positive': False, 'preprocessor__num__scaler': StandardScaler(), 'selector__k': 7}. Best is trial 26 with value: -0.8905078291893005.\n",
      "[I 2025-05-16 10:51:46,655] Trial 50 finished with value: -0.8905079364776611 and parameters: {'model__fit_intercept': True, 'model__positive': False, 'preprocessor__num__scaler': MinMaxScaler(), 'selector__k': 'all'}. Best is trial 26 with value: -0.8905078291893005.\n",
      "[I 2025-05-16 10:51:48,262] Trial 51 finished with value: -0.8905078291893005 and parameters: {'model__fit_intercept': True, 'model__positive': False, 'preprocessor__num__scaler': StandardScaler(), 'selector__k': 'all'}. Best is trial 26 with value: -0.8905078291893005.\n",
      "[I 2025-05-16 10:51:49,867] Trial 52 finished with value: -0.8905078291893005 and parameters: {'model__fit_intercept': True, 'model__positive': False, 'preprocessor__num__scaler': StandardScaler(), 'selector__k': 'all'}. Best is trial 26 with value: -0.8905078291893005.\n",
      "[I 2025-05-16 10:51:51,549] Trial 53 finished with value: -0.8905078291893005 and parameters: {'model__fit_intercept': True, 'model__positive': False, 'preprocessor__num__scaler': StandardScaler(), 'selector__k': 'all'}. Best is trial 26 with value: -0.8905078291893005.\n",
      "[I 2025-05-16 10:51:53,240] Trial 54 finished with value: -0.8905078291893005 and parameters: {'model__fit_intercept': True, 'model__positive': False, 'preprocessor__num__scaler': StandardScaler(), 'selector__k': 'all'}. Best is trial 26 with value: -0.8905078291893005.\n",
      "[I 2025-05-16 10:51:54,837] Trial 55 finished with value: -0.8905078291893005 and parameters: {'model__fit_intercept': True, 'model__positive': False, 'preprocessor__num__scaler': StandardScaler(), 'selector__k': 'all'}. Best is trial 26 with value: -0.8905078291893005.\n",
      "[I 2025-05-16 10:51:56,259] Trial 56 finished with value: -1.3267680146529575 and parameters: {'model__fit_intercept': True, 'model__positive': True, 'preprocessor__num__scaler': StandardScaler(), 'selector__k': 7}. Best is trial 26 with value: -0.8905078291893005.\n",
      "[I 2025-05-16 10:51:57,744] Trial 57 finished with value: -1.5700103521347046 and parameters: {'model__fit_intercept': True, 'model__positive': False, 'preprocessor__num__scaler': StandardScaler(), 'selector__k': 3}. Best is trial 26 with value: -0.8905078291893005.\n",
      "[I 2025-05-16 10:51:59,359] Trial 58 finished with value: -0.8905078291893005 and parameters: {'model__fit_intercept': True, 'model__positive': False, 'preprocessor__num__scaler': StandardScaler(), 'selector__k': 'all'}. Best is trial 26 with value: -0.8905078291893005.\n",
      "[I 2025-05-16 10:52:00,854] Trial 59 finished with value: -0.8905078291893005 and parameters: {'model__fit_intercept': True, 'model__positive': False, 'preprocessor__num__scaler': StandardScaler(), 'selector__k': 'all'}. Best is trial 26 with value: -0.8905078291893005.\n",
      "[I 2025-05-16 10:52:02,443] Trial 60 finished with value: -68.86399536132812 and parameters: {'model__fit_intercept': False, 'model__positive': False, 'preprocessor__num__scaler': StandardScaler(), 'selector__k': 'all'}. Best is trial 26 with value: -0.8905078291893005.\n",
      "[I 2025-05-16 10:52:04,237] Trial 61 finished with value: -0.8905078291893005 and parameters: {'model__fit_intercept': True, 'model__positive': False, 'preprocessor__num__scaler': StandardScaler(), 'selector__k': 'all'}. Best is trial 26 with value: -0.8905078291893005.\n",
      "[I 2025-05-16 10:52:06,141] Trial 62 finished with value: -0.8905078291893005 and parameters: {'model__fit_intercept': True, 'model__positive': False, 'preprocessor__num__scaler': StandardScaler(), 'selector__k': 'all'}. Best is trial 26 with value: -0.8905078291893005.\n",
      "[I 2025-05-16 10:52:08,047] Trial 63 finished with value: -0.8905078291893005 and parameters: {'model__fit_intercept': True, 'model__positive': False, 'preprocessor__num__scaler': StandardScaler(), 'selector__k': 'all'}. Best is trial 26 with value: -0.8905078291893005.\n",
      "[I 2025-05-16 10:52:10,041] Trial 64 finished with value: -0.8905078291893005 and parameters: {'model__fit_intercept': True, 'model__positive': False, 'preprocessor__num__scaler': StandardScaler(), 'selector__k': 'all'}. Best is trial 26 with value: -0.8905078291893005.\n",
      "[I 2025-05-16 10:52:12,041] Trial 65 finished with value: -0.8905078291893005 and parameters: {'model__fit_intercept': True, 'model__positive': False, 'preprocessor__num__scaler': StandardScaler(), 'selector__k': 'all'}. Best is trial 26 with value: -0.8905078291893005.\n",
      "[I 2025-05-16 10:52:13,840] Trial 66 finished with value: -0.8928239464759826 and parameters: {'model__fit_intercept': True, 'model__positive': False, 'preprocessor__num__scaler': StandardScaler(), 'selector__k': 7}. Best is trial 26 with value: -0.8905078291893005.\n",
      "[I 2025-05-16 10:52:15,745] Trial 67 finished with value: -1.3172227212730234 and parameters: {'model__fit_intercept': True, 'model__positive': True, 'preprocessor__num__scaler': StandardScaler(), 'selector__k': 'all'}. Best is trial 26 with value: -0.8905078291893005.\n",
      "[I 2025-05-16 10:52:17,541] Trial 68 finished with value: -0.8905079364776611 and parameters: {'model__fit_intercept': True, 'model__positive': False, 'preprocessor__num__scaler': MinMaxScaler(), 'selector__k': 'all'}. Best is trial 26 with value: -0.8905078291893005.\n",
      "[I 2025-05-16 10:52:19,047] Trial 69 finished with value: -1.5700103521347046 and parameters: {'model__fit_intercept': True, 'model__positive': False, 'preprocessor__num__scaler': StandardScaler(), 'selector__k': 3}. Best is trial 26 with value: -0.8905078291893005.\n",
      "[I 2025-05-16 10:52:20,950] Trial 70 finished with value: -68.86399536132812 and parameters: {'model__fit_intercept': False, 'model__positive': False, 'preprocessor__num__scaler': StandardScaler(), 'selector__k': 'all'}. Best is trial 26 with value: -0.8905078291893005.\n",
      "[I 2025-05-16 10:52:22,941] Trial 71 finished with value: -0.8905078291893005 and parameters: {'model__fit_intercept': True, 'model__positive': False, 'preprocessor__num__scaler': StandardScaler(), 'selector__k': 'all'}. Best is trial 26 with value: -0.8905078291893005.\n",
      "[I 2025-05-16 10:52:24,840] Trial 72 finished with value: -0.8905078291893005 and parameters: {'model__fit_intercept': True, 'model__positive': False, 'preprocessor__num__scaler': StandardScaler(), 'selector__k': 'all'}. Best is trial 26 with value: -0.8905078291893005.\n",
      "[I 2025-05-16 10:52:26,741] Trial 73 finished with value: -0.8905078291893005 and parameters: {'model__fit_intercept': True, 'model__positive': False, 'preprocessor__num__scaler': StandardScaler(), 'selector__k': 'all'}. Best is trial 26 with value: -0.8905078291893005.\n",
      "[I 2025-05-16 10:52:28,543] Trial 74 finished with value: -0.8905078291893005 and parameters: {'model__fit_intercept': True, 'model__positive': False, 'preprocessor__num__scaler': StandardScaler(), 'selector__k': 'all'}. Best is trial 26 with value: -0.8905078291893005.\n",
      "[I 2025-05-16 10:52:30,548] Trial 75 finished with value: -0.8905078291893005 and parameters: {'model__fit_intercept': True, 'model__positive': False, 'preprocessor__num__scaler': StandardScaler(), 'selector__k': 'all'}. Best is trial 26 with value: -0.8905078291893005.\n",
      "[I 2025-05-16 10:52:32,440] Trial 76 finished with value: -0.8905078291893005 and parameters: {'model__fit_intercept': True, 'model__positive': False, 'preprocessor__num__scaler': StandardScaler(), 'selector__k': 'all'}. Best is trial 26 with value: -0.8905078291893005.\n",
      "[I 2025-05-16 10:52:34,444] Trial 77 finished with value: -0.8905078291893005 and parameters: {'model__fit_intercept': True, 'model__positive': False, 'preprocessor__num__scaler': StandardScaler(), 'selector__k': 'all'}. Best is trial 26 with value: -0.8905078291893005.\n",
      "[I 2025-05-16 10:52:36,441] Trial 78 finished with value: -1.3172227212730234 and parameters: {'model__fit_intercept': True, 'model__positive': True, 'preprocessor__num__scaler': StandardScaler(), 'selector__k': 'all'}. Best is trial 26 with value: -0.8905078291893005.\n",
      "[I 2025-05-16 10:52:38,441] Trial 79 finished with value: -0.8905078291893005 and parameters: {'model__fit_intercept': True, 'model__positive': False, 'preprocessor__num__scaler': StandardScaler(), 'selector__k': 'all'}. Best is trial 26 with value: -0.8905078291893005.\n",
      "[I 2025-05-16 10:52:40,140] Trial 80 finished with value: -0.8928238868713378 and parameters: {'model__fit_intercept': True, 'model__positive': False, 'preprocessor__num__scaler': MinMaxScaler(), 'selector__k': 7}. Best is trial 26 with value: -0.8905078291893005.\n",
      "[I 2025-05-16 10:52:42,141] Trial 81 finished with value: -0.8905078291893005 and parameters: {'model__fit_intercept': True, 'model__positive': False, 'preprocessor__num__scaler': StandardScaler(), 'selector__k': 'all'}. Best is trial 26 with value: -0.8905078291893005.\n",
      "[I 2025-05-16 10:52:44,040] Trial 82 finished with value: -0.8905078291893005 and parameters: {'model__fit_intercept': True, 'model__positive': False, 'preprocessor__num__scaler': StandardScaler(), 'selector__k': 'all'}. Best is trial 26 with value: -0.8905078291893005.\n",
      "[I 2025-05-16 10:52:46,041] Trial 83 finished with value: -0.8905078291893005 and parameters: {'model__fit_intercept': True, 'model__positive': False, 'preprocessor__num__scaler': StandardScaler(), 'selector__k': 'all'}. Best is trial 26 with value: -0.8905078291893005.\n",
      "[I 2025-05-16 10:52:47,944] Trial 84 finished with value: -0.8905078291893005 and parameters: {'model__fit_intercept': True, 'model__positive': False, 'preprocessor__num__scaler': StandardScaler(), 'selector__k': 'all'}. Best is trial 26 with value: -0.8905078291893005.\n",
      "[I 2025-05-16 10:52:49,944] Trial 85 finished with value: -0.8905078291893005 and parameters: {'model__fit_intercept': True, 'model__positive': False, 'preprocessor__num__scaler': StandardScaler(), 'selector__k': 'all'}. Best is trial 26 with value: -0.8905078291893005.\n",
      "[I 2025-05-16 10:52:51,447] Trial 86 finished with value: -68.87610168457032 and parameters: {'model__fit_intercept': False, 'model__positive': False, 'preprocessor__num__scaler': StandardScaler(), 'selector__k': 3}. Best is trial 26 with value: -0.8905078291893005.\n",
      "[I 2025-05-16 10:52:53,441] Trial 87 finished with value: -0.8905078291893005 and parameters: {'model__fit_intercept': True, 'model__positive': False, 'preprocessor__num__scaler': StandardScaler(), 'selector__k': 'all'}. Best is trial 26 with value: -0.8905078291893005.\n",
      "[I 2025-05-16 10:52:55,441] Trial 88 finished with value: -0.8905078291893005 and parameters: {'model__fit_intercept': True, 'model__positive': False, 'preprocessor__num__scaler': StandardScaler(), 'selector__k': 'all'}. Best is trial 26 with value: -0.8905078291893005.\n",
      "[I 2025-05-16 10:52:57,441] Trial 89 finished with value: -0.8905078291893005 and parameters: {'model__fit_intercept': True, 'model__positive': False, 'preprocessor__num__scaler': StandardScaler(), 'selector__k': 'all'}. Best is trial 26 with value: -0.8905078291893005.\n",
      "[I 2025-05-16 10:52:59,350] Trial 90 finished with value: -1.317222727121315 and parameters: {'model__fit_intercept': True, 'model__positive': True, 'preprocessor__num__scaler': MinMaxScaler(), 'selector__k': 'all'}. Best is trial 26 with value: -0.8905078291893005.\n",
      "[I 2025-05-16 10:53:01,341] Trial 91 finished with value: -0.8905078291893005 and parameters: {'model__fit_intercept': True, 'model__positive': False, 'preprocessor__num__scaler': StandardScaler(), 'selector__k': 'all'}. Best is trial 26 with value: -0.8905078291893005.\n",
      "[I 2025-05-16 10:53:03,340] Trial 92 finished with value: -0.8905078291893005 and parameters: {'model__fit_intercept': True, 'model__positive': False, 'preprocessor__num__scaler': StandardScaler(), 'selector__k': 'all'}. Best is trial 26 with value: -0.8905078291893005.\n",
      "[I 2025-05-16 10:53:05,341] Trial 93 finished with value: -0.8905078291893005 and parameters: {'model__fit_intercept': True, 'model__positive': False, 'preprocessor__num__scaler': StandardScaler(), 'selector__k': 'all'}. Best is trial 26 with value: -0.8905078291893005.\n",
      "[I 2025-05-16 10:53:07,341] Trial 94 finished with value: -0.8905078291893005 and parameters: {'model__fit_intercept': True, 'model__positive': False, 'preprocessor__num__scaler': StandardScaler(), 'selector__k': 'all'}. Best is trial 26 with value: -0.8905078291893005.\n",
      "[I 2025-05-16 10:53:09,341] Trial 95 finished with value: -0.8905078291893005 and parameters: {'model__fit_intercept': True, 'model__positive': False, 'preprocessor__num__scaler': StandardScaler(), 'selector__k': 'all'}. Best is trial 26 with value: -0.8905078291893005.\n",
      "[I 2025-05-16 10:53:11,340] Trial 96 finished with value: -0.8905078291893005 and parameters: {'model__fit_intercept': True, 'model__positive': False, 'preprocessor__num__scaler': StandardScaler(), 'selector__k': 'all'}. Best is trial 26 with value: -0.8905078291893005.\n",
      "[I 2025-05-16 10:53:13,237] Trial 97 finished with value: -0.8928239464759826 and parameters: {'model__fit_intercept': True, 'model__positive': False, 'preprocessor__num__scaler': StandardScaler(), 'selector__k': 7}. Best is trial 26 with value: -0.8905078291893005.\n",
      "[I 2025-05-16 10:53:15,041] Trial 98 finished with value: -68.86399536132812 and parameters: {'model__fit_intercept': False, 'model__positive': False, 'preprocessor__num__scaler': StandardScaler(), 'selector__k': 'all'}. Best is trial 26 with value: -0.8905078291893005.\n",
      "[I 2025-05-16 10:53:16,942] Trial 99 finished with value: -0.8905078291893005 and parameters: {'model__fit_intercept': True, 'model__positive': False, 'preprocessor__num__scaler': StandardScaler(), 'selector__k': 'all'}. Best is trial 26 with value: -0.8905078291893005.\n"
     ]
    },
    {
     "name": "stdout",
     "output_type": "stream",
     "text": [
      "Лучшие параметры: {'model__fit_intercept': True, 'model__positive': False, 'preprocessor__num__scaler': StandardScaler(), 'selector__k': 'all'}\n",
      "Лучшее значение RMSE (кросс-валидация): 0.8905078291893005\n",
      "RMSE на валидационной выборке: 0.8903124928474426\n",
      "средний запас предсказанного сырья: 68.71284\n"
     ]
    },
    {
     "data": {
      "image/png": "[encoded data removed]",
      "text/plain": [
       "<Figure size 288x144 with 1 Axes>"
      ]
     },
     "metadata": {
      "needs_background": "light"
     },
     "output_type": "display_data"
    }
   ],
   "source": [
    "geo_1_predict = model(geo_data_1)"
   ]
  },
  {
   "cell_type": "markdown",
   "id": "7d592e95",
   "metadata": {},
   "source": [
    "**Регион 2** (`geo_data_1`)\n",
    "- **Лучшие параметры**:\n",
    "  - `fit_intercept=True`: Свободный член включён.\n",
    "  - `positive=False`: Коэффициенты не ограничены положительными значениями.\n",
    "  - `scaler=StandardScaler()`: Используется стандартизация (среднее = 0, стандартное отклонение = 1), что подходит для данных с нормальным распределением.\n",
    "  - `k='all'`: Все признаки используются без отбора.\n",
    "- **RMSE**:\n",
    "  - Кросс-валидация: 0.89\n",
    "  - Валидационная выборка: 0.89\n",
    "  - RMSE крайне низкий и практически идентичный на кросс-валидации и валидационной выборке, что указывает на высокую точность и стабильность модели.\n",
    "- **Средний запас предсказанного сырья**: 68.71\n",
    "- **Вывод**:\n",
    "  - Очень низкий RMSE объясняется сильной корреляцией между `f2` и `product` (0.98, как было показано в тепловой карте корреляций). Модель эффективно использует эту зависимость для точных предсказаний.\n",
    "  - Средний запас сырья значительно ниже, чем в других регионах, что может быть связано с дискретным характером распределения `product` (пики на 0, 30, 60, 80, 110, 140), где много значений близки к нижним уровням.\n",
    "  - Модель для этого региона работает наилучшим образом, что делает регион более предсказуемым с точки зрения запасов сырья."
   ]
  },
  {
   "cell_type": "markdown",
   "id": "55122408",
   "metadata": {},
   "source": [
    " <a id=\"section5.4\"></a>\n",
    "#### Датафрейм `geo_data_2`."
   ]
  },
  {
   "cell_type": "code",
   "execution_count": 23,
   "id": "93b7725f",
   "metadata": {
    "scrolled": true
   },
   "outputs": [
    {
     "name": "stderr",
     "output_type": "stream",
     "text": [
      "/opt/conda/lib/python3.9/site-packages/optuna/distributions.py:515: UserWarning: Choices for a categorical distribution should be a tuple of None, bool, int, float and str for persistent storage but contains StandardScaler() which is of type StandardScaler.\n",
      "  warnings.warn(message)\n",
      "/opt/conda/lib/python3.9/site-packages/optuna/distributions.py:515: UserWarning: Choices for a categorical distribution should be a tuple of None, bool, int, float and str for persistent storage but contains MinMaxScaler() which is of type MinMaxScaler.\n",
      "  warnings.warn(message)\n",
      "/tmp/ipykernel_49/629422226.py:36: ExperimentalWarning: OptunaSearchCV is experimental (supported from v0.17.0). The interface can change in the future.\n",
      "  optuna_search = OptunaSearchCV(\n",
      "[I 2025-05-16 10:53:18,147] A new study created in memory with name: no-name-7bebc7e4-d6b2-43ee-bdc8-ba4278afd751\n",
      "[I 2025-05-16 10:53:19,940] Trial 0 finished with value: -102.54852752685547 and parameters: {'model__fit_intercept': False, 'model__positive': False, 'preprocessor__num__scaler': StandardScaler(), 'selector__k': 'all'}. Best is trial 0 with value: -102.54852752685547.\n",
      "[I 2025-05-16 10:53:21,448] Trial 1 finished with value: -38.743899950662104 and parameters: {'model__fit_intercept': False, 'model__positive': True, 'preprocessor__num__scaler': MinMaxScaler(), 'selector__k': 5}. Best is trial 1 with value: -38.743899950662104.\n",
      "[I 2025-05-16 10:53:22,942] Trial 2 finished with value: -39.41750275348427 and parameters: {'model__fit_intercept': False, 'model__positive': True, 'preprocessor__num__scaler': MinMaxScaler(), 'selector__k': 3}. Best is trial 1 with value: -38.743899950662104.\n",
      "[I 2025-05-16 10:53:24,541] Trial 3 finished with value: -102.54855499267578 and parameters: {'model__fit_intercept': False, 'model__positive': False, 'preprocessor__num__scaler': StandardScaler(), 'selector__k': 5}. Best is trial 1 with value: -38.743899950662104.\n",
      "[I 2025-05-16 10:53:26,247] Trial 4 finished with value: -38.74377517700195 and parameters: {'model__fit_intercept': False, 'model__positive': False, 'preprocessor__num__scaler': MinMaxScaler(), 'selector__k': 'all'}. Best is trial 4 with value: -38.74377517700195.\n",
      "[I 2025-05-16 10:53:28,249] Trial 5 finished with value: -38.743869264549566 and parameters: {'model__fit_intercept': True, 'model__positive': True, 'preprocessor__num__scaler': StandardScaler(), 'selector__k': 'all'}. Best is trial 4 with value: -38.74377517700195.\n",
      "[I 2025-05-16 10:53:29,841] Trial 6 finished with value: -38.743787384033205 and parameters: {'model__fit_intercept': True, 'model__positive': False, 'preprocessor__num__scaler': StandardScaler(), 'selector__k': 5}. Best is trial 4 with value: -38.74377517700195.\n",
      "[I 2025-05-16 10:53:31,243] Trial 7 finished with value: -39.381045980439886 and parameters: {'model__fit_intercept': True, 'model__positive': True, 'preprocessor__num__scaler': MinMaxScaler(), 'selector__k': 3}. Best is trial 4 with value: -38.74377517700195.\n",
      "[I 2025-05-16 10:53:32,741] Trial 8 finished with value: -39.40583267211914 and parameters: {'model__fit_intercept': False, 'model__positive': False, 'preprocessor__num__scaler': MinMaxScaler(), 'selector__k': 3}. Best is trial 4 with value: -38.74377517700195.\n",
      "[I 2025-05-16 10:53:34,347] Trial 9 finished with value: -38.74527359008789 and parameters: {'model__fit_intercept': True, 'model__positive': False, 'preprocessor__num__scaler': MinMaxScaler(), 'selector__k': 7}. Best is trial 4 with value: -38.74377517700195.\n",
      "[I 2025-05-16 10:53:36,148] Trial 10 finished with value: -38.74377517700195 and parameters: {'model__fit_intercept': False, 'model__positive': False, 'preprocessor__num__scaler': MinMaxScaler(), 'selector__k': 'all'}. Best is trial 4 with value: -38.74377517700195.\n",
      "[I 2025-05-16 10:53:37,842] Trial 11 finished with value: -38.74377517700195 and parameters: {'model__fit_intercept': False, 'model__positive': False, 'preprocessor__num__scaler': MinMaxScaler(), 'selector__k': 'all'}. Best is trial 4 with value: -38.74377517700195.\n",
      "[I 2025-05-16 10:53:39,547] Trial 12 finished with value: -38.74377517700195 and parameters: {'model__fit_intercept': False, 'model__positive': False, 'preprocessor__num__scaler': MinMaxScaler(), 'selector__k': 'all'}. Best is trial 4 with value: -38.74377517700195.\n",
      "[I 2025-05-16 10:53:41,340] Trial 13 finished with value: -38.74377517700195 and parameters: {'model__fit_intercept': False, 'model__positive': False, 'preprocessor__num__scaler': MinMaxScaler(), 'selector__k': 'all'}. Best is trial 4 with value: -38.74377517700195.\n",
      "[I 2025-05-16 10:53:42,841] Trial 14 finished with value: -38.74486618041992 and parameters: {'model__fit_intercept': False, 'model__positive': False, 'preprocessor__num__scaler': MinMaxScaler(), 'selector__k': 7}. Best is trial 4 with value: -38.74377517700195.\n",
      "[I 2025-05-16 10:53:44,543] Trial 15 finished with value: -38.74377517700195 and parameters: {'model__fit_intercept': False, 'model__positive': False, 'preprocessor__num__scaler': MinMaxScaler(), 'selector__k': 'all'}. Best is trial 4 with value: -38.74377517700195.\n",
      "[I 2025-05-16 10:53:46,241] Trial 16 finished with value: -38.74377517700195 and parameters: {'model__fit_intercept': False, 'model__positive': False, 'preprocessor__num__scaler': MinMaxScaler(), 'selector__k': 'all'}. Best is trial 4 with value: -38.74377517700195.\n",
      "[I 2025-05-16 10:53:48,041] Trial 17 finished with value: -38.74377517700195 and parameters: {'model__fit_intercept': False, 'model__positive': False, 'preprocessor__num__scaler': MinMaxScaler(), 'selector__k': 'all'}. Best is trial 4 with value: -38.74377517700195.\n",
      "[I 2025-05-16 10:53:49,944] Trial 18 finished with value: -38.74406926928576 and parameters: {'model__fit_intercept': True, 'model__positive': True, 'preprocessor__num__scaler': StandardScaler(), 'selector__k': 7}. Best is trial 4 with value: -38.74377517700195.\n",
      "[I 2025-05-16 10:53:51,751] Trial 19 finished with value: -38.74377517700195 and parameters: {'model__fit_intercept': False, 'model__positive': False, 'preprocessor__num__scaler': MinMaxScaler(), 'selector__k': 'all'}. Best is trial 4 with value: -38.74377517700195.\n",
      "[I 2025-05-16 10:53:53,544] Trial 20 finished with value: -38.74377517700195 and parameters: {'model__fit_intercept': False, 'model__positive': False, 'preprocessor__num__scaler': MinMaxScaler(), 'selector__k': 'all'}. Best is trial 4 with value: -38.74377517700195.\n",
      "[I 2025-05-16 10:53:55,244] Trial 21 finished with value: -38.74377517700195 and parameters: {'model__fit_intercept': False, 'model__positive': False, 'preprocessor__num__scaler': MinMaxScaler(), 'selector__k': 'all'}. Best is trial 4 with value: -38.74377517700195.\n",
      "[I 2025-05-16 10:53:57,041] Trial 22 finished with value: -38.74377517700195 and parameters: {'model__fit_intercept': False, 'model__positive': False, 'preprocessor__num__scaler': MinMaxScaler(), 'selector__k': 'all'}. Best is trial 4 with value: -38.74377517700195.\n",
      "[I 2025-05-16 10:53:58,850] Trial 23 finished with value: -38.74377517700195 and parameters: {'model__fit_intercept': False, 'model__positive': False, 'preprocessor__num__scaler': MinMaxScaler(), 'selector__k': 'all'}. Best is trial 4 with value: -38.74377517700195.\n",
      "[I 2025-05-16 10:54:00,545] Trial 24 finished with value: -38.74377517700195 and parameters: {'model__fit_intercept': False, 'model__positive': False, 'preprocessor__num__scaler': MinMaxScaler(), 'selector__k': 'all'}. Best is trial 4 with value: -38.74377517700195.\n",
      "[I 2025-05-16 10:54:02,442] Trial 25 finished with value: -38.74377517700195 and parameters: {'model__fit_intercept': False, 'model__positive': False, 'preprocessor__num__scaler': MinMaxScaler(), 'selector__k': 'all'}. Best is trial 4 with value: -38.74377517700195.\n",
      "[I 2025-05-16 10:54:04,141] Trial 26 finished with value: -38.74486618041992 and parameters: {'model__fit_intercept': False, 'model__positive': False, 'preprocessor__num__scaler': MinMaxScaler(), 'selector__k': 7}. Best is trial 4 with value: -38.74377517700195.\n",
      "[I 2025-05-16 10:54:05,841] Trial 27 finished with value: -38.74354476572131 and parameters: {'model__fit_intercept': True, 'model__positive': True, 'preprocessor__num__scaler': StandardScaler(), 'selector__k': 5}. Best is trial 27 with value: -38.74354476572131.\n",
      "[I 2025-05-16 10:54:07,841] Trial 28 finished with value: -38.74354476572131 and parameters: {'model__fit_intercept': True, 'model__positive': True, 'preprocessor__num__scaler': StandardScaler(), 'selector__k': 5}. Best is trial 27 with value: -38.74354476572131.\n",
      "[I 2025-05-16 10:54:09,642] Trial 29 finished with value: -38.74354476572131 and parameters: {'model__fit_intercept': True, 'model__positive': True, 'preprocessor__num__scaler': StandardScaler(), 'selector__k': 5}. Best is trial 27 with value: -38.74354476572131.\n",
      "[I 2025-05-16 10:54:11,446] Trial 30 finished with value: -38.74354476572131 and parameters: {'model__fit_intercept': True, 'model__positive': True, 'preprocessor__num__scaler': StandardScaler(), 'selector__k': 5}. Best is trial 27 with value: -38.74354476572131.\n",
      "[I 2025-05-16 10:54:13,241] Trial 31 finished with value: -38.74354476572131 and parameters: {'model__fit_intercept': True, 'model__positive': True, 'preprocessor__num__scaler': StandardScaler(), 'selector__k': 5}. Best is trial 27 with value: -38.74354476572131.\n",
      "[I 2025-05-16 10:54:15,147] Trial 32 finished with value: -38.74354476572131 and parameters: {'model__fit_intercept': True, 'model__positive': True, 'preprocessor__num__scaler': StandardScaler(), 'selector__k': 5}. Best is trial 27 with value: -38.74354476572131.\n",
      "[I 2025-05-16 10:54:16,943] Trial 33 finished with value: -38.74354476572131 and parameters: {'model__fit_intercept': True, 'model__positive': True, 'preprocessor__num__scaler': StandardScaler(), 'selector__k': 5}. Best is trial 27 with value: -38.74354476572131.\n",
      "[I 2025-05-16 10:54:18,446] Trial 34 finished with value: -38.74354476572131 and parameters: {'model__fit_intercept': True, 'model__positive': True, 'preprocessor__num__scaler': StandardScaler(), 'selector__k': 5}. Best is trial 27 with value: -38.74354476572131.\n",
      "[I 2025-05-16 10:54:20,343] Trial 35 finished with value: -38.74354476572131 and parameters: {'model__fit_intercept': True, 'model__positive': True, 'preprocessor__num__scaler': StandardScaler(), 'selector__k': 5}. Best is trial 27 with value: -38.74354476572131.\n",
      "[I 2025-05-16 10:54:22,242] Trial 36 finished with value: -38.74354476572131 and parameters: {'model__fit_intercept': True, 'model__positive': True, 'preprocessor__num__scaler': StandardScaler(), 'selector__k': 5}. Best is trial 27 with value: -38.74354476572131.\n",
      "[I 2025-05-16 10:54:24,042] Trial 37 finished with value: -38.74354476572131 and parameters: {'model__fit_intercept': True, 'model__positive': True, 'preprocessor__num__scaler': StandardScaler(), 'selector__k': 5}. Best is trial 27 with value: -38.74354476572131.\n",
      "[I 2025-05-16 10:54:25,942] Trial 38 finished with value: -38.74354476572131 and parameters: {'model__fit_intercept': True, 'model__positive': True, 'preprocessor__num__scaler': StandardScaler(), 'selector__k': 5}. Best is trial 27 with value: -38.74354476572131.\n",
      "[I 2025-05-16 10:54:27,841] Trial 39 finished with value: -38.74354476572131 and parameters: {'model__fit_intercept': True, 'model__positive': True, 'preprocessor__num__scaler': StandardScaler(), 'selector__k': 5}. Best is trial 27 with value: -38.74354476572131.\n",
      "[I 2025-05-16 10:54:29,542] Trial 40 finished with value: -38.74354476572131 and parameters: {'model__fit_intercept': True, 'model__positive': True, 'preprocessor__num__scaler': StandardScaler(), 'selector__k': 5}. Best is trial 27 with value: -38.74354476572131.\n",
      "[I 2025-05-16 10:54:31,245] Trial 41 finished with value: -38.74354476572131 and parameters: {'model__fit_intercept': True, 'model__positive': True, 'preprocessor__num__scaler': StandardScaler(), 'selector__k': 5}. Best is trial 27 with value: -38.74354476572131.\n",
      "[I 2025-05-16 10:54:32,940] Trial 42 finished with value: -38.74354476572131 and parameters: {'model__fit_intercept': True, 'model__positive': True, 'preprocessor__num__scaler': StandardScaler(), 'selector__k': 5}. Best is trial 27 with value: -38.74354476572131.\n",
      "[I 2025-05-16 10:54:34,646] Trial 43 finished with value: -39.381046001021446 and parameters: {'model__fit_intercept': True, 'model__positive': True, 'preprocessor__num__scaler': StandardScaler(), 'selector__k': 3}. Best is trial 27 with value: -38.74354476572131.\n",
      "[I 2025-05-16 10:54:36,537] Trial 44 finished with value: -38.74354476572131 and parameters: {'model__fit_intercept': True, 'model__positive': True, 'preprocessor__num__scaler': StandardScaler(), 'selector__k': 5}. Best is trial 27 with value: -38.74354476572131.\n",
      "[I 2025-05-16 10:54:38,341] Trial 45 finished with value: -38.74354476572131 and parameters: {'model__fit_intercept': True, 'model__positive': True, 'preprocessor__num__scaler': StandardScaler(), 'selector__k': 5}. Best is trial 27 with value: -38.74354476572131.\n",
      "[I 2025-05-16 10:54:40,047] Trial 46 finished with value: -38.74354476572131 and parameters: {'model__fit_intercept': True, 'model__positive': True, 'preprocessor__num__scaler': StandardScaler(), 'selector__k': 5}. Best is trial 27 with value: -38.74354476572131.\n",
      "[I 2025-05-16 10:54:41,843] Trial 47 finished with value: -38.74354476572131 and parameters: {'model__fit_intercept': True, 'model__positive': True, 'preprocessor__num__scaler': StandardScaler(), 'selector__k': 5}. Best is trial 27 with value: -38.74354476572131.\n",
      "[I 2025-05-16 10:54:43,449] Trial 48 finished with value: -39.381046001021446 and parameters: {'model__fit_intercept': True, 'model__positive': True, 'preprocessor__num__scaler': StandardScaler(), 'selector__k': 3}. Best is trial 27 with value: -38.74354476572131.\n",
      "[I 2025-05-16 10:54:45,150] Trial 49 finished with value: -38.74354476572131 and parameters: {'model__fit_intercept': True, 'model__positive': True, 'preprocessor__num__scaler': StandardScaler(), 'selector__k': 5}. Best is trial 27 with value: -38.74354476572131.\n",
      "[I 2025-05-16 10:54:46,941] Trial 50 finished with value: -38.74354476572131 and parameters: {'model__fit_intercept': True, 'model__positive': True, 'preprocessor__num__scaler': StandardScaler(), 'selector__k': 5}. Best is trial 27 with value: -38.74354476572131.\n",
      "[I 2025-05-16 10:54:48,647] Trial 51 finished with value: -38.74354476572131 and parameters: {'model__fit_intercept': True, 'model__positive': True, 'preprocessor__num__scaler': StandardScaler(), 'selector__k': 5}. Best is trial 27 with value: -38.74354476572131.\n",
      "[I 2025-05-16 10:54:50,441] Trial 52 finished with value: -38.74354476572131 and parameters: {'model__fit_intercept': True, 'model__positive': True, 'preprocessor__num__scaler': StandardScaler(), 'selector__k': 5}. Best is trial 27 with value: -38.74354476572131.\n",
      "[I 2025-05-16 10:54:52,341] Trial 53 finished with value: -38.74354476572131 and parameters: {'model__fit_intercept': True, 'model__positive': True, 'preprocessor__num__scaler': StandardScaler(), 'selector__k': 5}. Best is trial 27 with value: -38.74354476572131.\n",
      "[I 2025-05-16 10:54:54,140] Trial 54 finished with value: -38.74354476572131 and parameters: {'model__fit_intercept': True, 'model__positive': True, 'preprocessor__num__scaler': StandardScaler(), 'selector__k': 5}. Best is trial 27 with value: -38.74354476572131.\n",
      "[I 2025-05-16 10:54:55,844] Trial 55 finished with value: -38.74354476572131 and parameters: {'model__fit_intercept': True, 'model__positive': True, 'preprocessor__num__scaler': StandardScaler(), 'selector__k': 5}. Best is trial 27 with value: -38.74354476572131.\n",
      "[I 2025-05-16 10:54:57,745] Trial 56 finished with value: -38.74406926928576 and parameters: {'model__fit_intercept': True, 'model__positive': True, 'preprocessor__num__scaler': StandardScaler(), 'selector__k': 7}. Best is trial 27 with value: -38.74354476572131.\n",
      "[I 2025-05-16 10:54:59,249] Trial 57 finished with value: -39.381046001021446 and parameters: {'model__fit_intercept': True, 'model__positive': True, 'preprocessor__num__scaler': StandardScaler(), 'selector__k': 3}. Best is trial 27 with value: -38.74354476572131.\n",
      "[I 2025-05-16 10:55:01,041] Trial 58 finished with value: -38.74354476572131 and parameters: {'model__fit_intercept': True, 'model__positive': True, 'preprocessor__num__scaler': StandardScaler(), 'selector__k': 5}. Best is trial 27 with value: -38.74354476572131.\n",
      "[I 2025-05-16 10:55:03,041] Trial 59 finished with value: -38.74354476572131 and parameters: {'model__fit_intercept': True, 'model__positive': True, 'preprocessor__num__scaler': StandardScaler(), 'selector__k': 5}. Best is trial 27 with value: -38.74354476572131.\n",
      "[I 2025-05-16 10:55:04,748] Trial 60 finished with value: -38.74354476572131 and parameters: {'model__fit_intercept': True, 'model__positive': True, 'preprocessor__num__scaler': StandardScaler(), 'selector__k': 5}. Best is trial 27 with value: -38.74354476572131.\n",
      "[I 2025-05-16 10:55:06,545] Trial 61 finished with value: -38.74354476572131 and parameters: {'model__fit_intercept': True, 'model__positive': True, 'preprocessor__num__scaler': StandardScaler(), 'selector__k': 5}. Best is trial 27 with value: -38.74354476572131.\n",
      "[I 2025-05-16 10:55:08,345] Trial 62 finished with value: -38.74354476572131 and parameters: {'model__fit_intercept': True, 'model__positive': True, 'preprocessor__num__scaler': StandardScaler(), 'selector__k': 5}. Best is trial 27 with value: -38.74354476572131.\n",
      "[I 2025-05-16 10:55:10,248] Trial 63 finished with value: -38.74354476572131 and parameters: {'model__fit_intercept': True, 'model__positive': True, 'preprocessor__num__scaler': StandardScaler(), 'selector__k': 5}. Best is trial 27 with value: -38.74354476572131.\n",
      "[I 2025-05-16 10:55:11,942] Trial 64 finished with value: -38.74354476572131 and parameters: {'model__fit_intercept': True, 'model__positive': True, 'preprocessor__num__scaler': StandardScaler(), 'selector__k': 5}. Best is trial 27 with value: -38.74354476572131.\n",
      "[I 2025-05-16 10:55:13,942] Trial 65 finished with value: -38.74406926928576 and parameters: {'model__fit_intercept': True, 'model__positive': True, 'preprocessor__num__scaler': StandardScaler(), 'selector__k': 7}. Best is trial 27 with value: -38.74354476572131.\n",
      "[I 2025-05-16 10:55:15,748] Trial 66 finished with value: -38.74354476572131 and parameters: {'model__fit_intercept': True, 'model__positive': True, 'preprocessor__num__scaler': StandardScaler(), 'selector__k': 5}. Best is trial 27 with value: -38.74354476572131.\n",
      "[I 2025-05-16 10:55:17,342] Trial 67 finished with value: -38.74354476572131 and parameters: {'model__fit_intercept': True, 'model__positive': True, 'preprocessor__num__scaler': StandardScaler(), 'selector__k': 5}. Best is trial 27 with value: -38.74354476572131.\n",
      "[I 2025-05-16 10:55:19,042] Trial 68 finished with value: -38.74354476572131 and parameters: {'model__fit_intercept': True, 'model__positive': True, 'preprocessor__num__scaler': StandardScaler(), 'selector__k': 5}. Best is trial 27 with value: -38.74354476572131.\n",
      "[I 2025-05-16 10:55:20,646] Trial 69 finished with value: -39.381046001021446 and parameters: {'model__fit_intercept': True, 'model__positive': True, 'preprocessor__num__scaler': StandardScaler(), 'selector__k': 3}. Best is trial 27 with value: -38.74354476572131.\n",
      "[I 2025-05-16 10:55:22,543] Trial 70 finished with value: -38.74354476572131 and parameters: {'model__fit_intercept': True, 'model__positive': True, 'preprocessor__num__scaler': StandardScaler(), 'selector__k': 5}. Best is trial 27 with value: -38.74354476572131.\n",
      "[I 2025-05-16 10:55:24,148] Trial 71 finished with value: -38.74354476572131 and parameters: {'model__fit_intercept': True, 'model__positive': True, 'preprocessor__num__scaler': StandardScaler(), 'selector__k': 5}. Best is trial 27 with value: -38.74354476572131.\n",
      "[I 2025-05-16 10:55:25,942] Trial 72 finished with value: -38.74354476572131 and parameters: {'model__fit_intercept': True, 'model__positive': True, 'preprocessor__num__scaler': StandardScaler(), 'selector__k': 5}. Best is trial 27 with value: -38.74354476572131.\n",
      "[I 2025-05-16 10:55:27,645] Trial 73 finished with value: -38.74354476572131 and parameters: {'model__fit_intercept': True, 'model__positive': True, 'preprocessor__num__scaler': StandardScaler(), 'selector__k': 5}. Best is trial 27 with value: -38.74354476572131.\n",
      "[I 2025-05-16 10:55:29,342] Trial 74 finished with value: -38.74354476572131 and parameters: {'model__fit_intercept': True, 'model__positive': True, 'preprocessor__num__scaler': StandardScaler(), 'selector__k': 5}. Best is trial 27 with value: -38.74354476572131.\n",
      "[I 2025-05-16 10:55:31,143] Trial 75 finished with value: -38.74354476572131 and parameters: {'model__fit_intercept': True, 'model__positive': True, 'preprocessor__num__scaler': StandardScaler(), 'selector__k': 5}. Best is trial 27 with value: -38.74354476572131.\n",
      "[I 2025-05-16 10:55:32,845] Trial 76 finished with value: -38.74354476572131 and parameters: {'model__fit_intercept': True, 'model__positive': True, 'preprocessor__num__scaler': StandardScaler(), 'selector__k': 5}. Best is trial 27 with value: -38.74354476572131.\n",
      "[I 2025-05-16 10:55:34,644] Trial 77 finished with value: -38.74406926928576 and parameters: {'model__fit_intercept': True, 'model__positive': True, 'preprocessor__num__scaler': StandardScaler(), 'selector__k': 7}. Best is trial 27 with value: -38.74354476572131.\n",
      "[I 2025-05-16 10:55:36,541] Trial 78 finished with value: -38.74354476572131 and parameters: {'model__fit_intercept': True, 'model__positive': True, 'preprocessor__num__scaler': StandardScaler(), 'selector__k': 5}. Best is trial 27 with value: -38.74354476572131.\n",
      "[I 2025-05-16 10:55:38,437] Trial 79 finished with value: -38.74354476572131 and parameters: {'model__fit_intercept': True, 'model__positive': True, 'preprocessor__num__scaler': StandardScaler(), 'selector__k': 5}. Best is trial 27 with value: -38.74354476572131.\n",
      "[I 2025-05-16 10:55:40,143] Trial 80 finished with value: -38.74354476572131 and parameters: {'model__fit_intercept': True, 'model__positive': True, 'preprocessor__num__scaler': StandardScaler(), 'selector__k': 5}. Best is trial 27 with value: -38.74354476572131.\n",
      "[I 2025-05-16 10:55:41,849] Trial 81 finished with value: -38.74354476572131 and parameters: {'model__fit_intercept': True, 'model__positive': True, 'preprocessor__num__scaler': StandardScaler(), 'selector__k': 5}. Best is trial 27 with value: -38.74354476572131.\n",
      "[I 2025-05-16 10:55:43,741] Trial 82 finished with value: -38.74354476572131 and parameters: {'model__fit_intercept': True, 'model__positive': True, 'preprocessor__num__scaler': StandardScaler(), 'selector__k': 5}. Best is trial 27 with value: -38.74354476572131.\n",
      "[I 2025-05-16 10:55:45,742] Trial 83 finished with value: -38.74354476572131 and parameters: {'model__fit_intercept': True, 'model__positive': True, 'preprocessor__num__scaler': StandardScaler(), 'selector__k': 5}. Best is trial 27 with value: -38.74354476572131.\n",
      "[I 2025-05-16 10:55:47,542] Trial 84 finished with value: -38.74354476572131 and parameters: {'model__fit_intercept': True, 'model__positive': True, 'preprocessor__num__scaler': StandardScaler(), 'selector__k': 5}. Best is trial 27 with value: -38.74354476572131.\n",
      "[I 2025-05-16 10:55:49,248] Trial 85 finished with value: -38.74354476572131 and parameters: {'model__fit_intercept': True, 'model__positive': True, 'preprocessor__num__scaler': StandardScaler(), 'selector__k': 5}. Best is trial 27 with value: -38.74354476572131.\n",
      "[I 2025-05-16 10:55:51,042] Trial 86 finished with value: -39.381046001021446 and parameters: {'model__fit_intercept': True, 'model__positive': True, 'preprocessor__num__scaler': StandardScaler(), 'selector__k': 3}. Best is trial 27 with value: -38.74354476572131.\n",
      "[I 2025-05-16 10:55:52,842] Trial 87 finished with value: -38.74354476572131 and parameters: {'model__fit_intercept': True, 'model__positive': True, 'preprocessor__num__scaler': StandardScaler(), 'selector__k': 5}. Best is trial 27 with value: -38.74354476572131.\n",
      "[I 2025-05-16 10:55:54,741] Trial 88 finished with value: -38.74354476572131 and parameters: {'model__fit_intercept': True, 'model__positive': True, 'preprocessor__num__scaler': StandardScaler(), 'selector__k': 5}. Best is trial 27 with value: -38.74354476572131.\n",
      "[I 2025-05-16 10:55:56,443] Trial 89 finished with value: -38.74354476572131 and parameters: {'model__fit_intercept': True, 'model__positive': True, 'preprocessor__num__scaler': StandardScaler(), 'selector__k': 5}. Best is trial 27 with value: -38.74354476572131.\n",
      "[I 2025-05-16 10:55:58,241] Trial 90 finished with value: -102.54818867480954 and parameters: {'model__fit_intercept': False, 'model__positive': True, 'preprocessor__num__scaler': StandardScaler(), 'selector__k': 5}. Best is trial 27 with value: -38.74354476572131.\n",
      "[I 2025-05-16 10:55:59,946] Trial 91 finished with value: -38.74354476572131 and parameters: {'model__fit_intercept': True, 'model__positive': True, 'preprocessor__num__scaler': StandardScaler(), 'selector__k': 5}. Best is trial 27 with value: -38.74354476572131.\n",
      "[I 2025-05-16 10:56:01,741] Trial 92 finished with value: -38.74354476572131 and parameters: {'model__fit_intercept': True, 'model__positive': True, 'preprocessor__num__scaler': StandardScaler(), 'selector__k': 5}. Best is trial 27 with value: -38.74354476572131.\n",
      "[I 2025-05-16 10:56:03,538] Trial 93 finished with value: -38.74354476572131 and parameters: {'model__fit_intercept': True, 'model__positive': True, 'preprocessor__num__scaler': StandardScaler(), 'selector__k': 5}. Best is trial 27 with value: -38.74354476572131.\n",
      "[I 2025-05-16 10:56:05,342] Trial 94 finished with value: -38.74354476572131 and parameters: {'model__fit_intercept': True, 'model__positive': True, 'preprocessor__num__scaler': StandardScaler(), 'selector__k': 5}. Best is trial 27 with value: -38.74354476572131.\n",
      "[I 2025-05-16 10:56:07,246] Trial 95 finished with value: -38.74406926928576 and parameters: {'model__fit_intercept': True, 'model__positive': True, 'preprocessor__num__scaler': StandardScaler(), 'selector__k': 7}. Best is trial 27 with value: -38.74354476572131.\n",
      "[I 2025-05-16 10:56:08,841] Trial 96 finished with value: -38.74378662109375 and parameters: {'model__fit_intercept': True, 'model__positive': False, 'preprocessor__num__scaler': MinMaxScaler(), 'selector__k': 5}. Best is trial 27 with value: -38.74354476572131.\n",
      "[I 2025-05-16 10:56:10,541] Trial 97 finished with value: -38.74354476572131 and parameters: {'model__fit_intercept': True, 'model__positive': True, 'preprocessor__num__scaler': StandardScaler(), 'selector__k': 5}. Best is trial 27 with value: -38.74354476572131.\n",
      "[I 2025-05-16 10:56:12,343] Trial 98 finished with value: -38.74354476572131 and parameters: {'model__fit_intercept': True, 'model__positive': True, 'preprocessor__num__scaler': StandardScaler(), 'selector__k': 5}. Best is trial 27 with value: -38.74354476572131.\n",
      "[I 2025-05-16 10:56:14,147] Trial 99 finished with value: -38.74354476572131 and parameters: {'model__fit_intercept': True, 'model__positive': True, 'preprocessor__num__scaler': StandardScaler(), 'selector__k': 5}. Best is trial 27 with value: -38.74354476572131.\n"
     ]
    },
    {
     "name": "stdout",
     "output_type": "stream",
     "text": [
      "Лучшие параметры: {'model__fit_intercept': True, 'model__positive': True, 'preprocessor__num__scaler': StandardScaler(), 'selector__k': 5}\n",
      "Лучшее значение RMSE (кросс-валидация): 38.74354476572131\n",
      "RMSE на валидационной выборке: 38.87778913302843\n",
      "средний запас предсказанного сырья: 94.7608614644863\n"
     ]
    },
    {
     "data": {
      "image/png": "[encoded data removed]",
      "text/plain": [
       "<Figure size 288x144 with 1 Axes>"
      ]
     },
     "metadata": {
      "needs_background": "light"
     },
     "output_type": "display_data"
    }
   ],
   "source": [
    "geo_2_predict = model(geo_data_2)"
   ]
  },
  {
   "cell_type": "markdown",
   "id": "2953a3db",
   "metadata": {},
   "source": [
    "\n",
    "**Регион 3** (`geo_data_2`)\n",
    "- **Лучшие параметры**:\n",
    "  - `fit_intercept=True`: Свободный член включён.\n",
    "  - `positive=True`: Коэффициенты ограничены только положительными значениями, что может быть полезно для интерпретации в контексте запасов сырья.\n",
    "  - `scaler=StandardScaler()`: Используется стандартизация признаков.\n",
    "  - `k=5`: Выбрано 5 признаков для модели.\n",
    "- **RMSE**:\n",
    "  - Кросс-валидация: 38.74\n",
    "  - Валидационная выборка: 38.88\n",
    "  - RMSE высокий, но разница между кросс-валидацией и валидационной выборкой мала, что указывает на стабильность модели.\n",
    "- **Средний запас предсказанного сырья**: 94.76\n",
    "- **Вывод**:\n",
    "  - Высокое значение RMSE может быть связано с мультимодальным распределением `product` и слабой корреляцией признаков с целевой переменной (0.20–0.44, как было показано в тепловой карте).\n",
    "  - Средний запас сырья самый высокий среди регионов, но большая ошибка предсказания снижает надёжность прогнозов.\n",
    "\n",
    "\n"
   ]
  },
  {
   "cell_type": "markdown",
   "id": "b546ebd4",
   "metadata": {},
   "source": [
    "#### Промежуточный вывод."
   ]
  },
  {
   "cell_type": "markdown",
   "id": "30f85f58",
   "metadata": {},
   "source": [
    "- **Сравнение регионов**:\n",
    "  - Регион 2 (`geo_data_1`) демонстрирует наилучшие результаты с точки зрения точности предсказаний (RMSE ≈ 0.89), что объясняется сильной корреляцией между `f2` и `product`. Однако средний запас сырья здесь самый низкий (68.71).\n",
    "  - Регионы 1 и 3 имеют схожие высокие значения RMSE (37.76 и 38.88 соответственно), что указывает на сложности в моделировании из-за мультимодальных распределений и слабой корреляции признаков с целевой переменной. При этом средний запас сырья выше (92.40 и 94.76 соответственно).\n",
    "- **Стабильность моделей**: Во всех регионах RMSE на кросс-валидации и валидационной выборке практически одинаковы, что говорит о хорошей обобщающей способности моделей и отсутствии переобучения.\n",
    "\n"
   ]
  },
  {
   "cell_type": "markdown",
   "id": "2b7592d0",
   "metadata": {},
   "source": [
    " <a id=\"section6\"></a>\n",
    "### Подготовка к расчёту прибыли."
   ]
  },
  {
   "cell_type": "markdown",
   "id": "14bc73e0",
   "metadata": {},
   "source": [
    "**Ключевые значения для расчётов сохранены в следующих переменных:**\n",
    "\n",
    "- `budget = 10_000_000_000` — бюджет на разработку скважин в рублях (10 млрд рублей).\n",
    "- `wells_col = 200` — количество скважин для разработки.\n",
    "- `oil_rate = 450_000` — доход с единицы продукта в рублях (450 тыс. рублей за 1000 баррелей)."
   ]
  },
  {
   "cell_type": "code",
   "execution_count": 24,
   "id": "3d45832f",
   "metadata": {},
   "outputs": [],
   "source": [
    "BUDGET = 10000000000\n",
    "WELLS_COL = 200\n",
    "OIL_RATE = 450000"
   ]
  },
  {
   "cell_type": "code",
   "execution_count": 25,
   "id": "b7c31916",
   "metadata": {},
   "outputs": [
    {
     "name": "stdout",
     "output_type": "stream",
     "text": [
      "Достаточный объём сырья для безубыточной разработки новой скважины: 111.11111111111111\n"
     ]
    }
   ],
   "source": [
    "product_need = BUDGET / WELLS_COL / OIL_RATE\n",
    "print('Достаточный объём сырья для безубыточной разработки новой скважины:', product_need)"
   ]
  },
  {
   "cell_type": "markdown",
   "id": "5206d47f",
   "metadata": {},
   "source": [
    "\n",
    "**Выводы по этапу подготовки расчёта прибыли**\n",
    "\n",
    "На основе проведённого анализа можно сделать следующие выводы:\n",
    "- **Минимальный объём сырья**: Для безубыточной разработки одной скважины требуется запас не менее 111.11 тыс. баррелей. Этот порог был определён на основе заданного бюджета (10 млрд рублей), количества скважин (200) и дохода с единицы продукта (450 тыс. рублей).\n",
    "- **Сравнение с регионами**: Средний запас предсказанного сырья во всех трёх регионах (92.40, 68.71 и 94.76 тыс. баррелей для регионов 1, 2 и 3 соответственно) ниже минимального безубыточного уровня. \n",
    "- **Перспективы регионов**: Регион 2 имеет самый низкий средний запас (68.71 тыс. баррелей), что делает его наименее привлекательным. Регионы 1 и 3 с запасами 92.40 и 94.76 тыс. баррелей ближе к безубыточному уровню, но всё же не достигают его. Однако выбор лучших скважин с запасами выше среднего может компенсировать эту разницу.\n"
   ]
  },
  {
   "cell_type": "markdown",
   "id": "11f60f82",
   "metadata": {},
   "source": [
    " <a id=\"section7\"></a>\n",
    "### Функция для рассчета прибыли."
   ]
  },
  {
   "cell_type": "code",
   "execution_count": 26,
   "id": "6089e975",
   "metadata": {},
   "outputs": [],
   "source": [
    "def profit_data(data):\n",
    "    \n",
    "    data_top = data.sort_values(by='predict_product', ascending=False)[:WELLS_COL]\n",
    "    product_sum = data_top['product'].sum()\n",
    "    profit = product_sum * OIL_RATE - BUDGET\n",
    "   \n",
    "    \n",
    "    return profit "
   ]
  },
  {
   "cell_type": "markdown",
   "id": "46ef2199",
   "metadata": {},
   "source": [
    "Функция `profit_data` вычисляет прибыль, отбирая 200 скважин с наибольшими запасами и учитывая доход от продажи сырья за вычетом фиксированного бюджета."
   ]
  },
  {
   "cell_type": "markdown",
   "id": "feeb8742",
   "metadata": {},
   "source": [
    "### Риски и прибыль для каждого региона."
   ]
  },
  {
   "cell_type": "code",
   "execution_count": 27,
   "id": "a4730000",
   "metadata": {},
   "outputs": [],
   "source": [
    "state = RandomState(12345)\n",
    "\n",
    "def region_risk(data):\n",
    "    \n",
    "    value=[]\n",
    "\n",
    "    for i in range (1000):\n",
    "        data_sample = data.sample(n=500, replace=True, random_state=state)\n",
    "        profit = profit_data(data_sample)\n",
    "        value.append(profit)\n",
    "        \n",
    "    value = pd.Series(value)\n",
    "    \n",
    "    confidence_interval = np.percentile(value, [2.5, 97.5])\n",
    "    \n",
    "    mean_value = value.mean()\n",
    "    minus_value = value[value < 0].count() / 10\n",
    "    \n",
    "    return confidence_interval, mean_value, minus_value"
   ]
  },
  {
   "cell_type": "code",
   "execution_count": 28,
   "id": "7364709f",
   "metadata": {},
   "outputs": [
    {
     "name": "stdout",
     "output_type": "stream",
     "text": [
      "Расчет прибыли и рисков для первого региона:\n",
      "95%-й доверительный интервал: [-109,679,614, 902,417,913]\n",
      "Средняя прибыль: 407,148,340\n",
      "Риск убытков: 6.8%\n"
     ]
    }
   ],
   "source": [
    "confidence_interval_0, mean_value_0, minus_value_0 = region_risk(geo_0_predict)\n",
    "print(\"Расчет прибыли и рисков для первого региона:\")\n",
    "print(f\"95%-й доверительный интервал: [{confidence_interval_0[0]:,.0f}, {confidence_interval_0[1]:,.0f}]\")\n",
    "print(f\"Средняя прибыль: {mean_value_0:,.0f}\")\n",
    "print(f\"Риск убытков: {minus_value_0}%\")"
   ]
  },
  {
   "cell_type": "code",
   "execution_count": 29,
   "id": "00e2555f",
   "metadata": {},
   "outputs": [
    {
     "name": "stdout",
     "output_type": "stream",
     "text": [
      "Расчет прибыли и рисков для второго региона:\n",
      "95%-й доверительный интервал: [35,728,877, 828,007,380]\n",
      "Средняя прибыль: 441,504,052\n",
      "Риск убытков: 1.6%\n"
     ]
    }
   ],
   "source": [
    "confidence_interval_1, mean_value_1, minus_value_1 = region_risk(geo_1_predict)\n",
    "print(\"Расчет прибыли и рисков для второго региона:\")\n",
    "print(f\"95%-й доверительный интервал: [{confidence_interval_1[0]:,.0f}, {confidence_interval_1[1]:,.0f}]\")\n",
    "print(f\"Средняя прибыль: {mean_value_1:,.0f}\")\n",
    "print(f\"Риск убытков: {minus_value_1}%\")"
   ]
  },
  {
   "cell_type": "code",
   "execution_count": 30,
   "id": "5e3a9ab3",
   "metadata": {},
   "outputs": [
    {
     "name": "stdout",
     "output_type": "stream",
     "text": [
      "Расчет прибыли и рисков для третьего региона:\n",
      "95%-й доверительный интервал: [57,259,136, 1,088,783,171]\n",
      "Средняя прибыль: 582,104,355\n",
      "Риск убытков: 1.7%\n"
     ]
    }
   ],
   "source": [
    "confidence_interval_2, mean_value_2, minus_value_2 = region_risk(geo_2_predict)\n",
    "print(\"Расчет прибыли и рисков для третьего региона:\")\n",
    "print(f\"95%-й доверительный интервал: [{confidence_interval_2[0]:,.0f}, {confidence_interval_2[1]:,.0f}]\")\n",
    "print(f\"Средняя прибыль: {mean_value_2:,.0f}\")\n",
    "print(f\"Риск убытков: {minus_value_2}%\")"
   ]
  },
  {
   "cell_type": "markdown",
   "id": "2369915c",
   "metadata": {},
   "source": [
    "**Регион 1**\n",
    "- **95%-й доверительный интервал**: [-106,886,362, 914,827,542]\n",
    "- **Средняя прибыль**: 407,058,616\n",
    "- **Риск убытков**: 5.8%\n",
    "\n",
    "**Анализ**:\n",
    "- Средняя прибыль положительная (407 млн), но доверительный интервал включает отрицательные значения (-106.9 млн), что указывает на высокую неопределенность и возможность убытков.\n",
    "- Риск убытков 5.8% выше порога в 2.5%, что делает регион не подходящим под критерии проекта.\n",
    "- Ширина доверительного интервала (914.8 - (-106.9) = 1,021.7 млн) большая, что говорит о высокой вариабельности прибыли в выборке.\n",
    "\n",
    "**Регион 2**\n",
    "- **95%-й доверительный интервал**: [59,606,145, 867,262,212]\n",
    "- **Средняя прибыль**: 445,707,480\n",
    "- **Риск убытков**: 1.1%\n",
    "\n",
    "**Анализ**:\n",
    "- Средняя прибыль выше, чем в Регионе 1 (445.7 млн), и доверительный интервал полностью положительный (от 59.6 млн), что указывает на меньшую вероятность убытков.\n",
    "- Риск убытков 1.1% значительно ниже 2.5%, что делает регион привлекательным.\n",
    "- Ширина доверительного интервала (867.3 - 59.6 = 807.7 млн) уже, чем в Регионе 1, что говорит о меньшей вариабельности.\n",
    "\n",
    "**Регион 3**\n",
    "- **95%-й доверительный интервал**: [44,051,812, 1,104,711,479]\n",
    "- **Средняя прибыль**: 567,013,499\n",
    "- **Риск убытков**: 1.8%\n",
    "\n",
    "**Анализ**:\n",
    "- Самая высокая средняя прибыль (567 млн) среди всех регионов.\n",
    "- Доверительный интервал положительный (от 44.1 млн), но шире, чем в Регионе 2 (1,104.7 - 44.1 = 1,060.6 млн), что указывает на высокую вариабельность.\n",
    "- Риск убытков 1.8% ниже 2.5%, что приемлемо, но выше, чем в Регионе 2.\n",
    "\n",
    "\n"
   ]
  },
  {
   "cell_type": "markdown",
   "id": "b215db70",
   "metadata": {},
   "source": [
    "### Общий вывод."
   ]
  },
  {
   "cell_type": "markdown",
   "id": "b2f22ffa",
   "metadata": {},
   "source": [
    "**Сравнительный анализ регионов:**\n",
    "\n",
    "| Показатель                  | Регион 1         | Регион 2         | Регион 3         |\n",
    "|-----------------------------|------------------|------------------|------------------|\n",
    "| Средняя прибыль (млн)       | 407.1            | 445.7            | 567.0            |\n",
    "| Дов. интервал (млн)         | [-106.9, 914.8]  | [59.6, 867.3]    | [44.1, 1,104.7]  |\n",
    "| Ширина интервала (млн)      | 1,021.7          | 807.7            | 1,060.6          |\n",
    "| Риск убытков (%)            | 5.8              | 1.1              | 1.8              |\n",
    "\n",
    "\n",
    "- **Прибыль**: Регион 3 имеет самую высокую среднюю прибыль (567 млн рублей), за ним следует регион 2 (445 млн рублей), и регион 1 с наименьшей прибылью (407 млн рублей).\n",
    "- **Риск убытков**: Регион 2 имеет самый низкий риск убытков (1.1%), за ним регион 3 (1.8%), а регион 1 показывает наибольший риск не подходящий под условия проекта(5.8%).\n",
    "- **Доверительный интервал**: Регион 2 демонстрирует наибольшую стабильность с самым высоким нижним порогом доверительного интервала (59 млн рублей).\n",
    "- **Учёт предыдущих данных**:\n",
    "  - Регион 1: Мультимодальное распределение признаков и умеренная корреляция с `product` (0.22–0.48) привели к высокому RMSE (37.76), что снижает точность предсказаний.\n",
    "  - Регион 2: Высокая корреляция между `f2` и `product` (0.98) обеспечила низкий RMSE (0.89), но низкий средний запас сырья (68.71 тыс. баррелей) увеличивает риск убытков.\n",
    "  - Регион 3: Несмотря на высокий RMSE (38.88) из-за мультимодальности `product`, средний запас сырья (94.76 тыс. баррелей) ближе к безубыточному уровню (111.11 тыс. баррелей), что способствует более высокой прибыли.\n",
    "\n",
    "**Рекомендуемый регион**: **Регион 2 (`geo_data_1`)**  \n",
    "\n",
    "**Обоснование выбора**:\n",
    "\n",
    "- Низкий риск убытков (1.1%, минимальный среди регионов).\n",
    "- Положительный доверительный интервал (гарантирует прибыль с высокой вероятностью).\n",
    "- Умеренная средняя прибыль (445.7 млн, выше Региона 1).\n",
    "- Наименьшая ширина доверительного интервала (807.7 млн), что указывает на меньшую неопределенность.\n",
    "- Регион 3 имеет самую высокую среднюю прибыль (567 млн), но более широкий доверительный интервал и чуть больший риск убытков (1.8%) по сравнению с Регионом 2.\n",
    "- Регион 1 наименее привлекателен, из-за шанса убытков\n",
    "\n",
    "**Заключение**: Регион 2 является оптимальным для разработки скважин, так как сочетает высокую прибыль, минимальный риск и высокую стабильность результатов. "
   ]
  },
  {
   "cell_type": "code",
   "execution_count": null,
   "id": "e64fe862",
   "metadata": {},
   "outputs": [],
   "source": []
  }
 ],
 "metadata": {
  "ExecuteTimeLog": [
   {
    "duration": 11723,
    "start_time": "2025-05-16T10:47:26.678Z"
   },
   {
    "duration": 1825,
    "start_time": "2025-05-16T10:47:38.404Z"
   },
   {
    "duration": 1331,
    "start_time": "2025-05-16T10:47:40.231Z"
   },
   {
    "duration": 34,
    "start_time": "2025-05-16T10:47:41.564Z"
   },
   {
    "duration": 51,
    "start_time": "2025-05-16T10:47:41.601Z"
   },
   {
    "duration": 24,
    "start_time": "2025-05-16T10:47:41.654Z"
   },
   {
    "duration": 74,
    "start_time": "2025-05-16T10:47:41.680Z"
   },
   {
    "duration": 145,
    "start_time": "2025-05-16T10:47:41.756Z"
   },
   {
    "duration": 65,
    "start_time": "2025-05-16T10:47:41.902Z"
   },
   {
    "duration": 33,
    "start_time": "2025-05-16T10:47:41.969Z"
   },
   {
    "duration": 108,
    "start_time": "2025-05-16T10:47:42.004Z"
   },
   {
    "duration": 38,
    "start_time": "2025-05-16T10:47:42.113Z"
   },
   {
    "duration": 5,
    "start_time": "2025-05-16T10:47:42.152Z"
   },
   {
    "duration": 1333,
    "start_time": "2025-05-16T10:47:42.161Z"
   },
   {
    "duration": 1335,
    "start_time": "2025-05-16T10:47:43.495Z"
   },
   {
    "duration": 1248,
    "start_time": "2025-05-16T10:47:44.832Z"
   },
   {
    "duration": 838,
    "start_time": "2025-05-16T10:47:46.082Z"
   },
   {
    "duration": 655,
    "start_time": "2025-05-16T10:47:46.922Z"
   },
   {
    "duration": 615,
    "start_time": "2025-05-16T10:47:47.579Z"
   },
   {
    "duration": 8,
    "start_time": "2025-05-16T10:47:48.196Z"
   },
   {
    "duration": 157157,
    "start_time": "2025-05-16T10:47:48.206Z"
   },
   {
    "duration": 172763,
    "start_time": "2025-05-16T10:50:25.365Z"
   },
   {
    "duration": 177212,
    "start_time": "2025-05-16T10:53:18.130Z"
   },
   {
    "duration": 3,
    "start_time": "2025-05-16T10:56:15.344Z"
   },
   {
    "duration": 19,
    "start_time": "2025-05-16T10:56:15.349Z"
   },
   {
    "duration": 24,
    "start_time": "2025-05-16T10:56:15.371Z"
   },
   {
    "duration": 22,
    "start_time": "2025-05-16T10:56:15.397Z"
   },
   {
    "duration": 718,
    "start_time": "2025-05-16T10:56:15.421Z"
   },
   {
    "duration": 718,
    "start_time": "2025-05-16T10:56:16.142Z"
   },
   {
    "duration": 797,
    "start_time": "2025-05-16T10:56:16.862Z"
   }
  ],
  "kernelspec": {
   "display_name": "Python 3 (ipykernel)",
   "language": "python",
   "name": "python3"
  },
  "language_info": {
   "codemirror_mode": {
    "name": "ipython",
    "version": 3
   },
   "file_extension": ".py",
   "mimetype": "text/x-python",
   "name": "python",
   "nbconvert_exporter": "python",
   "pygments_lexer": "ipython3",
   "version": "3.9.20"
  },
  "toc": {
   "base_numbering": 1,
   "nav_menu": {},
   "number_sections": true,
   "sideBar": true,
   "skip_h1_title": false,
   "title_cell": "Table of Contents",
   "title_sidebar": "Contents",
   "toc_cell": false,
   "toc_position": {
    "height": "598px",
    "left": "461px",
    "top": "111.141px",
    "width": "338px"
   },
   "toc_section_display": true,
   "toc_window_display": false
  }
 },
 "nbformat": 4,
 "nbformat_minor": 5
}
