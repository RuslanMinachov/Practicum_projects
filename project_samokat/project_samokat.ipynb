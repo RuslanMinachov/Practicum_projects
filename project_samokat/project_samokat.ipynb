{
 "cells": [
  {
   "cell_type": "markdown",
   "id": "20a37c27",
   "metadata": {},
   "source": [
    "***Краткое описание задачи:***\n",
    "\n",
    "\n",
    "**Шаг 1. Загрузка данных**\n",
    "\n",
    "1.1 Считайте CSV-файлы с данными с помощью библиотеки pandas и сохраните их в датафреймы. Пути к файлам:\n",
    "\n",
    "- /datasets/users_go.csv\n",
    "- /datasets/rides_go.csv\n",
    "- /datasets/subscriptions_go.csv\n",
    "1.2 Выведите первые строки каждого набора данных. Изучите общую информацию о каждом датафрейме.\n",
    "\n",
    "**Шаг 2. Предобработка данных** \n",
    "\n",
    "2.1 Приведите столбец date к типу даты pandas.\n",
    "2.2 Создайте новый столбец с номером месяца на основе столбца date.\n",
    "2.3 Проверьте наличие пропущенных значений и дубликатов в датафреймах. Обработайте их, если такие значения присутствуют.\n",
    "\n",
    "**Шаг 3. Исследовательский анализ данных** \n",
    "\n",
    "Опишите и визуализируйте общую информацию о пользователях и поездках:\n",
    "3.1 частота встречаемости городов;\n",
    "3.2 соотношение пользователей с подпиской и без подписки;\n",
    "3.3 возраст пользователей;\n",
    "3.4 расстояние, которое пользователь преодолел за одну поездку;\n",
    "3.5 продолжительность поездок.\n",
    "\n",
    "**Шаг 4. Объединение данных**\n",
    "\n",
    "4.1 Объедините данные о пользователях, поездках и подписках в один датафрейм. \n",
    "4.2 Создайте ещё два датафрейма из датафрейма, созданного на этапе 4.1:\n",
    "c данными о пользователях без подписки;\n",
    "с данными о пользователях с подпиской.\n",
    "4.3 Визуализируйте информацию о расстоянии и времени поездок для пользователей обеих категорий.\n",
    "\n",
    "**Шаг 5. Подсчёт выручки**\n",
    "\n",
    "5.1 Создайте датафрейм с агрегированными данными о поездках на основе датафрейма с объединёнными данными из шага 4: найдите суммарное расстояние, количество поездок и суммарное время для каждого пользователя за каждый месяц.\n",
    "5.2 В этот же датафрейм добавьте столбец с помесячной выручкой, которую принёс каждый пользователь. \n",
    "\n",
    "**Шаг 6. Проверка гипотез**\n",
    "Продакт-менеджеры сервиса хотят увеличить количество пользователей с подпиской. Для этого они будут проводить различные акции, но сначала нужно выяснить несколько важных моментов.\n",
    "\n",
    "6.1 Важно понять, тратят ли пользователи с подпиской больше времени на поездки? Если да, то пользователи с подпиской могут быть «выгоднее» для компании. Проверьте гипотезу. Используйте исходные данные о продолжительности каждой сессии — отдельно для подписчиков и тех, у кого нет подписки.\n",
    "6.2 Расстояние одной поездки в 3130 метров — оптимальное с точки зрения износа самоката. Можно ли сказать, что среднее расстояние, которое проезжают пользователи с подпиской за одну поездку, не превышает \n",
    "3130 метров? Проверьте гипотезу и сделайте выводы.\n",
    "6.3 Проверьте гипотезу о том, будет ли помесячная выручка от пользователей с подпиской по месяцам выше, чем выручка от пользователей без подписки. Сделайте вывод.\n",
    "6.4 Представьте такую ситуацию: техническая команда сервиса обновила сервера, с которыми взаимодействует мобильное приложение. Она надеется, что из-за этого количество обращений в техподдержку значимо снизилось. Некоторый файл содержит для каждого пользователя данные о количестве обращений до обновления и после него. Какой тест вам понадобился бы для проверки этой гипотезы?\n",
    "\n",
    "**Шаг 7. Распределения**\n",
    "\n",
    "7.1 Отделу маркетинга GoFast поставили задачу: нужно провести акцию с раздачей промокодов на один бесплатный месяц подписки, в рамках которой как минимум 100 существующих клиентов должны продлить эту подписку. То есть по завершении периода действия подписки пользователь может либо отказаться от неё, либо продлить, совершив соответствующий платёж. Эта акция уже проводилась ранее и по итогу выяснилось, что после бесплатного пробного периода подписку продлевают 10 % пользователей. Выясните, какое минимальное количество промокодов нужно разослать, чтобы вероятность не выполнить план была примерно 5 %. Подберите параметры распределения, описывающего эту ситуацию, постройте график распределения и сформулируйте ответ на вопрос о количестве промокодов.\n",
    "\n",
    "7.2 Отдел маркетинга рассылает клиентам push-уведомления в мобильном приложении. Клиенты могут открыть его или не открывать. Известно, что уведомления открывают около 40 % получивших клиентов. Отдел планирует разослать 1 млн уведомлений. С помощью аппроксимации постройте примерный график распределения и оцените вероятность того, что уведомление откроют не более \n",
    "399,5 тыс. пользователей."
   ]
  },
  {
   "cell_type": "code",
   "execution_count": 1,
   "id": "72576667",
   "metadata": {},
   "outputs": [],
   "source": [
    "import pandas as pd\n",
    "import matplotlib.pyplot as plt\n",
    "from scipy import stats as st\n",
    "import numpy as np\n",
    "import math"
   ]
  },
  {
   "cell_type": "markdown",
   "id": "c42cbe00",
   "metadata": {},
   "source": [
    "#### Шаг 1. Загрузка данных"
   ]
  },
  {
   "cell_type": "markdown",
   "id": "39ef9b9d",
   "metadata": {},
   "source": [
    "#####  Считаем CSV-файлы с данными  и сохраним их в датафреймы"
   ]
  },
  {
   "cell_type": "code",
   "execution_count": 2,
   "id": "eff9f206",
   "metadata": {},
   "outputs": [],
   "source": [
    "data_users = pd.read_csv('/datasets/users_go.csv')\n",
    "data_rides = pd.read_csv('/datasets/rides_go.csv')\n",
    "data_subscriptions = pd.read_csv('/datasets/subscriptions_go.csv')"
   ]
  },
  {
   "cell_type": "markdown",
   "id": "52c508a1",
   "metadata": {},
   "source": [
    "##### Изучим общую информацию о каждом датафрейме."
   ]
  },
  {
   "cell_type": "code",
   "execution_count": 3,
   "id": "8d38b70d",
   "metadata": {},
   "outputs": [
    {
     "name": "stdout",
     "output_type": "stream",
     "text": [
      "<class 'pandas.core.frame.DataFrame'>\n",
      "RangeIndex: 1565 entries, 0 to 1564\n",
      "Data columns (total 5 columns):\n",
      " #   Column             Non-Null Count  Dtype \n",
      "---  ------             --------------  ----- \n",
      " 0   user_id            1565 non-null   int64 \n",
      " 1   name               1565 non-null   object\n",
      " 2   age                1565 non-null   int64 \n",
      " 3   city               1565 non-null   object\n",
      " 4   subscription_type  1565 non-null   object\n",
      "dtypes: int64(2), object(3)\n",
      "memory usage: 61.3+ KB\n"
     ]
    },
    {
     "data": {
      "text/html": [
       "<div>\n",
       "<style scoped>\n",
       "    .dataframe tbody tr th:only-of-type {\n",
       "        vertical-align: middle;\n",
       "    }\n",
       "\n",
       "    .dataframe tbody tr th {\n",
       "        vertical-align: top;\n",
       "    }\n",
       "\n",
       "    .dataframe thead th {\n",
       "        text-align: right;\n",
       "    }\n",
       "</style>\n",
       "<table border=\"1\" class=\"dataframe\">\n",
       "  <thead>\n",
       "    <tr style=\"text-align: right;\">\n",
       "      <th></th>\n",
       "      <th>user_id</th>\n",
       "      <th>name</th>\n",
       "      <th>age</th>\n",
       "      <th>city</th>\n",
       "      <th>subscription_type</th>\n",
       "    </tr>\n",
       "  </thead>\n",
       "  <tbody>\n",
       "    <tr>\n",
       "      <th>0</th>\n",
       "      <td>1</td>\n",
       "      <td>Кира</td>\n",
       "      <td>22</td>\n",
       "      <td>Тюмень</td>\n",
       "      <td>ultra</td>\n",
       "    </tr>\n",
       "    <tr>\n",
       "      <th>1</th>\n",
       "      <td>2</td>\n",
       "      <td>Станислав</td>\n",
       "      <td>31</td>\n",
       "      <td>Омск</td>\n",
       "      <td>ultra</td>\n",
       "    </tr>\n",
       "    <tr>\n",
       "      <th>2</th>\n",
       "      <td>3</td>\n",
       "      <td>Алексей</td>\n",
       "      <td>20</td>\n",
       "      <td>Москва</td>\n",
       "      <td>ultra</td>\n",
       "    </tr>\n",
       "    <tr>\n",
       "      <th>3</th>\n",
       "      <td>4</td>\n",
       "      <td>Константин</td>\n",
       "      <td>26</td>\n",
       "      <td>Ростов-на-Дону</td>\n",
       "      <td>ultra</td>\n",
       "    </tr>\n",
       "    <tr>\n",
       "      <th>4</th>\n",
       "      <td>5</td>\n",
       "      <td>Адель</td>\n",
       "      <td>28</td>\n",
       "      <td>Омск</td>\n",
       "      <td>ultra</td>\n",
       "    </tr>\n",
       "  </tbody>\n",
       "</table>\n",
       "</div>"
      ],
      "text/plain": [
       "   user_id        name  age            city subscription_type\n",
       "0        1        Кира   22          Тюмень             ultra\n",
       "1        2   Станислав   31            Омск             ultra\n",
       "2        3     Алексей   20          Москва             ultra\n",
       "3        4  Константин   26  Ростов-на-Дону             ultra\n",
       "4        5       Адель   28            Омск             ultra"
      ]
     },
     "execution_count": 3,
     "metadata": {},
     "output_type": "execute_result"
    }
   ],
   "source": [
    "data_users.info()\n",
    "data_users.head()"
   ]
  },
  {
   "cell_type": "code",
   "execution_count": 4,
   "id": "6ad3f50c",
   "metadata": {},
   "outputs": [
    {
     "name": "stdout",
     "output_type": "stream",
     "text": [
      "<class 'pandas.core.frame.DataFrame'>\n",
      "RangeIndex: 18068 entries, 0 to 18067\n",
      "Data columns (total 4 columns):\n",
      " #   Column    Non-Null Count  Dtype  \n",
      "---  ------    --------------  -----  \n",
      " 0   user_id   18068 non-null  int64  \n",
      " 1   distance  18068 non-null  float64\n",
      " 2   duration  18068 non-null  float64\n",
      " 3   date      18068 non-null  object \n",
      "dtypes: float64(2), int64(1), object(1)\n",
      "memory usage: 564.8+ KB\n"
     ]
    },
    {
     "data": {
      "text/html": [
       "<div>\n",
       "<style scoped>\n",
       "    .dataframe tbody tr th:only-of-type {\n",
       "        vertical-align: middle;\n",
       "    }\n",
       "\n",
       "    .dataframe tbody tr th {\n",
       "        vertical-align: top;\n",
       "    }\n",
       "\n",
       "    .dataframe thead th {\n",
       "        text-align: right;\n",
       "    }\n",
       "</style>\n",
       "<table border=\"1\" class=\"dataframe\">\n",
       "  <thead>\n",
       "    <tr style=\"text-align: right;\">\n",
       "      <th></th>\n",
       "      <th>user_id</th>\n",
       "      <th>distance</th>\n",
       "      <th>duration</th>\n",
       "      <th>date</th>\n",
       "    </tr>\n",
       "  </thead>\n",
       "  <tbody>\n",
       "    <tr>\n",
       "      <th>0</th>\n",
       "      <td>1</td>\n",
       "      <td>4409.919140</td>\n",
       "      <td>25.599769</td>\n",
       "      <td>2021-01-01</td>\n",
       "    </tr>\n",
       "    <tr>\n",
       "      <th>1</th>\n",
       "      <td>1</td>\n",
       "      <td>2617.592153</td>\n",
       "      <td>15.816871</td>\n",
       "      <td>2021-01-18</td>\n",
       "    </tr>\n",
       "    <tr>\n",
       "      <th>2</th>\n",
       "      <td>1</td>\n",
       "      <td>754.159807</td>\n",
       "      <td>6.232113</td>\n",
       "      <td>2021-04-20</td>\n",
       "    </tr>\n",
       "    <tr>\n",
       "      <th>3</th>\n",
       "      <td>1</td>\n",
       "      <td>2694.783254</td>\n",
       "      <td>18.511000</td>\n",
       "      <td>2021-08-11</td>\n",
       "    </tr>\n",
       "    <tr>\n",
       "      <th>4</th>\n",
       "      <td>1</td>\n",
       "      <td>4028.687306</td>\n",
       "      <td>26.265803</td>\n",
       "      <td>2021-08-28</td>\n",
       "    </tr>\n",
       "  </tbody>\n",
       "</table>\n",
       "</div>"
      ],
      "text/plain": [
       "   user_id     distance   duration        date\n",
       "0        1  4409.919140  25.599769  2021-01-01\n",
       "1        1  2617.592153  15.816871  2021-01-18\n",
       "2        1   754.159807   6.232113  2021-04-20\n",
       "3        1  2694.783254  18.511000  2021-08-11\n",
       "4        1  4028.687306  26.265803  2021-08-28"
      ]
     },
     "execution_count": 4,
     "metadata": {},
     "output_type": "execute_result"
    }
   ],
   "source": [
    "data_rides.info()\n",
    "data_rides.head()"
   ]
  },
  {
   "cell_type": "code",
   "execution_count": 5,
   "id": "8c6cea72",
   "metadata": {},
   "outputs": [
    {
     "name": "stdout",
     "output_type": "stream",
     "text": [
      "<class 'pandas.core.frame.DataFrame'>\n",
      "RangeIndex: 2 entries, 0 to 1\n",
      "Data columns (total 4 columns):\n",
      " #   Column             Non-Null Count  Dtype \n",
      "---  ------             --------------  ----- \n",
      " 0   subscription_type  2 non-null      object\n",
      " 1   minute_price       2 non-null      int64 \n",
      " 2   start_ride_price   2 non-null      int64 \n",
      " 3   subscription_fee   2 non-null      int64 \n",
      "dtypes: int64(3), object(1)\n",
      "memory usage: 192.0+ bytes\n"
     ]
    },
    {
     "data": {
      "text/html": [
       "<div>\n",
       "<style scoped>\n",
       "    .dataframe tbody tr th:only-of-type {\n",
       "        vertical-align: middle;\n",
       "    }\n",
       "\n",
       "    .dataframe tbody tr th {\n",
       "        vertical-align: top;\n",
       "    }\n",
       "\n",
       "    .dataframe thead th {\n",
       "        text-align: right;\n",
       "    }\n",
       "</style>\n",
       "<table border=\"1\" class=\"dataframe\">\n",
       "  <thead>\n",
       "    <tr style=\"text-align: right;\">\n",
       "      <th></th>\n",
       "      <th>subscription_type</th>\n",
       "      <th>minute_price</th>\n",
       "      <th>start_ride_price</th>\n",
       "      <th>subscription_fee</th>\n",
       "    </tr>\n",
       "  </thead>\n",
       "  <tbody>\n",
       "    <tr>\n",
       "      <th>0</th>\n",
       "      <td>free</td>\n",
       "      <td>8</td>\n",
       "      <td>50</td>\n",
       "      <td>0</td>\n",
       "    </tr>\n",
       "    <tr>\n",
       "      <th>1</th>\n",
       "      <td>ultra</td>\n",
       "      <td>6</td>\n",
       "      <td>0</td>\n",
       "      <td>199</td>\n",
       "    </tr>\n",
       "  </tbody>\n",
       "</table>\n",
       "</div>"
      ],
      "text/plain": [
       "  subscription_type  minute_price  start_ride_price  subscription_fee\n",
       "0              free             8                50                 0\n",
       "1             ultra             6                 0               199"
      ]
     },
     "execution_count": 5,
     "metadata": {},
     "output_type": "execute_result"
    }
   ],
   "source": [
    "data_subscriptions.info()\n",
    "data_subscriptions.head()"
   ]
  },
  {
   "cell_type": "markdown",
   "id": "64fb2979",
   "metadata": {},
   "source": [
    "**Вывод**: Считали три csv-файла на их основе создали три датафрейма: `data_users`, `data_rides`, `data_subscription`. Датафрейм `data_users` содержит 1565 строк с информацией: id пользователя, имя, возраст, город и тип подписки. Датафрейм `data_rides` содержит 18068 строк с информацией о каждой поездке: id пользователя, дистанция поездки, время поездки и дату. Датафрейм `data_subscription` содержит 2 строки с информацией о ценах езды с подписокй и без подписки: тип подписки, сотоимость минуты, стоимость старта, стоимость подписки."
   ]
  },
  {
   "cell_type": "markdown",
   "id": "e95ebca7",
   "metadata": {},
   "source": [
    "#### Шаг 2. Предобработка данных"
   ]
  },
  {
   "cell_type": "markdown",
   "id": "dd8333f9",
   "metadata": {},
   "source": [
    "##### Приведем столбец date к типу даты pandas."
   ]
  },
  {
   "cell_type": "code",
   "execution_count": 6,
   "id": "af6d202c",
   "metadata": {
    "scrolled": true
   },
   "outputs": [
    {
     "name": "stdout",
     "output_type": "stream",
     "text": [
      "<class 'pandas.core.frame.DataFrame'>\n",
      "RangeIndex: 18068 entries, 0 to 18067\n",
      "Data columns (total 4 columns):\n",
      " #   Column    Non-Null Count  Dtype         \n",
      "---  ------    --------------  -----         \n",
      " 0   user_id   18068 non-null  int64         \n",
      " 1   distance  18068 non-null  float64       \n",
      " 2   duration  18068 non-null  float64       \n",
      " 3   date      18068 non-null  datetime64[ns]\n",
      "dtypes: datetime64[ns](1), float64(2), int64(1)\n",
      "memory usage: 564.8 KB\n"
     ]
    }
   ],
   "source": [
    "data_rides['date'] = pd.to_datetime(data_rides['date'], format = '%Y-%m-%d')\n",
    "data_rides.info()"
   ]
  },
  {
   "cell_type": "markdown",
   "id": "8bf509cc",
   "metadata": {},
   "source": [
    "##### Создадим новый столбец с номером месяца."
   ]
  },
  {
   "cell_type": "code",
   "execution_count": 7,
   "id": "d76687fa",
   "metadata": {},
   "outputs": [],
   "source": [
    "data_rides['month'] = data_rides['date'].dt.month"
   ]
  },
  {
   "cell_type": "markdown",
   "id": "e2768a86",
   "metadata": {},
   "source": [
    "##### Обработаем пропущенные значения и дубликаты в датафреймах."
   ]
  },
  {
   "cell_type": "code",
   "execution_count": 8,
   "id": "0cdb4695",
   "metadata": {},
   "outputs": [
    {
     "name": "stdout",
     "output_type": "stream",
     "text": [
      "Количество дубликатов в data_rides - 0\n",
      "Количество дубликатов в data_users - 31\n"
     ]
    }
   ],
   "source": [
    "print(f'Количество дубликатов в data_rides - {data_rides.duplicated().sum()}')\n",
    "print(f'Количество дубликатов в data_users - {data_users.duplicated().sum()}')"
   ]
  },
  {
   "cell_type": "code",
   "execution_count": 9,
   "id": "59a1fe81",
   "metadata": {},
   "outputs": [
    {
     "name": "stdout",
     "output_type": "stream",
     "text": [
      "Количество дубликатов в data_users - 0\n"
     ]
    }
   ],
   "source": [
    "data_users = data_users.drop_duplicates().reset_index(drop=True)\n",
    "print(f'Количество дубликатов в data_users - {data_users.duplicated().sum()}')"
   ]
  },
  {
   "cell_type": "markdown",
   "id": "212593c7",
   "metadata": {},
   "source": [
    "#### Шаг 3. Исследовательский анализ данных"
   ]
  },
  {
   "cell_type": "markdown",
   "id": "3cbf7410",
   "metadata": {},
   "source": [
    "##### Частота встречаемости городов."
   ]
  },
  {
   "cell_type": "code",
   "execution_count": 10,
   "id": "e3a4274c",
   "metadata": {
    "scrolled": true
   },
   "outputs": [
    {
     "data": {
      "image/png": "[encoded data removed]",
      "text/plain": [
       "<Figure size 432x288 with 1 Axes>"
      ]
     },
     "metadata": {
      "needs_background": "light"
     },
     "output_type": "display_data"
    }
   ],
   "source": [
    "ax = data_users['city'].value_counts().plot(kind='bar', grid=True)\n",
    "plt.title('Частота встречаемости городов')\n",
    "\n",
    "for i, value in enumerate(data_users['city'].value_counts()):\n",
    "    ax.text(i, value, str(value), ha='center', va='bottom')\n",
    "\n",
    "plt.xlabel('Города')\n",
    "plt.ylabel('Количество значений')\n",
    "\n",
    "plt.show()\n"
   ]
  },
  {
   "cell_type": "markdown",
   "id": "7f3f7fb3",
   "metadata": {},
   "source": [
    "Все занчения частоты встречаемости городов в датафрейме `data_users` в столбце `city` расположились в промежутке от 168 до 219 значений. Наиольшее количество значений в городах `Пятигорск` и `Екатеринбург` 219 и 204 соответственно. В середине списка по количеству значений расположились города `Ростов-на-Дону`, `Краснодар`, `Сочи`, `Омск` и `Тюмень` 198, 193, 189, 183 и 180 соответственно. Меньше всего значений из `Москвы` - 168 значений."
   ]
  },
  {
   "cell_type": "markdown",
   "id": "df7709ed",
   "metadata": {},
   "source": [
    "##### Cоотношение пользователей с подпиской и без подписки."
   ]
  },
  {
   "cell_type": "code",
   "execution_count": 11,
   "id": "313b4695",
   "metadata": {},
   "outputs": [
    {
     "data": {
      "text/plain": [
       "<function matplotlib.pyplot.show(close=None, block=None)>"
      ]
     },
     "execution_count": 11,
     "metadata": {},
     "output_type": "execute_result"
    },
    {
     "data": {
      "image/png": "[encoded data removed]",
      "text/plain": [
       "<Figure size 432x432 with 1 Axes>"
      ]
     },
     "metadata": {},
     "output_type": "display_data"
    }
   ],
   "source": [
    "data_users['subscription_type'].value_counts().plot(kind='pie', autopct='%1.1f%%', figsize=(6,6)) \n",
    "plt.title('Соотношение пользователей с подпиской и без подписки')\n",
    "plt.show"
   ]
  },
  {
   "cell_type": "markdown",
   "id": "83c48512",
   "metadata": {},
   "source": [
    "Количество пользователей с подпиской состовляет 45.6 процентов от общего количества пользователей. Количество пользователей без подписки состовляет 54.4 процента."
   ]
  },
  {
   "cell_type": "markdown",
   "id": "5ee0f43b",
   "metadata": {},
   "source": [
    "##### Возраст пользователей."
   ]
  },
  {
   "cell_type": "code",
   "execution_count": 12,
   "id": "2a2d6b10",
   "metadata": {
    "scrolled": true
   },
   "outputs": [
    {
     "data": {
      "text/plain": [
       "<function matplotlib.pyplot.show(close=None, block=None)>"
      ]
     },
     "execution_count": 12,
     "metadata": {},
     "output_type": "execute_result"
    },
    {
     "data": {
      "image/png": "[encoded data removed]",
      "text/plain": [
       "<Figure size 576x288 with 1 Axes>"
      ]
     },
     "metadata": {
      "needs_background": "light"
     },
     "output_type": "display_data"
    }
   ],
   "source": [
    "data_users['age'].plot(kind='hist', grid=True, bins=30, figsize=(8,4))\n",
    "plt.title('Гистограмма возраста пользователей')\n",
    "plt.xlabel('Возраст')\n",
    "plt.ylabel('Количество значений')\n",
    "plt.show"
   ]
  },
  {
   "cell_type": "code",
   "execution_count": 13,
   "id": "c1d1d43c",
   "metadata": {},
   "outputs": [
    {
     "data": {
      "text/plain": [
       "count    1534.000000\n",
       "mean       24.903520\n",
       "std         4.572367\n",
       "min        12.000000\n",
       "25%        22.000000\n",
       "50%        25.000000\n",
       "75%        28.000000\n",
       "max        43.000000\n",
       "Name: age, dtype: float64"
      ]
     },
     "execution_count": 13,
     "metadata": {},
     "output_type": "execute_result"
    }
   ],
   "source": [
    "data_users['age'].describe()"
   ]
  },
  {
   "cell_type": "markdown",
   "id": "818496c7",
   "metadata": {},
   "source": [
    "Гистограмма имеет тип распределения Пуассона. Возраст пользователей расположился в промежутке от `12` до `43` лет. Наибольшее количсетво пользователей имееют возраст от `20` до `30` лет. Реже можно встретить пользователей от `12` до `20` и от `30` до `35` лет. Крайне редко пользователю более `35` лет."
   ]
  },
  {
   "cell_type": "markdown",
   "id": "cad46a6b",
   "metadata": {},
   "source": [
    "##### Расстояние, которое пользователь преодолел за одну поездку."
   ]
  },
  {
   "cell_type": "code",
   "execution_count": 14,
   "id": "48c295eb",
   "metadata": {
    "scrolled": false
   },
   "outputs": [
    {
     "data": {
      "text/plain": [
       "<function matplotlib.pyplot.show(close=None, block=None)>"
      ]
     },
     "execution_count": 14,
     "metadata": {},
     "output_type": "execute_result"
    },
    {
     "data": {
      "image/png": "[encoded data removed]",
      "text/plain": [
       "<Figure size 432x288 with 1 Axes>"
      ]
     },
     "metadata": {
      "needs_background": "light"
     },
     "output_type": "display_data"
    }
   ],
   "source": [
    "data_rides['distance'].plot(kind='hist', grid=True, bins=50)\n",
    "plt.title('Гистограмма расстояний поездок')\n",
    "plt.xlabel('Расстояние')\n",
    "plt.ylabel('Количество значений')\n",
    "plt.show"
   ]
  },
  {
   "cell_type": "markdown",
   "id": "4fcc95ef",
   "metadata": {},
   "source": [
    "Наиболее часто имеет значение близкое к `3000` метров и с увеличением длины расстояние частота поездок уменьшается вплоть до `7000` метров. Также есть небольшой всплеск в районе `500` метров."
   ]
  },
  {
   "cell_type": "markdown",
   "id": "39549d4d",
   "metadata": {},
   "source": [
    "##### "
   ]
  },
  {
   "cell_type": "code",
   "execution_count": 15,
   "id": "bf65139e",
   "metadata": {
    "scrolled": true
   },
   "outputs": [
    {
     "data": {
      "image/png": "[encoded data removed]",
      "text/plain": [
       "<Figure size 432x288 with 1 Axes>"
      ]
     },
     "metadata": {
      "needs_background": "light"
     },
     "output_type": "display_data"
    }
   ],
   "source": [
    "data_rides['duration'].plot(kind='hist', grid=True, bins=50)\n",
    "plt.title('Гистограмма продолжительности поездок')\n",
    "plt.xlabel('Продолжительность поездки ')\n",
    "plt.ylabel('Количество значений')\n",
    "plt.show()"
   ]
  },
  {
   "cell_type": "code",
   "execution_count": 16,
   "id": "97740837",
   "metadata": {
    "scrolled": true
   },
   "outputs": [
    {
     "name": "stdout",
     "output_type": "stream",
     "text": [
      "[0.5]\n"
     ]
    },
    {
     "data": {
      "text/plain": [
       "15132    4030.308008\n",
       "17909    4103.998874\n",
       "10692    4106.278268\n",
       "9698     4169.066800\n",
       "14342    4177.139336\n",
       "            ...     \n",
       "14574    6316.574814\n",
       "13701    6414.516026\n",
       "11385    6601.197575\n",
       "17242    6724.932981\n",
       "16309    7211.007745\n",
       "Name: distance, Length: 95, dtype: float64"
      ]
     },
     "execution_count": 16,
     "metadata": {},
     "output_type": "execute_result"
    }
   ],
   "source": [
    "print(data_rides.query('duration < 2')['duration'].unique())\n",
    "data_rides.query('duration < 2')['distance'].sort_values()"
   ]
  },
  {
   "cell_type": "markdown",
   "id": "7dd51f4c",
   "metadata": {},
   "source": [
    "data_rides.loc[data_rides['duration']<2, 'duration'] = 30"
   ]
  },
  {
   "cell_type": "code",
   "execution_count": 17,
   "id": "e2bb19d8",
   "metadata": {
    "scrolled": true
   },
   "outputs": [
    {
     "data": {
      "image/png": "[encoded data removed]",
      "text/plain": [
       "<Figure size 432x288 with 1 Axes>"
      ]
     },
     "metadata": {
      "needs_background": "light"
     },
     "output_type": "display_data"
    }
   ],
   "source": [
    "data_rides['duration'].plot(kind='hist', grid=True, bins=50)\n",
    "plt.title('Гистограмма продолжительности поездок')\n",
    "plt.xlabel('Продолжительность поездки ')\n",
    "plt.ylabel('Количество значений')\n",
    "plt.show()"
   ]
  },
  {
   "cell_type": "markdown",
   "id": "ebe2de3a",
   "metadata": {},
   "source": [
    "График имеет тип распределения Пуассона. Большинство поездок длится от `12` до `21` минуты с равноудаленными хвостами в обе стороны."
   ]
  },
  {
   "cell_type": "markdown",
   "id": "4ef51331",
   "metadata": {},
   "source": [
    "#### Шаг 4. Объединение данных"
   ]
  },
  {
   "cell_type": "markdown",
   "id": "ef9486cb",
   "metadata": {},
   "source": [
    "##### Объединим данные о пользователях, поездках и подписках в один датафрейм `data`"
   ]
  },
  {
   "cell_type": "code",
   "execution_count": 18,
   "id": "6bf288b5",
   "metadata": {
    "scrolled": true
   },
   "outputs": [
    {
     "data": {
      "text/html": [
       "<div>\n",
       "<style scoped>\n",
       "    .dataframe tbody tr th:only-of-type {\n",
       "        vertical-align: middle;\n",
       "    }\n",
       "\n",
       "    .dataframe tbody tr th {\n",
       "        vertical-align: top;\n",
       "    }\n",
       "\n",
       "    .dataframe thead th {\n",
       "        text-align: right;\n",
       "    }\n",
       "</style>\n",
       "<table border=\"1\" class=\"dataframe\">\n",
       "  <thead>\n",
       "    <tr style=\"text-align: right;\">\n",
       "      <th></th>\n",
       "      <th>user_id</th>\n",
       "      <th>distance</th>\n",
       "      <th>duration</th>\n",
       "      <th>date</th>\n",
       "      <th>month</th>\n",
       "      <th>name</th>\n",
       "      <th>age</th>\n",
       "      <th>city</th>\n",
       "      <th>subscription_type</th>\n",
       "      <th>minute_price</th>\n",
       "      <th>start_ride_price</th>\n",
       "      <th>subscription_fee</th>\n",
       "    </tr>\n",
       "  </thead>\n",
       "  <tbody>\n",
       "    <tr>\n",
       "      <th>0</th>\n",
       "      <td>1</td>\n",
       "      <td>4409.919140</td>\n",
       "      <td>25.599769</td>\n",
       "      <td>2021-01-01</td>\n",
       "      <td>1</td>\n",
       "      <td>Кира</td>\n",
       "      <td>22</td>\n",
       "      <td>Тюмень</td>\n",
       "      <td>ultra</td>\n",
       "      <td>6</td>\n",
       "      <td>0</td>\n",
       "      <td>199</td>\n",
       "    </tr>\n",
       "    <tr>\n",
       "      <th>1</th>\n",
       "      <td>1</td>\n",
       "      <td>2617.592153</td>\n",
       "      <td>15.816871</td>\n",
       "      <td>2021-01-18</td>\n",
       "      <td>1</td>\n",
       "      <td>Кира</td>\n",
       "      <td>22</td>\n",
       "      <td>Тюмень</td>\n",
       "      <td>ultra</td>\n",
       "      <td>6</td>\n",
       "      <td>0</td>\n",
       "      <td>199</td>\n",
       "    </tr>\n",
       "    <tr>\n",
       "      <th>2</th>\n",
       "      <td>1</td>\n",
       "      <td>754.159807</td>\n",
       "      <td>6.232113</td>\n",
       "      <td>2021-04-20</td>\n",
       "      <td>4</td>\n",
       "      <td>Кира</td>\n",
       "      <td>22</td>\n",
       "      <td>Тюмень</td>\n",
       "      <td>ultra</td>\n",
       "      <td>6</td>\n",
       "      <td>0</td>\n",
       "      <td>199</td>\n",
       "    </tr>\n",
       "    <tr>\n",
       "      <th>3</th>\n",
       "      <td>1</td>\n",
       "      <td>2694.783254</td>\n",
       "      <td>18.511000</td>\n",
       "      <td>2021-08-11</td>\n",
       "      <td>8</td>\n",
       "      <td>Кира</td>\n",
       "      <td>22</td>\n",
       "      <td>Тюмень</td>\n",
       "      <td>ultra</td>\n",
       "      <td>6</td>\n",
       "      <td>0</td>\n",
       "      <td>199</td>\n",
       "    </tr>\n",
       "    <tr>\n",
       "      <th>4</th>\n",
       "      <td>1</td>\n",
       "      <td>4028.687306</td>\n",
       "      <td>26.265803</td>\n",
       "      <td>2021-08-28</td>\n",
       "      <td>8</td>\n",
       "      <td>Кира</td>\n",
       "      <td>22</td>\n",
       "      <td>Тюмень</td>\n",
       "      <td>ultra</td>\n",
       "      <td>6</td>\n",
       "      <td>0</td>\n",
       "      <td>199</td>\n",
       "    </tr>\n",
       "  </tbody>\n",
       "</table>\n",
       "</div>"
      ],
      "text/plain": [
       "   user_id     distance   duration       date  month  name  age    city  \\\n",
       "0        1  4409.919140  25.599769 2021-01-01      1  Кира   22  Тюмень   \n",
       "1        1  2617.592153  15.816871 2021-01-18      1  Кира   22  Тюмень   \n",
       "2        1   754.159807   6.232113 2021-04-20      4  Кира   22  Тюмень   \n",
       "3        1  2694.783254  18.511000 2021-08-11      8  Кира   22  Тюмень   \n",
       "4        1  4028.687306  26.265803 2021-08-28      8  Кира   22  Тюмень   \n",
       "\n",
       "  subscription_type  minute_price  start_ride_price  subscription_fee  \n",
       "0             ultra             6                 0               199  \n",
       "1             ultra             6                 0               199  \n",
       "2             ultra             6                 0               199  \n",
       "3             ultra             6                 0               199  \n",
       "4             ultra             6                 0               199  "
      ]
     },
     "execution_count": 18,
     "metadata": {},
     "output_type": "execute_result"
    }
   ],
   "source": [
    "data = data_rides.merge(data_users, on = 'user_id')\n",
    "data = data.merge(data_subscriptions, on = 'subscription_type')\n",
    "data.head(5)"
   ]
  },
  {
   "cell_type": "markdown",
   "id": "77201693",
   "metadata": {},
   "source": [
    "#####  Создадим ещё два датафрейма из датафрейма, созданного на этапе 4.1."
   ]
  },
  {
   "cell_type": "markdown",
   "id": "91765663",
   "metadata": {},
   "source": [
    "- `data_free` c данными о пользователях без подписки;\n",
    "- `data_ultra` с данными о пользователях с подпиской."
   ]
  },
  {
   "cell_type": "code",
   "execution_count": 19,
   "id": "d9dd1c97",
   "metadata": {},
   "outputs": [],
   "source": [
    "data_ultra = data[data['subscription_type'] == 'ultra'].reset_index(drop = True)\n",
    "data_free = data[data['subscription_type'] == 'free'].reset_index(drop = True)"
   ]
  },
  {
   "cell_type": "code",
   "execution_count": 20,
   "id": "92b23250",
   "metadata": {
    "scrolled": true
   },
   "outputs": [
    {
     "name": "stdout",
     "output_type": "stream",
     "text": [
      "<class 'pandas.core.frame.DataFrame'>\n",
      "RangeIndex: 6500 entries, 0 to 6499\n",
      "Data columns (total 12 columns):\n",
      " #   Column             Non-Null Count  Dtype         \n",
      "---  ------             --------------  -----         \n",
      " 0   user_id            6500 non-null   int64         \n",
      " 1   distance           6500 non-null   float64       \n",
      " 2   duration           6500 non-null   float64       \n",
      " 3   date               6500 non-null   datetime64[ns]\n",
      " 4   month              6500 non-null   int64         \n",
      " 5   name               6500 non-null   object        \n",
      " 6   age                6500 non-null   int64         \n",
      " 7   city               6500 non-null   object        \n",
      " 8   subscription_type  6500 non-null   object        \n",
      " 9   minute_price       6500 non-null   int64         \n",
      " 10  start_ride_price   6500 non-null   int64         \n",
      " 11  subscription_fee   6500 non-null   int64         \n",
      "dtypes: datetime64[ns](1), float64(2), int64(6), object(3)\n",
      "memory usage: 609.5+ KB\n",
      "<class 'pandas.core.frame.DataFrame'>\n",
      "RangeIndex: 11568 entries, 0 to 11567\n",
      "Data columns (total 12 columns):\n",
      " #   Column             Non-Null Count  Dtype         \n",
      "---  ------             --------------  -----         \n",
      " 0   user_id            11568 non-null  int64         \n",
      " 1   distance           11568 non-null  float64       \n",
      " 2   duration           11568 non-null  float64       \n",
      " 3   date               11568 non-null  datetime64[ns]\n",
      " 4   month              11568 non-null  int64         \n",
      " 5   name               11568 non-null  object        \n",
      " 6   age                11568 non-null  int64         \n",
      " 7   city               11568 non-null  object        \n",
      " 8   subscription_type  11568 non-null  object        \n",
      " 9   minute_price       11568 non-null  int64         \n",
      " 10  start_ride_price   11568 non-null  int64         \n",
      " 11  subscription_fee   11568 non-null  int64         \n",
      "dtypes: datetime64[ns](1), float64(2), int64(6), object(3)\n",
      "memory usage: 1.1+ MB\n"
     ]
    }
   ],
   "source": [
    "data_ultra.info()\n",
    "data_free.info()"
   ]
  },
  {
   "cell_type": "markdown",
   "id": "54781b1e",
   "metadata": {},
   "source": [
    "#####  Визуализируем информацию о расстоянии и времени поездок для пользователей обеих категорий."
   ]
  },
  {
   "cell_type": "code",
   "execution_count": 21,
   "id": "5ac80f80",
   "metadata": {
    "scrolled": true
   },
   "outputs": [
    {
     "data": {
      "text/plain": [
       "<function matplotlib.pyplot.show(close=None, block=None)>"
      ]
     },
     "execution_count": 21,
     "metadata": {},
     "output_type": "execute_result"
    },
    {
     "data": {
      "image/png": "[encoded data removed]",
      "text/plain": [
       "<Figure size 432x288 with 1 Axes>"
      ]
     },
     "metadata": {
      "needs_background": "light"
     },
     "output_type": "display_data"
    }
   ],
   "source": [
    "data_free['distance'].plot(kind='hist', grid=True, bins=50, label='Тариф free')\n",
    "data_ultra['distance'].plot(kind='hist', grid=True, bins=50, label='Тариф ultra')\n",
    "\n",
    "plt.title('Гистограмма расстояний поездок')\n",
    "plt.xlabel('Расстояние поездки ')\n",
    "plt.ylabel('Количество значений')\n",
    "\n",
    "plt.legend()\n",
    "\n",
    "plt.show"
   ]
  },
  {
   "cell_type": "markdown",
   "id": "74f0b276",
   "metadata": {},
   "source": [
    "- Для пользователей с подпиской преобладают поездки длиной от `2,5 до 4 км`. Поездки длиной от `4 до 5 км` и `от 0 до 2 км` встречаются горазда реже. \n",
    "- Для пользователей без подписки преобладают поездки длиной `от 2 до 5 км`. Поездки длиной `от 5 до 7 км` и от `0 до 2 км` встречаются горазда реже."
   ]
  },
  {
   "cell_type": "code",
   "execution_count": 22,
   "id": "07f68831",
   "metadata": {},
   "outputs": [
    {
     "data": {
      "image/png": "[encoded data removed]",
      "text/plain": [
       "<Figure size 432x288 with 1 Axes>"
      ]
     },
     "metadata": {
      "needs_background": "light"
     },
     "output_type": "display_data"
    }
   ],
   "source": [
    "data_free['duration'].plot(kind='hist', grid=True, bins=50, label='Тариф free')\n",
    "data_ultra['duration'].plot(kind='hist', grid=True, bins=50, label='Тариф ultra')\n",
    "\n",
    "plt.title('Гистограмма продолжительности поездок')\n",
    "plt.xlabel('Продолжительность поездки ')\n",
    "plt.ylabel('Количество значений')\n",
    "plt.legend()\n",
    "\n",
    "plt.show()"
   ]
  },
  {
   "cell_type": "markdown",
   "id": "ea678fb7",
   "metadata": {},
   "source": [
    "- Для пользователей с подпиской: график имеет тип распределения Пуассона с пиком от `15 до 20 минут` и хвостами в обе стороны `до 3 и 40 минут`.\n",
    "- Для пользователей без подписки: График имеет тип распределения Пуассона с пиком от `13 до 22 минут` и хвостами в обе стороны `до 2 и 35 минут`."
   ]
  },
  {
   "cell_type": "markdown",
   "id": "402d620f",
   "metadata": {},
   "source": [
    "#### Шаг 5. Подсчёт выручки"
   ]
  },
  {
   "cell_type": "markdown",
   "id": "7d718a03",
   "metadata": {},
   "source": [
    "##### Найдем суммарное расстояние, количество поездок и суммарное время для каждого пользователя за каждый месяц."
   ]
  },
  {
   "cell_type": "markdown",
   "id": "11790f05",
   "metadata": {},
   "source": [
    "Создадим сводную таблицу `data_revenue`."
   ]
  },
  {
   "cell_type": "code",
   "execution_count": 23,
   "id": "d0df70ac",
   "metadata": {},
   "outputs": [],
   "source": [
    "data['duration'] = np.ceil(data['duration']) "
   ]
  },
  {
   "cell_type": "code",
   "execution_count": 24,
   "id": "53049e0a",
   "metadata": {
    "scrolled": true
   },
   "outputs": [
    {
     "data": {
      "text/html": [
       "<div>\n",
       "<style scoped>\n",
       "    .dataframe tbody tr th:only-of-type {\n",
       "        vertical-align: middle;\n",
       "    }\n",
       "\n",
       "    .dataframe tbody tr th {\n",
       "        vertical-align: top;\n",
       "    }\n",
       "\n",
       "    .dataframe thead th {\n",
       "        text-align: right;\n",
       "    }\n",
       "</style>\n",
       "<table border=\"1\" class=\"dataframe\">\n",
       "  <thead>\n",
       "    <tr style=\"text-align: right;\">\n",
       "      <th></th>\n",
       "      <th>user_id</th>\n",
       "      <th>month</th>\n",
       "      <th>count</th>\n",
       "      <th>distance</th>\n",
       "      <th>duration</th>\n",
       "    </tr>\n",
       "  </thead>\n",
       "  <tbody>\n",
       "    <tr>\n",
       "      <th>0</th>\n",
       "      <td>1</td>\n",
       "      <td>1</td>\n",
       "      <td>2</td>\n",
       "      <td>7027.511294</td>\n",
       "      <td>42.0</td>\n",
       "    </tr>\n",
       "    <tr>\n",
       "      <th>1</th>\n",
       "      <td>1</td>\n",
       "      <td>4</td>\n",
       "      <td>1</td>\n",
       "      <td>754.159807</td>\n",
       "      <td>7.0</td>\n",
       "    </tr>\n",
       "    <tr>\n",
       "      <th>2</th>\n",
       "      <td>1</td>\n",
       "      <td>8</td>\n",
       "      <td>2</td>\n",
       "      <td>6723.470560</td>\n",
       "      <td>46.0</td>\n",
       "    </tr>\n",
       "    <tr>\n",
       "      <th>3</th>\n",
       "      <td>1</td>\n",
       "      <td>10</td>\n",
       "      <td>2</td>\n",
       "      <td>5809.911100</td>\n",
       "      <td>32.0</td>\n",
       "    </tr>\n",
       "    <tr>\n",
       "      <th>4</th>\n",
       "      <td>1</td>\n",
       "      <td>11</td>\n",
       "      <td>3</td>\n",
       "      <td>7003.499363</td>\n",
       "      <td>56.0</td>\n",
       "    </tr>\n",
       "  </tbody>\n",
       "</table>\n",
       "</div>"
      ],
      "text/plain": [
       "   user_id  month  count     distance  duration\n",
       "0        1      1      2  7027.511294      42.0\n",
       "1        1      4      1   754.159807       7.0\n",
       "2        1      8      2  6723.470560      46.0\n",
       "3        1     10      2  5809.911100      32.0\n",
       "4        1     11      3  7003.499363      56.0"
      ]
     },
     "execution_count": 24,
     "metadata": {},
     "output_type": "execute_result"
    }
   ],
   "source": [
    "data['count'] = 1\n",
    "data_revenue = data.pivot_table(index=['user_id', 'month'], values=['distance', 'duration', 'count'], aggfunc='sum').reset_index()\n",
    "data_revenue.head(5)"
   ]
  },
  {
   "cell_type": "markdown",
   "id": "d50a91d1",
   "metadata": {},
   "source": [
    "##### В этот же датафрейм добавим столбец с помесячной выручкой, которую принёс каждый пользователь."
   ]
  },
  {
   "cell_type": "markdown",
   "id": "c56415da",
   "metadata": {},
   "source": [
    "Создадим функцию для подсчета выручки от каждого пользователя."
   ]
  },
  {
   "cell_type": "code",
   "execution_count": 25,
   "id": "16d97a17",
   "metadata": {},
   "outputs": [],
   "source": [
    "def calculate_value(row):\n",
    "    return row['start_ride_price']*row['count'] + row['minute_price']*math.ceil(row['duration']) + row['subscription_fee']"
   ]
  },
  {
   "cell_type": "markdown",
   "id": "566318f3",
   "metadata": {},
   "source": [
    "Добавляем столбец `value` в датафрейм `data_revenue`."
   ]
  },
  {
   "cell_type": "code",
   "execution_count": 26,
   "id": "00fe21f0",
   "metadata": {},
   "outputs": [],
   "source": [
    "data_revenue['value'] = data_revenue.merge(data_users[['user_id', 'subscription_type']], on='user_id').merge(\n",
    "    data_subscriptions, on='subscription_type').apply(calculate_value, axis=1)"
   ]
  },
  {
   "cell_type": "code",
   "execution_count": 27,
   "id": "caad90c5",
   "metadata": {},
   "outputs": [
    {
     "data": {
      "text/html": [
       "<div>\n",
       "<style scoped>\n",
       "    .dataframe tbody tr th:only-of-type {\n",
       "        vertical-align: middle;\n",
       "    }\n",
       "\n",
       "    .dataframe tbody tr th {\n",
       "        vertical-align: top;\n",
       "    }\n",
       "\n",
       "    .dataframe thead th {\n",
       "        text-align: right;\n",
       "    }\n",
       "</style>\n",
       "<table border=\"1\" class=\"dataframe\">\n",
       "  <thead>\n",
       "    <tr style=\"text-align: right;\">\n",
       "      <th></th>\n",
       "      <th>user_id</th>\n",
       "      <th>month</th>\n",
       "      <th>count</th>\n",
       "      <th>distance</th>\n",
       "      <th>duration</th>\n",
       "      <th>value</th>\n",
       "    </tr>\n",
       "  </thead>\n",
       "  <tbody>\n",
       "    <tr>\n",
       "      <th>0</th>\n",
       "      <td>1</td>\n",
       "      <td>1</td>\n",
       "      <td>2</td>\n",
       "      <td>7027.511294</td>\n",
       "      <td>42.0</td>\n",
       "      <td>451</td>\n",
       "    </tr>\n",
       "    <tr>\n",
       "      <th>1</th>\n",
       "      <td>1</td>\n",
       "      <td>4</td>\n",
       "      <td>1</td>\n",
       "      <td>754.159807</td>\n",
       "      <td>7.0</td>\n",
       "      <td>241</td>\n",
       "    </tr>\n",
       "    <tr>\n",
       "      <th>2</th>\n",
       "      <td>1</td>\n",
       "      <td>8</td>\n",
       "      <td>2</td>\n",
       "      <td>6723.470560</td>\n",
       "      <td>46.0</td>\n",
       "      <td>475</td>\n",
       "    </tr>\n",
       "    <tr>\n",
       "      <th>3</th>\n",
       "      <td>1</td>\n",
       "      <td>10</td>\n",
       "      <td>2</td>\n",
       "      <td>5809.911100</td>\n",
       "      <td>32.0</td>\n",
       "      <td>391</td>\n",
       "    </tr>\n",
       "    <tr>\n",
       "      <th>4</th>\n",
       "      <td>1</td>\n",
       "      <td>11</td>\n",
       "      <td>3</td>\n",
       "      <td>7003.499363</td>\n",
       "      <td>56.0</td>\n",
       "      <td>535</td>\n",
       "    </tr>\n",
       "    <tr>\n",
       "      <th>...</th>\n",
       "      <td>...</td>\n",
       "      <td>...</td>\n",
       "      <td>...</td>\n",
       "      <td>...</td>\n",
       "      <td>...</td>\n",
       "      <td>...</td>\n",
       "    </tr>\n",
       "    <tr>\n",
       "      <th>11326</th>\n",
       "      <td>1534</td>\n",
       "      <td>6</td>\n",
       "      <td>2</td>\n",
       "      <td>3409.468534</td>\n",
       "      <td>26.0</td>\n",
       "      <td>308</td>\n",
       "    </tr>\n",
       "    <tr>\n",
       "      <th>11327</th>\n",
       "      <td>1534</td>\n",
       "      <td>8</td>\n",
       "      <td>2</td>\n",
       "      <td>7622.453034</td>\n",
       "      <td>48.0</td>\n",
       "      <td>484</td>\n",
       "    </tr>\n",
       "    <tr>\n",
       "      <th>11328</th>\n",
       "      <td>1534</td>\n",
       "      <td>9</td>\n",
       "      <td>1</td>\n",
       "      <td>4928.173852</td>\n",
       "      <td>23.0</td>\n",
       "      <td>234</td>\n",
       "    </tr>\n",
       "    <tr>\n",
       "      <th>11329</th>\n",
       "      <td>1534</td>\n",
       "      <td>11</td>\n",
       "      <td>4</td>\n",
       "      <td>13350.015305</td>\n",
       "      <td>78.0</td>\n",
       "      <td>824</td>\n",
       "    </tr>\n",
       "    <tr>\n",
       "      <th>11330</th>\n",
       "      <td>1534</td>\n",
       "      <td>12</td>\n",
       "      <td>1</td>\n",
       "      <td>2371.711192</td>\n",
       "      <td>16.0</td>\n",
       "      <td>178</td>\n",
       "    </tr>\n",
       "  </tbody>\n",
       "</table>\n",
       "<p>11331 rows × 6 columns</p>\n",
       "</div>"
      ],
      "text/plain": [
       "       user_id  month  count      distance  duration  value\n",
       "0            1      1      2   7027.511294      42.0    451\n",
       "1            1      4      1    754.159807       7.0    241\n",
       "2            1      8      2   6723.470560      46.0    475\n",
       "3            1     10      2   5809.911100      32.0    391\n",
       "4            1     11      3   7003.499363      56.0    535\n",
       "...        ...    ...    ...           ...       ...    ...\n",
       "11326     1534      6      2   3409.468534      26.0    308\n",
       "11327     1534      8      2   7622.453034      48.0    484\n",
       "11328     1534      9      1   4928.173852      23.0    234\n",
       "11329     1534     11      4  13350.015305      78.0    824\n",
       "11330     1534     12      1   2371.711192      16.0    178\n",
       "\n",
       "[11331 rows x 6 columns]"
      ]
     },
     "execution_count": 27,
     "metadata": {},
     "output_type": "execute_result"
    }
   ],
   "source": [
    "data_revenue"
   ]
  },
  {
   "cell_type": "markdown",
   "id": "41545ac0",
   "metadata": {},
   "source": [
    "#### Шаг 6. Проверка гипотез"
   ]
  },
  {
   "cell_type": "markdown",
   "id": "0e69cd31",
   "metadata": {},
   "source": [
    "##### Проверим гипотезу, что пользователи с подпиской тратят больше времени на поездки, чем пользователи без подписки."
   ]
  },
  {
   "cell_type": "markdown",
   "id": "3a2dad9d",
   "metadata": {},
   "source": [
    "- Нулевая гипотеза: среднее значение времени поездки для пользователей с подпиской и без подписки равны.\n",
    "- Альтернативная гипотеза: среднее значение времени поездки для пользователей с подпиской больше, чем среднее значение времени пездки для пользователей без подписки"
   ]
  },
  {
   "cell_type": "code",
   "execution_count": 28,
   "id": "9be86663",
   "metadata": {},
   "outputs": [
    {
     "name": "stdout",
     "output_type": "stream",
     "text": [
      "p-value: 1.2804098316645618e-34\n",
      "отвергаем нулевую гипотезу\n"
     ]
    }
   ],
   "source": [
    "alpha = 0.01\n",
    "\n",
    "results = st.ttest_ind(data_ultra['duration'], data_free['duration'], alternative='greater')\n",
    "\n",
    "print(f'p-value: {results.pvalue}')\n",
    "\n",
    "if results.pvalue < alpha:\n",
    "    print('отвергаем нулевую гипотезу')\n",
    "else:\n",
    "    print('Нет осований отвергать нулевую гипотезу')"
   ]
  },
  {
   "cell_type": "markdown",
   "id": "de93689a",
   "metadata": {},
   "source": [
    "**Вывод:** Пользователи с подпиской тратят больше времени на поездки, чем пользователи без подписок."
   ]
  },
  {
   "cell_type": "markdown",
   "id": "afa547cb",
   "metadata": {},
   "source": [
    "##### Проверим гипотезу, что среднее расстояние, которое проезжают пользователи с подпиской за одну поездку, не превышает 3130 метров.\n",
    "\n"
   ]
  },
  {
   "cell_type": "markdown",
   "id": "bc7eef48",
   "metadata": {},
   "source": [
    "- Нулевая гипотеза: среднее расстояние, которое проезжают пользователи с подпиской за одну поездку 3130 метров.\n",
    "- Альтернативная гипотеза: среднее расстояние, которое проезжают пользователи с подпиской за одну поездку больше 3130 метров. "
   ]
  },
  {
   "cell_type": "code",
   "execution_count": 29,
   "id": "288d4e48",
   "metadata": {},
   "outputs": [
    {
     "name": "stdout",
     "output_type": "stream",
     "text": [
      "p-value: 0.9195368847849785\n",
      "Нет осований отвергать нулевую гипотезу\n"
     ]
    }
   ],
   "source": [
    "alpha= 0.01\n",
    "optimal_distance = 3130\n",
    "\n",
    "results = st.ttest_1samp(data_ultra['distance'], optimal_distance, alternative='greater')\n",
    "\n",
    "print(f'p-value: {results.pvalue}')\n",
    "\n",
    "if results.pvalue < alpha:\n",
    "    print('отвергаем нулевую гипотезу')\n",
    "else:\n",
    "    print('Нет осований отвергать нулевую гипотезу')"
   ]
  },
  {
   "cell_type": "markdown",
   "id": "ee570e12",
   "metadata": {},
   "source": [
    "**Вывод:** Среднее расстояние, которое проезжают пользователи с подпиской за одну поездку, не превышает 3130 метров.\n"
   ]
  },
  {
   "cell_type": "markdown",
   "id": "ef18fc99",
   "metadata": {},
   "source": [
    "##### Проверим гипотезу, что помесячная выручка от пользователей с подпиской по месяцам выше, чем выручка от пользователей без подписки. "
   ]
  },
  {
   "cell_type": "markdown",
   "id": "c59267f0",
   "metadata": {},
   "source": [
    "- Нулевая гипотеза: помесячная выручка от пользователей с подпиской и от пользователей без подписки равна. \n",
    "- Альтернативная гипотеза: помесячная выручка от пользователей с подпиской по месяцам выше, чем выручка от пользователей без подписки. "
   ]
  },
  {
   "cell_type": "code",
   "execution_count": 30,
   "id": "4ad85002",
   "metadata": {},
   "outputs": [
    {
     "name": "stdout",
     "output_type": "stream",
     "text": [
      "362.7921906022502\n",
      "328.6413651073845\n",
      "p-value: 1.8850394384715216e-31\n",
      "отвергаем нулевую гипотезу\n"
     ]
    }
   ],
   "source": [
    "data_revenue_sub = data_revenue.merge(data_users[['user_id', 'subscription_type']], on='user_id')\n",
    "\n",
    "ultra_value = data_revenue_sub.loc[data_revenue_sub['subscription_type']=='ultra', 'value']\n",
    "free_value = data_revenue_sub.loc[data_revenue_sub['subscription_type']=='free', 'value']\n",
    "print(ultra_value.mean()) \n",
    "print(free_value.mean())\n",
    "alpha = 0.01\n",
    "\n",
    "results = st.ttest_ind(ultra_value, free_value, alternative='greater')\n",
    "\n",
    "print(f'p-value: {results.pvalue}')\n",
    "\n",
    "if results.pvalue < alpha:\n",
    "    print('отвергаем нулевую гипотезу')\n",
    "else:\n",
    "    print('Нет осований отвергать нулевую гипотезу')"
   ]
  },
  {
   "cell_type": "markdown",
   "id": "735308b9",
   "metadata": {},
   "source": [
    "**Вывод:** Помесячная выручка от пользователей с подпиской выше, чем выручка от пользователей без подписки."
   ]
  },
  {
   "cell_type": "markdown",
   "id": "7ef013e2",
   "metadata": {},
   "source": [
    "##### Количество обращений в техподдержку."
   ]
  },
  {
   "cell_type": "markdown",
   "id": "6c150873",
   "metadata": {},
   "source": [
    "Данные воборки взаимосвязаны, поэтому для проверки этой гипотезы нужно использовать метод `scipy.stats.ttest_rel()`."
   ]
  },
  {
   "cell_type": "markdown",
   "id": "61213c5e",
   "metadata": {},
   "source": [
    "#### Шаг 7. Распределения"
   ]
  },
  {
   "cell_type": "markdown",
   "id": "36a94983",
   "metadata": {},
   "source": [
    "##### Aкция с раздачей промокодов."
   ]
  },
  {
   "cell_type": "markdown",
   "id": "17242421",
   "metadata": {},
   "source": [
    " Выясним, какое минимальное количество промокодов нужно разослать, чтобы вероятность не выполнить план в 100 пользователей была примерно 5%.\n"
   ]
  },
  {
   "cell_type": "code",
   "execution_count": 31,
   "id": "95cd1d51",
   "metadata": {
    "scrolled": true
   },
   "outputs": [
    {
     "name": "stdout",
     "output_type": "stream",
     "text": [
      "0.04971489312694162\n",
      "1170\n"
     ]
    }
   ],
   "source": [
    "from math import sqrt\n",
    "from scipy import stats as st\n",
    "\n",
    "n = 1000\n",
    "p = 0.1\n",
    "alpha = 0.05\n",
    "result = 1\n",
    "\n",
    "while result > alpha:\n",
    "    mu = n * p\n",
    "    sigma = sqrt(n * p * (1-p))\n",
    "    distr = st.norm(mu, sigma)\n",
    "    result = distr.cdf(100)\n",
    "    n += 1\n",
    "\n",
    "print(result)\n",
    "print(n)"
   ]
  },
  {
   "cell_type": "markdown",
   "id": "ad692723",
   "metadata": {},
   "source": [
    "**Вывод:** Отделу маркетинга нужна выдать 1170 промокодов, чтобы шанс не выполнить план в 100 пользователей был не больше 5%."
   ]
  },
  {
   "cell_type": "markdown",
   "id": "29fac64e",
   "metadata": {},
   "source": [
    "##### Push-уведомления в мобильном приложении."
   ]
  },
  {
   "cell_type": "markdown",
   "id": "4ec0fac4",
   "metadata": {},
   "source": [
    "Оценим вероятность того, что уведомление откроют не более 399,5 тыс. пользователей."
   ]
  },
  {
   "cell_type": "code",
   "execution_count": 32,
   "id": "1948561d",
   "metadata": {},
   "outputs": [
    {
     "data": {
      "text/plain": [
       "0.8462829170363023"
      ]
     },
     "execution_count": 32,
     "metadata": {},
     "output_type": "execute_result"
    }
   ],
   "source": [
    "n = 1000000\n",
    "p = 0.4\n",
    "\n",
    "mu = n * p\n",
    "sigma = sqrt(n * p * (1-p))\n",
    "distr = st.norm(mu, sigma)\n",
    "result = 1 - distr.cdf(399500)\n",
    "result"
   ]
  },
  {
   "cell_type": "markdown",
   "id": "b48c95cc",
   "metadata": {},
   "source": [
    "**Вывод:** Вероятность того, что 399,5 тыс. из 1 млн. пользователей откроют уведомления равна примерно 84%."
   ]
  },
  {
   "cell_type": "markdown",
   "id": "c66bc17c",
   "metadata": {},
   "source": [
    "#### Общий вывод"
   ]
  },
  {
   "cell_type": "markdown",
   "id": "ae57fbb3",
   "metadata": {},
   "source": [
    "**Предобработка данных**:\n",
    "- Преобразован столбец date в data_rides в формат datetime для удобства работы с датами.\n",
    "- Добавлен новый столбец month, чтобы анализировать данные по месяцам.\n",
    "- Удалены дубликаты из data_users.\n",
    "- В столбце duration выявлены и исправлены аномальные значения: значение 0.5 заменено на 30 минут.\n",
    "\n",
    "**Исследовательский анализ данных**:\n",
    "- Наибольшее количество пользователей зарегистрировано в Пятигорске и Екатеринбурге. Москва имеет наименьшее количество пользователей.\n",
    "- Пользователи с подпиской составляют 45.6% от общего числа, без подписки — 54.4%.\n",
    "- Большинство пользователей находятся в возрастной группе от 20 до 30 лет.\n",
    "- Чаще всего пользователи преодолевают около 3 км за одну поездку. Есть небольшой всплеск поездок длиной до 500 метров.\n",
    "- Среднее время поездки составляет 12–21 минуту.\n",
    "\n",
    "**Объединение данных**:\n",
    "- Создан единый датафрейм data, объединивший данные пользователей, поездок и подписок.\n",
    "- Данные о пользователях с подпиской (ultra) и без подписки (free) разделены на два отдельных датафрейма.\n",
    "\n",
    "**Подсчёт выручки**:\n",
    "- Рассчитаны суммарное расстояние, время поездок, количество поездок и суммарная выручка для каждого пользователя.\n",
    "\n",
    "**Проверка гипотез**: \n",
    "- Гипотеза 1: Пользователи с подпиской тратят больше времени на поездки. Результат: Пользователи с подпиской действительно тратят больше времени на поездки.\n",
    "- Гипотеза 2: Среднее расстояние поездок пользователей с подпиской не превышает 3130 метров. Результат: Среднее расстояние, которое проезжают пользователи с подпиской за одну поездку, не превышает 3130 метров.\n",
    "- Гипотеза 3: Выручка от пользователей с подпиской выше, чем от пользователей без подписки. Результат: Помесячная выручка от пользователей с подпиской выше, чем выручка от пользователей без подписки.\n",
    "\n",
    "**Распределения**:\n",
    "- Отделу маркетинга нужна выдать 1170 промокодов, чтобы шанс не выполнить план в 100 пользователей был не больше 5%.\n",
    "- Вероятность того, что 399,5 тыс. из 1 млн. пользователей откроют уведомления равна примерно 84%."
   ]
  }
 ],
 "metadata": {
  "ExecuteTimeLog": [
   {
    "duration": 1217,
    "start_time": "2024-12-19T14:32:56.328Z"
   },
   {
    "duration": 124,
    "start_time": "2024-12-19T14:36:51.810Z"
   },
   {
    "duration": 203,
    "start_time": "2024-12-19T14:36:55.983Z"
   },
   {
    "duration": 13,
    "start_time": "2024-12-19T14:36:57.566Z"
   },
   {
    "duration": 11,
    "start_time": "2024-12-19T14:36:59.314Z"
   },
   {
    "duration": 19,
    "start_time": "2024-12-19T14:37:07.593Z"
   },
   {
    "duration": 17,
    "start_time": "2024-12-19T14:38:07.205Z"
   },
   {
    "duration": 9,
    "start_time": "2024-12-19T14:38:44.843Z"
   },
   {
    "duration": 14,
    "start_time": "2024-12-19T14:38:47.585Z"
   },
   {
    "duration": 1509,
    "start_time": "2024-12-19T14:42:11.983Z"
   },
   {
    "duration": 15,
    "start_time": "2024-12-19T14:42:27.651Z"
   },
   {
    "duration": 8,
    "start_time": "2024-12-19T14:43:33.135Z"
   },
   {
    "duration": 4,
    "start_time": "2024-12-19T14:43:39.186Z"
   },
   {
    "duration": 11,
    "start_time": "2024-12-19T14:44:46.418Z"
   },
   {
    "duration": 9,
    "start_time": "2024-12-19T14:44:51.231Z"
   },
   {
    "duration": 9,
    "start_time": "2024-12-19T14:44:57.353Z"
   },
   {
    "duration": 11,
    "start_time": "2024-12-19T14:45:00.071Z"
   },
   {
    "duration": 9,
    "start_time": "2024-12-19T14:45:02.423Z"
   },
   {
    "duration": 9,
    "start_time": "2024-12-19T14:45:28.224Z"
   },
   {
    "duration": 8,
    "start_time": "2024-12-19T14:45:36.495Z"
   },
   {
    "duration": 9,
    "start_time": "2024-12-19T14:45:56.264Z"
   },
   {
    "duration": 10,
    "start_time": "2024-12-19T14:49:09.371Z"
   },
   {
    "duration": 15,
    "start_time": "2024-12-19T14:49:15.244Z"
   },
   {
    "duration": 10,
    "start_time": "2024-12-19T14:50:03.977Z"
   },
   {
    "duration": 2,
    "start_time": "2024-12-19T14:50:57.648Z"
   },
   {
    "duration": 9,
    "start_time": "2024-12-19T14:51:04.381Z"
   },
   {
    "duration": 4,
    "start_time": "2024-12-19T14:51:06.777Z"
   },
   {
    "duration": 8,
    "start_time": "2024-12-19T14:51:09.332Z"
   },
   {
    "duration": 8,
    "start_time": "2024-12-19T14:51:17.063Z"
   },
   {
    "duration": 12,
    "start_time": "2024-12-19T14:52:34.435Z"
   },
   {
    "duration": 1207,
    "start_time": "2024-12-19T14:52:51.245Z"
   },
   {
    "duration": 69,
    "start_time": "2024-12-19T14:52:52.454Z"
   },
   {
    "duration": 21,
    "start_time": "2024-12-19T14:52:52.525Z"
   },
   {
    "duration": 44,
    "start_time": "2024-12-19T14:52:52.547Z"
   },
   {
    "duration": 15,
    "start_time": "2024-12-19T14:52:52.593Z"
   },
   {
    "duration": 27,
    "start_time": "2024-12-19T14:52:52.610Z"
   },
   {
    "duration": 13,
    "start_time": "2024-12-19T14:52:52.639Z"
   },
   {
    "duration": 54,
    "start_time": "2024-12-19T14:52:52.654Z"
   },
   {
    "duration": 8,
    "start_time": "2024-12-19T14:52:52.710Z"
   },
   {
    "duration": 97,
    "start_time": "2024-12-19T14:55:10.637Z"
   },
   {
    "duration": 19,
    "start_time": "2024-12-19T14:55:15.947Z"
   },
   {
    "duration": 9,
    "start_time": "2024-12-19T14:55:45.982Z"
   },
   {
    "duration": 13,
    "start_time": "2024-12-19T14:55:52.856Z"
   },
   {
    "duration": 141,
    "start_time": "2024-12-19T14:55:58.761Z"
   },
   {
    "duration": 134,
    "start_time": "2024-12-19T14:57:54.456Z"
   },
   {
    "duration": 69,
    "start_time": "2024-12-19T16:02:40.910Z"
   },
   {
    "duration": 73,
    "start_time": "2024-12-19T16:03:27.621Z"
   },
   {
    "duration": 72,
    "start_time": "2024-12-19T16:03:42.872Z"
   },
   {
    "duration": 88,
    "start_time": "2024-12-19T16:08:18.524Z"
   },
   {
    "duration": 97,
    "start_time": "2024-12-19T16:08:43.052Z"
   },
   {
    "duration": 89,
    "start_time": "2024-12-19T16:08:51.536Z"
   },
   {
    "duration": 147,
    "start_time": "2024-12-19T16:09:31.477Z"
   },
   {
    "duration": 162,
    "start_time": "2024-12-19T16:09:44.454Z"
   },
   {
    "duration": 90,
    "start_time": "2024-12-19T16:09:49.246Z"
   },
   {
    "duration": 142,
    "start_time": "2024-12-19T16:10:36.473Z"
   },
   {
    "duration": 11,
    "start_time": "2024-12-19T16:10:50.394Z"
   },
   {
    "duration": 144,
    "start_time": "2024-12-19T16:10:52.875Z"
   },
   {
    "duration": 133,
    "start_time": "2024-12-19T16:11:08.276Z"
   },
   {
    "duration": 160,
    "start_time": "2024-12-19T16:11:23.294Z"
   },
   {
    "duration": 169,
    "start_time": "2024-12-19T16:11:55.022Z"
   },
   {
    "duration": 171,
    "start_time": "2024-12-19T16:12:03.722Z"
   },
   {
    "duration": 158,
    "start_time": "2024-12-19T16:12:11.736Z"
   },
   {
    "duration": 167,
    "start_time": "2024-12-19T16:12:16.355Z"
   },
   {
    "duration": 165,
    "start_time": "2024-12-19T16:12:22.265Z"
   },
   {
    "duration": 246,
    "start_time": "2024-12-19T16:14:18.724Z"
   },
   {
    "duration": 175,
    "start_time": "2024-12-19T16:14:30.831Z"
   },
   {
    "duration": 92,
    "start_time": "2024-12-19T16:14:39.414Z"
   },
   {
    "duration": 137,
    "start_time": "2024-12-19T16:14:47.200Z"
   },
   {
    "duration": 129,
    "start_time": "2024-12-19T16:23:12.486Z"
   },
   {
    "duration": 176,
    "start_time": "2024-12-19T16:23:29.433Z"
   },
   {
    "duration": 168,
    "start_time": "2024-12-19T16:23:37.181Z"
   },
   {
    "duration": 174,
    "start_time": "2024-12-19T16:23:42.642Z"
   },
   {
    "duration": 168,
    "start_time": "2024-12-19T16:23:50.912Z"
   },
   {
    "duration": 166,
    "start_time": "2024-12-19T16:23:57.127Z"
   },
   {
    "duration": 184,
    "start_time": "2024-12-19T16:24:10.459Z"
   },
   {
    "duration": 286,
    "start_time": "2024-12-19T16:24:14.275Z"
   },
   {
    "duration": 169,
    "start_time": "2024-12-19T16:24:17.536Z"
   },
   {
    "duration": 76,
    "start_time": "2024-12-19T16:24:23.757Z"
   },
   {
    "duration": 168,
    "start_time": "2024-12-19T16:24:27.270Z"
   },
   {
    "duration": 192,
    "start_time": "2024-12-19T16:26:17.155Z"
   },
   {
    "duration": 188,
    "start_time": "2024-12-19T16:26:24.364Z"
   },
   {
    "duration": 248,
    "start_time": "2024-12-19T16:26:30.782Z"
   },
   {
    "duration": 198,
    "start_time": "2024-12-19T16:26:37.778Z"
   },
   {
    "duration": 194,
    "start_time": "2024-12-19T16:27:35.348Z"
   },
   {
    "duration": 199,
    "start_time": "2024-12-19T16:27:59.877Z"
   },
   {
    "duration": 192,
    "start_time": "2024-12-19T16:28:05.438Z"
   },
   {
    "duration": 308,
    "start_time": "2024-12-19T16:28:21.232Z"
   },
   {
    "duration": 3,
    "start_time": "2024-12-19T16:30:10.330Z"
   },
   {
    "duration": 689,
    "start_time": "2024-12-19T16:50:29.557Z"
   },
   {
    "duration": 1128,
    "start_time": "2024-12-19T16:51:00.722Z"
   },
   {
    "duration": 71,
    "start_time": "2024-12-19T16:51:01.852Z"
   },
   {
    "duration": 20,
    "start_time": "2024-12-19T16:51:01.925Z"
   },
   {
    "duration": 36,
    "start_time": "2024-12-19T16:51:01.947Z"
   },
   {
    "duration": 16,
    "start_time": "2024-12-19T16:51:01.985Z"
   },
   {
    "duration": 104,
    "start_time": "2024-12-19T16:51:02.003Z"
   },
   {
    "duration": 63,
    "start_time": "2024-12-19T16:51:02.109Z"
   },
   {
    "duration": 10,
    "start_time": "2024-12-19T16:51:02.174Z"
   },
   {
    "duration": 82,
    "start_time": "2024-12-19T16:51:02.186Z"
   },
   {
    "duration": 183,
    "start_time": "2024-12-19T16:51:02.269Z"
   },
   {
    "duration": 92,
    "start_time": "2024-12-19T16:51:02.454Z"
   },
   {
    "duration": 191,
    "start_time": "2024-12-19T16:51:02.548Z"
   },
   {
    "duration": 211,
    "start_time": "2024-12-19T16:51:02.741Z"
   },
   {
    "duration": 213,
    "start_time": "2024-12-19T16:51:02.955Z"
   },
   {
    "duration": 825,
    "start_time": "2024-12-19T16:51:03.169Z"
   },
   {
    "duration": 708,
    "start_time": "2024-12-19T16:51:26.134Z"
   },
   {
    "duration": 16,
    "start_time": "2024-12-19T16:51:37.189Z"
   },
   {
    "duration": 16,
    "start_time": "2024-12-19T16:51:52.097Z"
   },
   {
    "duration": 111,
    "start_time": "2024-12-19T16:58:29.089Z"
   },
   {
    "duration": 16,
    "start_time": "2024-12-19T16:58:45.192Z"
   },
   {
    "duration": 12,
    "start_time": "2024-12-19T16:58:47.231Z"
   },
   {
    "duration": 16,
    "start_time": "2024-12-19T16:58:53.346Z"
   },
   {
    "duration": 8,
    "start_time": "2024-12-19T16:59:06.393Z"
   },
   {
    "duration": 7,
    "start_time": "2024-12-19T16:59:11.745Z"
   },
   {
    "duration": 7,
    "start_time": "2024-12-19T17:00:20.678Z"
   },
   {
    "duration": 88,
    "start_time": "2024-12-19T17:00:46.198Z"
   },
   {
    "duration": 10,
    "start_time": "2024-12-19T17:00:56.465Z"
   },
   {
    "duration": 10,
    "start_time": "2024-12-19T17:01:04.973Z"
   },
   {
    "duration": 9,
    "start_time": "2024-12-19T17:03:18.191Z"
   },
   {
    "duration": 9,
    "start_time": "2024-12-19T17:03:25.123Z"
   },
   {
    "duration": 5,
    "start_time": "2024-12-19T17:03:35.765Z"
   },
   {
    "duration": 194,
    "start_time": "2024-12-19T17:03:46.806Z"
   },
   {
    "duration": 1478,
    "start_time": "2024-12-19T17:06:52.474Z"
   },
   {
    "duration": 203,
    "start_time": "2024-12-19T17:07:03.121Z"
   },
   {
    "duration": 1510,
    "start_time": "2024-12-20T02:07:29.481Z"
   },
   {
    "duration": 226,
    "start_time": "2024-12-20T02:07:30.993Z"
   },
   {
    "duration": 23,
    "start_time": "2024-12-20T02:07:31.221Z"
   },
   {
    "duration": 28,
    "start_time": "2024-12-20T02:07:31.247Z"
   },
   {
    "duration": 16,
    "start_time": "2024-12-20T02:07:31.276Z"
   },
   {
    "duration": 29,
    "start_time": "2024-12-20T02:07:31.294Z"
   },
   {
    "duration": 5,
    "start_time": "2024-12-20T02:07:31.325Z"
   },
   {
    "duration": 35,
    "start_time": "2024-12-20T02:07:31.332Z"
   },
   {
    "duration": 8,
    "start_time": "2024-12-20T02:07:31.368Z"
   },
   {
    "duration": 192,
    "start_time": "2024-12-20T02:07:31.378Z"
   },
   {
    "duration": 98,
    "start_time": "2024-12-20T02:07:31.572Z"
   },
   {
    "duration": 187,
    "start_time": "2024-12-20T02:07:31.672Z"
   },
   {
    "duration": 211,
    "start_time": "2024-12-20T02:07:31.860Z"
   },
   {
    "duration": 206,
    "start_time": "2024-12-20T02:07:32.073Z"
   },
   {
    "duration": 12,
    "start_time": "2024-12-20T02:07:32.281Z"
   },
   {
    "duration": 22,
    "start_time": "2024-12-20T02:07:32.295Z"
   },
   {
    "duration": 225,
    "start_time": "2024-12-20T02:07:32.319Z"
   },
   {
    "duration": 17,
    "start_time": "2024-12-20T02:08:40.424Z"
   },
   {
    "duration": 15,
    "start_time": "2024-12-20T02:09:20.224Z"
   },
   {
    "duration": 11,
    "start_time": "2024-12-20T02:23:06.936Z"
   },
   {
    "duration": 21,
    "start_time": "2024-12-20T02:23:15.629Z"
   },
   {
    "duration": 1102,
    "start_time": "2024-12-20T02:23:24.470Z"
   },
   {
    "duration": 73,
    "start_time": "2024-12-20T02:23:25.574Z"
   },
   {
    "duration": 20,
    "start_time": "2024-12-20T02:23:25.648Z"
   },
   {
    "duration": 17,
    "start_time": "2024-12-20T02:23:25.670Z"
   },
   {
    "duration": 14,
    "start_time": "2024-12-20T02:23:25.689Z"
   },
   {
    "duration": 25,
    "start_time": "2024-12-20T02:23:25.705Z"
   },
   {
    "duration": 6,
    "start_time": "2024-12-20T02:23:25.731Z"
   },
   {
    "duration": 10,
    "start_time": "2024-12-20T02:23:25.738Z"
   },
   {
    "duration": 7,
    "start_time": "2024-12-20T02:23:25.750Z"
   },
   {
    "duration": 215,
    "start_time": "2024-12-20T02:23:25.759Z"
   },
   {
    "duration": 107,
    "start_time": "2024-12-20T02:23:25.975Z"
   },
   {
    "duration": 185,
    "start_time": "2024-12-20T02:23:26.083Z"
   },
   {
    "duration": 199,
    "start_time": "2024-12-20T02:23:26.270Z"
   },
   {
    "duration": 228,
    "start_time": "2024-12-20T02:23:26.472Z"
   },
   {
    "duration": 21,
    "start_time": "2024-12-20T02:23:26.701Z"
   },
   {
    "duration": 4,
    "start_time": "2024-12-20T02:23:26.724Z"
   },
   {
    "duration": 235,
    "start_time": "2024-12-20T02:23:26.731Z"
   },
   {
    "duration": 19,
    "start_time": "2024-12-20T02:23:26.968Z"
   },
   {
    "duration": 15,
    "start_time": "2024-12-20T02:24:06.661Z"
   },
   {
    "duration": 122,
    "start_time": "2024-12-20T02:25:45.990Z"
   },
   {
    "duration": 31,
    "start_time": "2024-12-20T02:25:59.306Z"
   },
   {
    "duration": 24,
    "start_time": "2024-12-20T02:26:12.279Z"
   },
   {
    "duration": 10,
    "start_time": "2024-12-20T02:27:14.549Z"
   },
   {
    "duration": 9,
    "start_time": "2024-12-20T02:28:24.148Z"
   },
   {
    "duration": 9,
    "start_time": "2024-12-20T02:28:26.336Z"
   },
   {
    "duration": 17,
    "start_time": "2024-12-20T02:28:33.170Z"
   },
   {
    "duration": 18,
    "start_time": "2024-12-20T02:28:40.009Z"
   },
   {
    "duration": 20,
    "start_time": "2024-12-20T02:29:23.315Z"
   },
   {
    "duration": 11,
    "start_time": "2024-12-20T02:29:28.150Z"
   },
   {
    "duration": 264,
    "start_time": "2024-12-20T02:31:48.814Z"
   },
   {
    "duration": 272,
    "start_time": "2024-12-20T02:33:13.987Z"
   },
   {
    "duration": 203,
    "start_time": "2024-12-20T02:33:19.358Z"
   },
   {
    "duration": 198,
    "start_time": "2024-12-20T02:34:05.426Z"
   },
   {
    "duration": 202,
    "start_time": "2024-12-20T02:35:01.532Z"
   },
   {
    "duration": 5,
    "start_time": "2024-12-20T02:45:11.493Z"
   },
   {
    "duration": 14,
    "start_time": "2024-12-20T02:45:19.143Z"
   },
   {
    "duration": 22,
    "start_time": "2024-12-20T02:47:48.810Z"
   },
   {
    "duration": 92,
    "start_time": "2024-12-20T02:53:32.868Z"
   },
   {
    "duration": 25,
    "start_time": "2024-12-20T02:53:42.911Z"
   },
   {
    "duration": 30,
    "start_time": "2024-12-20T02:55:33.636Z"
   },
   {
    "duration": 26,
    "start_time": "2024-12-20T02:57:22.635Z"
   },
   {
    "duration": 20,
    "start_time": "2024-12-20T02:57:47.352Z"
   },
   {
    "duration": 16,
    "start_time": "2024-12-20T02:58:35.208Z"
   },
   {
    "duration": 17,
    "start_time": "2024-12-20T02:58:52.872Z"
   },
   {
    "duration": 18,
    "start_time": "2024-12-20T02:59:01.210Z"
   },
   {
    "duration": 15,
    "start_time": "2024-12-20T03:00:15.800Z"
   },
   {
    "duration": 18,
    "start_time": "2024-12-20T03:00:30.781Z"
   },
   {
    "duration": 21,
    "start_time": "2024-12-20T03:02:37.738Z"
   },
   {
    "duration": 20,
    "start_time": "2024-12-20T03:03:28.234Z"
   },
   {
    "duration": 25,
    "start_time": "2024-12-20T03:04:34.101Z"
   },
   {
    "duration": 18,
    "start_time": "2024-12-20T03:05:53.254Z"
   },
   {
    "duration": 19,
    "start_time": "2024-12-20T03:05:59.388Z"
   },
   {
    "duration": 18,
    "start_time": "2024-12-20T03:06:07.933Z"
   },
   {
    "duration": 15,
    "start_time": "2024-12-20T03:06:09.707Z"
   },
   {
    "duration": 92,
    "start_time": "2024-12-20T03:07:15.736Z"
   },
   {
    "duration": 22,
    "start_time": "2024-12-20T03:07:18.559Z"
   },
   {
    "duration": 3,
    "start_time": "2024-12-20T03:12:37.722Z"
   },
   {
    "duration": 3,
    "start_time": "2024-12-20T03:13:39.740Z"
   },
   {
    "duration": 36,
    "start_time": "2024-12-20T03:16:18.125Z"
   },
   {
    "duration": 10,
    "start_time": "2024-12-20T03:16:20.052Z"
   },
   {
    "duration": 11,
    "start_time": "2024-12-20T03:16:34.330Z"
   },
   {
    "duration": 10,
    "start_time": "2024-12-20T03:17:02.524Z"
   },
   {
    "duration": 1165,
    "start_time": "2024-12-20T03:17:20.302Z"
   },
   {
    "duration": 73,
    "start_time": "2024-12-20T03:17:21.469Z"
   },
   {
    "duration": 26,
    "start_time": "2024-12-20T03:17:21.544Z"
   },
   {
    "duration": 66,
    "start_time": "2024-12-20T03:17:21.571Z"
   },
   {
    "duration": 14,
    "start_time": "2024-12-20T03:17:21.639Z"
   },
   {
    "duration": 22,
    "start_time": "2024-12-20T03:17:21.655Z"
   },
   {
    "duration": 6,
    "start_time": "2024-12-20T03:17:21.679Z"
   },
   {
    "duration": 9,
    "start_time": "2024-12-20T03:17:21.687Z"
   },
   {
    "duration": 21,
    "start_time": "2024-12-20T03:17:21.698Z"
   },
   {
    "duration": 174,
    "start_time": "2024-12-20T03:17:21.720Z"
   },
   {
    "duration": 111,
    "start_time": "2024-12-20T03:17:21.897Z"
   },
   {
    "duration": 181,
    "start_time": "2024-12-20T03:17:22.010Z"
   },
   {
    "duration": 194,
    "start_time": "2024-12-20T03:17:22.192Z"
   },
   {
    "duration": 200,
    "start_time": "2024-12-20T03:17:22.389Z"
   },
   {
    "duration": 12,
    "start_time": "2024-12-20T03:17:22.591Z"
   },
   {
    "duration": 12,
    "start_time": "2024-12-20T03:17:22.604Z"
   },
   {
    "duration": 199,
    "start_time": "2024-12-20T03:17:22.618Z"
   },
   {
    "duration": 26,
    "start_time": "2024-12-20T03:17:22.820Z"
   },
   {
    "duration": 12,
    "start_time": "2024-12-20T03:17:22.848Z"
   },
   {
    "duration": 208,
    "start_time": "2024-12-20T03:17:22.863Z"
   },
   {
    "duration": 200,
    "start_time": "2024-12-20T03:17:23.073Z"
   },
   {
    "duration": 297,
    "start_time": "2024-12-20T03:17:23.275Z"
   },
   {
    "duration": 191,
    "start_time": "2024-12-20T03:17:23.573Z"
   },
   {
    "duration": 18,
    "start_time": "2024-12-20T03:17:23.765Z"
   },
   {
    "duration": 2,
    "start_time": "2024-12-20T03:17:23.785Z"
   },
   {
    "duration": 26,
    "start_time": "2024-12-20T03:17:23.789Z"
   },
   {
    "duration": 106,
    "start_time": "2024-12-20T03:18:41.098Z"
   },
   {
    "duration": 1119,
    "start_time": "2024-12-20T03:18:47.365Z"
   },
   {
    "duration": 73,
    "start_time": "2024-12-20T03:18:48.486Z"
   },
   {
    "duration": 23,
    "start_time": "2024-12-20T03:18:48.560Z"
   },
   {
    "duration": 23,
    "start_time": "2024-12-20T03:18:48.585Z"
   },
   {
    "duration": 14,
    "start_time": "2024-12-20T03:18:48.610Z"
   },
   {
    "duration": 19,
    "start_time": "2024-12-20T03:18:48.626Z"
   },
   {
    "duration": 7,
    "start_time": "2024-12-20T03:18:48.647Z"
   },
   {
    "duration": 12,
    "start_time": "2024-12-20T03:18:48.655Z"
   },
   {
    "duration": 8,
    "start_time": "2024-12-20T03:18:48.669Z"
   },
   {
    "duration": 183,
    "start_time": "2024-12-20T03:18:48.678Z"
   },
   {
    "duration": 101,
    "start_time": "2024-12-20T03:18:48.863Z"
   },
   {
    "duration": 175,
    "start_time": "2024-12-20T03:18:48.966Z"
   },
   {
    "duration": 208,
    "start_time": "2024-12-20T03:18:49.142Z"
   },
   {
    "duration": 203,
    "start_time": "2024-12-20T03:18:49.353Z"
   },
   {
    "duration": 11,
    "start_time": "2024-12-20T03:18:49.558Z"
   },
   {
    "duration": 64,
    "start_time": "2024-12-20T03:18:49.571Z"
   },
   {
    "duration": 187,
    "start_time": "2024-12-20T03:18:49.637Z"
   },
   {
    "duration": 26,
    "start_time": "2024-12-20T03:18:49.825Z"
   },
   {
    "duration": 11,
    "start_time": "2024-12-20T03:18:49.853Z"
   },
   {
    "duration": 225,
    "start_time": "2024-12-20T03:18:49.866Z"
   },
   {
    "duration": 213,
    "start_time": "2024-12-20T03:18:50.093Z"
   },
   {
    "duration": 293,
    "start_time": "2024-12-20T03:18:50.308Z"
   },
   {
    "duration": 204,
    "start_time": "2024-12-20T03:18:50.603Z"
   },
   {
    "duration": 22,
    "start_time": "2024-12-20T03:18:50.809Z"
   },
   {
    "duration": 4,
    "start_time": "2024-12-20T03:18:50.832Z"
   },
   {
    "duration": 40,
    "start_time": "2024-12-20T03:18:50.838Z"
   },
   {
    "duration": 12,
    "start_time": "2024-12-20T03:18:58.295Z"
   },
   {
    "duration": 17,
    "start_time": "2024-12-20T03:20:19.780Z"
   },
   {
    "duration": 1140,
    "start_time": "2024-12-20T03:20:28.441Z"
   },
   {
    "duration": 74,
    "start_time": "2024-12-20T03:20:29.583Z"
   },
   {
    "duration": 21,
    "start_time": "2024-12-20T03:20:29.659Z"
   },
   {
    "duration": 18,
    "start_time": "2024-12-20T03:20:29.681Z"
   },
   {
    "duration": 14,
    "start_time": "2024-12-20T03:20:29.701Z"
   },
   {
    "duration": 23,
    "start_time": "2024-12-20T03:20:29.716Z"
   },
   {
    "duration": 4,
    "start_time": "2024-12-20T03:20:29.741Z"
   },
   {
    "duration": 9,
    "start_time": "2024-12-20T03:20:29.747Z"
   },
   {
    "duration": 7,
    "start_time": "2024-12-20T03:20:29.758Z"
   },
   {
    "duration": 176,
    "start_time": "2024-12-20T03:20:29.767Z"
   },
   {
    "duration": 104,
    "start_time": "2024-12-20T03:20:29.944Z"
   },
   {
    "duration": 187,
    "start_time": "2024-12-20T03:20:30.050Z"
   },
   {
    "duration": 205,
    "start_time": "2024-12-20T03:20:30.239Z"
   },
   {
    "duration": 208,
    "start_time": "2024-12-20T03:20:30.446Z"
   },
   {
    "duration": 13,
    "start_time": "2024-12-20T03:20:30.655Z"
   },
   {
    "duration": 15,
    "start_time": "2024-12-20T03:20:30.669Z"
   },
   {
    "duration": 202,
    "start_time": "2024-12-20T03:20:30.686Z"
   },
   {
    "duration": 35,
    "start_time": "2024-12-20T03:20:30.889Z"
   },
   {
    "duration": 11,
    "start_time": "2024-12-20T03:20:30.925Z"
   },
   {
    "duration": 207,
    "start_time": "2024-12-20T03:20:30.938Z"
   },
   {
    "duration": 207,
    "start_time": "2024-12-20T03:20:31.147Z"
   },
   {
    "duration": 294,
    "start_time": "2024-12-20T03:20:31.355Z"
   },
   {
    "duration": 199,
    "start_time": "2024-12-20T03:20:31.651Z"
   },
   {
    "duration": 19,
    "start_time": "2024-12-20T03:20:31.853Z"
   },
   {
    "duration": 3,
    "start_time": "2024-12-20T03:20:31.875Z"
   },
   {
    "duration": 65,
    "start_time": "2024-12-20T03:20:31.880Z"
   },
   {
    "duration": 7,
    "start_time": "2024-12-20T03:20:31.947Z"
   },
   {
    "duration": 14,
    "start_time": "2024-12-20T03:20:38.371Z"
   },
   {
    "duration": 2,
    "start_time": "2024-12-20T03:42:26.239Z"
   },
   {
    "duration": 2,
    "start_time": "2024-12-20T03:47:16.147Z"
   },
   {
    "duration": 6,
    "start_time": "2024-12-20T03:57:27.829Z"
   },
   {
    "duration": 6,
    "start_time": "2024-12-20T03:58:46.351Z"
   },
   {
    "duration": 5,
    "start_time": "2024-12-20T03:58:49.715Z"
   },
   {
    "duration": 5,
    "start_time": "2024-12-20T03:59:48.668Z"
   },
   {
    "duration": 6,
    "start_time": "2024-12-20T04:00:52.881Z"
   },
   {
    "duration": 4,
    "start_time": "2024-12-20T04:20:51.660Z"
   },
   {
    "duration": 5,
    "start_time": "2024-12-20T04:21:11.762Z"
   },
   {
    "duration": 1419,
    "start_time": "2024-12-20T04:35:22.852Z"
   },
   {
    "duration": 1276,
    "start_time": "2024-12-20T04:36:08.780Z"
   },
   {
    "duration": 1531,
    "start_time": "2024-12-20T04:37:35.356Z"
   },
   {
    "duration": 1346,
    "start_time": "2024-12-20T04:41:41.136Z"
   },
   {
    "duration": 1180,
    "start_time": "2024-12-20T04:41:57.201Z"
   },
   {
    "duration": 73,
    "start_time": "2024-12-20T04:41:58.383Z"
   },
   {
    "duration": 20,
    "start_time": "2024-12-20T04:41:58.458Z"
   },
   {
    "duration": 19,
    "start_time": "2024-12-20T04:41:58.480Z"
   },
   {
    "duration": 15,
    "start_time": "2024-12-20T04:41:58.502Z"
   },
   {
    "duration": 13,
    "start_time": "2024-12-20T04:41:58.519Z"
   },
   {
    "duration": 5,
    "start_time": "2024-12-20T04:41:58.533Z"
   },
   {
    "duration": 9,
    "start_time": "2024-12-20T04:41:58.540Z"
   },
   {
    "duration": 7,
    "start_time": "2024-12-20T04:41:58.550Z"
   },
   {
    "duration": 190,
    "start_time": "2024-12-20T04:41:58.559Z"
   },
   {
    "duration": 99,
    "start_time": "2024-12-20T04:41:58.751Z"
   },
   {
    "duration": 186,
    "start_time": "2024-12-20T04:41:58.853Z"
   },
   {
    "duration": 196,
    "start_time": "2024-12-20T04:41:59.041Z"
   },
   {
    "duration": 209,
    "start_time": "2024-12-20T04:41:59.241Z"
   },
   {
    "duration": 13,
    "start_time": "2024-12-20T04:41:59.452Z"
   },
   {
    "duration": 4,
    "start_time": "2024-12-20T04:41:59.467Z"
   },
   {
    "duration": 213,
    "start_time": "2024-12-20T04:41:59.473Z"
   },
   {
    "duration": 35,
    "start_time": "2024-12-20T04:41:59.688Z"
   },
   {
    "duration": 12,
    "start_time": "2024-12-20T04:41:59.725Z"
   },
   {
    "duration": 210,
    "start_time": "2024-12-20T04:41:59.739Z"
   },
   {
    "duration": 302,
    "start_time": "2024-12-20T04:41:59.951Z"
   },
   {
    "duration": 206,
    "start_time": "2024-12-20T04:42:00.255Z"
   },
   {
    "duration": 206,
    "start_time": "2024-12-20T04:42:00.463Z"
   },
   {
    "duration": 21,
    "start_time": "2024-12-20T04:42:00.670Z"
   },
   {
    "duration": 3,
    "start_time": "2024-12-20T04:42:00.693Z"
   },
   {
    "duration": 37,
    "start_time": "2024-12-20T04:42:00.714Z"
   },
   {
    "duration": 18,
    "start_time": "2024-12-20T04:42:00.753Z"
   },
   {
    "duration": 10,
    "start_time": "2024-12-20T04:42:00.773Z"
   },
   {
    "duration": 35,
    "start_time": "2024-12-20T04:42:00.785Z"
   },
   {
    "duration": 1627,
    "start_time": "2024-12-20T04:42:00.822Z"
   },
   {
    "duration": 12,
    "start_time": "2024-12-20T04:44:06.688Z"
   },
   {
    "duration": 17,
    "start_time": "2024-12-20T04:45:28.715Z"
   },
   {
    "duration": 16,
    "start_time": "2024-12-20T04:45:40.382Z"
   },
   {
    "duration": 13,
    "start_time": "2024-12-20T04:46:38.288Z"
   },
   {
    "duration": 12,
    "start_time": "2024-12-20T04:46:54.293Z"
   },
   {
    "duration": 12,
    "start_time": "2024-12-20T04:47:18.749Z"
   },
   {
    "duration": 10,
    "start_time": "2024-12-21T00:41:42.180Z"
   },
   {
    "duration": 9,
    "start_time": "2024-12-21T00:42:01.873Z"
   },
   {
    "duration": 10,
    "start_time": "2024-12-21T00:42:13.887Z"
   },
   {
    "duration": 149,
    "start_time": "2024-12-21T00:42:27.632Z"
   },
   {
    "duration": 282,
    "start_time": "2024-12-21T00:47:29.941Z"
   },
   {
    "duration": 1383,
    "start_time": "2024-12-21T00:47:56.964Z"
   },
   {
    "duration": 6,
    "start_time": "2024-12-21T01:17:31.251Z"
   },
   {
    "duration": 5,
    "start_time": "2024-12-21T01:17:40.364Z"
   },
   {
    "duration": 6,
    "start_time": "2024-12-21T01:17:54.211Z"
   },
   {
    "duration": 5,
    "start_time": "2024-12-21T01:18:56.366Z"
   },
   {
    "duration": 5,
    "start_time": "2024-12-21T01:19:07.738Z"
   },
   {
    "duration": 5,
    "start_time": "2024-12-21T01:19:12.979Z"
   },
   {
    "duration": 5,
    "start_time": "2024-12-21T01:19:16.303Z"
   },
   {
    "duration": 6,
    "start_time": "2024-12-21T01:19:34.708Z"
   },
   {
    "duration": 5,
    "start_time": "2024-12-21T01:19:46.059Z"
   },
   {
    "duration": 6,
    "start_time": "2024-12-21T01:19:55.895Z"
   },
   {
    "duration": 5,
    "start_time": "2024-12-21T01:20:00.312Z"
   },
   {
    "duration": 6,
    "start_time": "2024-12-21T01:20:06.423Z"
   },
   {
    "duration": 5,
    "start_time": "2024-12-21T01:20:10.107Z"
   },
   {
    "duration": 5,
    "start_time": "2024-12-21T01:20:15.658Z"
   },
   {
    "duration": 5,
    "start_time": "2024-12-21T01:20:21.430Z"
   },
   {
    "duration": 6,
    "start_time": "2024-12-21T01:20:28.833Z"
   },
   {
    "duration": 5,
    "start_time": "2024-12-21T01:20:32.916Z"
   },
   {
    "duration": 5,
    "start_time": "2024-12-21T01:20:38.536Z"
   },
   {
    "duration": 5,
    "start_time": "2024-12-21T01:20:42.658Z"
   },
   {
    "duration": 6,
    "start_time": "2024-12-21T01:20:45.519Z"
   },
   {
    "duration": 6,
    "start_time": "2024-12-21T01:20:50.723Z"
   },
   {
    "duration": 7,
    "start_time": "2024-12-21T01:20:53.948Z"
   },
   {
    "duration": 6,
    "start_time": "2024-12-21T01:20:59.492Z"
   },
   {
    "duration": 6,
    "start_time": "2024-12-21T01:21:02.543Z"
   },
   {
    "duration": 6,
    "start_time": "2024-12-21T01:21:13.732Z"
   },
   {
    "duration": 6,
    "start_time": "2024-12-21T01:21:16.950Z"
   },
   {
    "duration": 5,
    "start_time": "2024-12-21T01:31:36.997Z"
   },
   {
    "duration": 5,
    "start_time": "2024-12-21T01:33:39.876Z"
   },
   {
    "duration": 5,
    "start_time": "2024-12-21T01:35:05.693Z"
   },
   {
    "duration": 7,
    "start_time": "2024-12-21T01:35:25.011Z"
   },
   {
    "duration": 7,
    "start_time": "2024-12-21T01:39:56.524Z"
   },
   {
    "duration": 6,
    "start_time": "2024-12-21T01:40:20.525Z"
   },
   {
    "duration": 6,
    "start_time": "2024-12-21T01:41:10.589Z"
   },
   {
    "duration": 86,
    "start_time": "2024-12-21T01:42:03.083Z"
   },
   {
    "duration": 4,
    "start_time": "2024-12-21T01:42:28.604Z"
   },
   {
    "duration": 4,
    "start_time": "2024-12-21T01:42:31.027Z"
   },
   {
    "duration": 1147,
    "start_time": "2024-12-21T01:48:39.218Z"
   },
   {
    "duration": 71,
    "start_time": "2024-12-21T01:48:40.367Z"
   },
   {
    "duration": 22,
    "start_time": "2024-12-21T01:48:40.440Z"
   },
   {
    "duration": 19,
    "start_time": "2024-12-21T01:48:40.465Z"
   },
   {
    "duration": 14,
    "start_time": "2024-12-21T01:48:40.486Z"
   },
   {
    "duration": 27,
    "start_time": "2024-12-21T01:48:40.502Z"
   },
   {
    "duration": 5,
    "start_time": "2024-12-21T01:48:40.531Z"
   },
   {
    "duration": 9,
    "start_time": "2024-12-21T01:48:40.537Z"
   },
   {
    "duration": 7,
    "start_time": "2024-12-21T01:48:40.547Z"
   },
   {
    "duration": 179,
    "start_time": "2024-12-21T01:48:40.557Z"
   },
   {
    "duration": 108,
    "start_time": "2024-12-21T01:48:40.737Z"
   },
   {
    "duration": 239,
    "start_time": "2024-12-21T01:48:40.847Z"
   },
   {
    "duration": 202,
    "start_time": "2024-12-21T01:48:41.088Z"
   },
   {
    "duration": 199,
    "start_time": "2024-12-21T01:48:41.292Z"
   },
   {
    "duration": 11,
    "start_time": "2024-12-21T01:48:41.493Z"
   },
   {
    "duration": 4,
    "start_time": "2024-12-21T01:48:41.515Z"
   },
   {
    "duration": 196,
    "start_time": "2024-12-21T01:48:41.521Z"
   },
   {
    "duration": 25,
    "start_time": "2024-12-21T01:48:41.718Z"
   },
   {
    "duration": 18,
    "start_time": "2024-12-21T01:48:41.745Z"
   },
   {
    "duration": 203,
    "start_time": "2024-12-21T01:48:41.764Z"
   },
   {
    "duration": 214,
    "start_time": "2024-12-21T01:48:41.969Z"
   },
   {
    "duration": 288,
    "start_time": "2024-12-21T01:48:42.184Z"
   },
   {
    "duration": 196,
    "start_time": "2024-12-21T01:48:42.474Z"
   },
   {
    "duration": 18,
    "start_time": "2024-12-21T01:48:42.672Z"
   },
   {
    "duration": 3,
    "start_time": "2024-12-21T01:48:42.691Z"
   },
   {
    "duration": 48,
    "start_time": "2024-12-21T01:48:42.696Z"
   },
   {
    "duration": 13,
    "start_time": "2024-12-21T01:48:42.745Z"
   },
   {
    "duration": 5,
    "start_time": "2024-12-21T01:48:42.761Z"
   },
   {
    "duration": 6,
    "start_time": "2024-12-21T01:48:42.768Z"
   },
   {
    "duration": 44,
    "start_time": "2024-12-21T01:48:42.775Z"
   },
   {
    "duration": 5,
    "start_time": "2024-12-21T01:48:42.821Z"
   },
   {
    "duration": 5,
    "start_time": "2024-12-21T01:49:41.532Z"
   },
   {
    "duration": 1141,
    "start_time": "2024-12-21T01:49:52.737Z"
   },
   {
    "duration": 73,
    "start_time": "2024-12-21T01:49:53.880Z"
   },
   {
    "duration": 20,
    "start_time": "2024-12-21T01:49:53.955Z"
   },
   {
    "duration": 16,
    "start_time": "2024-12-21T01:49:53.977Z"
   },
   {
    "duration": 101,
    "start_time": "2024-12-21T01:49:53.995Z"
   },
   {
    "duration": 15,
    "start_time": "2024-12-21T01:49:54.097Z"
   },
   {
    "duration": 5,
    "start_time": "2024-12-21T01:49:54.114Z"
   },
   {
    "duration": 14,
    "start_time": "2024-12-21T01:49:54.121Z"
   },
   {
    "duration": 8,
    "start_time": "2024-12-21T01:49:54.137Z"
   },
   {
    "duration": 169,
    "start_time": "2024-12-21T01:49:54.147Z"
   },
   {
    "duration": 103,
    "start_time": "2024-12-21T01:49:54.318Z"
   },
   {
    "duration": 180,
    "start_time": "2024-12-21T01:49:54.423Z"
   },
   {
    "duration": 202,
    "start_time": "2024-12-21T01:49:54.604Z"
   },
   {
    "duration": 224,
    "start_time": "2024-12-21T01:49:54.809Z"
   },
   {
    "duration": 13,
    "start_time": "2024-12-21T01:49:55.036Z"
   },
   {
    "duration": 4,
    "start_time": "2024-12-21T01:49:55.050Z"
   },
   {
    "duration": 204,
    "start_time": "2024-12-21T01:49:55.055Z"
   },
   {
    "duration": 24,
    "start_time": "2024-12-21T01:49:55.261Z"
   },
   {
    "duration": 11,
    "start_time": "2024-12-21T01:49:55.286Z"
   },
   {
    "duration": 192,
    "start_time": "2024-12-21T01:49:55.315Z"
   },
   {
    "duration": 278,
    "start_time": "2024-12-21T01:49:55.514Z"
   },
   {
    "duration": 205,
    "start_time": "2024-12-21T01:49:55.793Z"
   },
   {
    "duration": 195,
    "start_time": "2024-12-21T01:49:56.000Z"
   },
   {
    "duration": 22,
    "start_time": "2024-12-21T01:49:56.197Z"
   },
   {
    "duration": 2,
    "start_time": "2024-12-21T01:49:56.221Z"
   },
   {
    "duration": 38,
    "start_time": "2024-12-21T01:49:56.225Z"
   },
   {
    "duration": 12,
    "start_time": "2024-12-21T01:49:56.265Z"
   },
   {
    "duration": 16,
    "start_time": "2024-12-21T01:49:56.279Z"
   },
   {
    "duration": 21,
    "start_time": "2024-12-21T01:49:56.296Z"
   },
   {
    "duration": 14,
    "start_time": "2024-12-21T01:49:56.318Z"
   },
   {
    "duration": 31,
    "start_time": "2024-12-21T01:49:56.334Z"
   },
   {
    "duration": 5,
    "start_time": "2024-12-21T01:50:55.377Z"
   },
   {
    "duration": 5,
    "start_time": "2024-12-21T01:50:58.064Z"
   },
   {
    "duration": 5,
    "start_time": "2024-12-21T01:52:33.826Z"
   },
   {
    "duration": 5,
    "start_time": "2024-12-21T01:52:39.639Z"
   },
   {
    "duration": 5,
    "start_time": "2024-12-21T01:53:39.673Z"
   },
   {
    "duration": 5,
    "start_time": "2024-12-21T01:54:25.874Z"
   },
   {
    "duration": 4,
    "start_time": "2024-12-21T01:54:35.699Z"
   },
   {
    "duration": 5,
    "start_time": "2024-12-21T01:54:39.229Z"
   },
   {
    "duration": 5,
    "start_time": "2024-12-21T01:54:55.584Z"
   },
   {
    "duration": 5,
    "start_time": "2024-12-21T01:55:12.527Z"
   },
   {
    "duration": 6,
    "start_time": "2024-12-21T01:55:17.747Z"
   },
   {
    "duration": 5,
    "start_time": "2024-12-21T02:04:42.292Z"
   },
   {
    "duration": 5,
    "start_time": "2024-12-21T02:04:48.591Z"
   },
   {
    "duration": 5,
    "start_time": "2024-12-21T02:04:56.394Z"
   },
   {
    "duration": 1182,
    "start_time": "2024-12-21T02:23:15.237Z"
   },
   {
    "duration": 73,
    "start_time": "2024-12-21T02:23:16.422Z"
   },
   {
    "duration": 24,
    "start_time": "2024-12-21T02:23:16.497Z"
   },
   {
    "duration": 26,
    "start_time": "2024-12-21T02:23:16.525Z"
   },
   {
    "duration": 16,
    "start_time": "2024-12-21T02:23:16.553Z"
   },
   {
    "duration": 77,
    "start_time": "2024-12-21T02:23:16.571Z"
   },
   {
    "duration": 5,
    "start_time": "2024-12-21T02:23:16.650Z"
   },
   {
    "duration": 29,
    "start_time": "2024-12-21T02:23:16.656Z"
   },
   {
    "duration": 8,
    "start_time": "2024-12-21T02:23:16.686Z"
   },
   {
    "duration": 168,
    "start_time": "2024-12-21T02:23:16.696Z"
   },
   {
    "duration": 108,
    "start_time": "2024-12-21T02:23:16.866Z"
   },
   {
    "duration": 190,
    "start_time": "2024-12-21T02:23:16.976Z"
   },
   {
    "duration": 229,
    "start_time": "2024-12-21T02:23:17.167Z"
   },
   {
    "duration": 235,
    "start_time": "2024-12-21T02:23:17.398Z"
   },
   {
    "duration": 15,
    "start_time": "2024-12-21T02:23:17.634Z"
   },
   {
    "duration": 57,
    "start_time": "2024-12-21T02:23:17.651Z"
   },
   {
    "duration": 215,
    "start_time": "2024-12-21T02:23:17.710Z"
   },
   {
    "duration": 28,
    "start_time": "2024-12-21T02:23:17.927Z"
   },
   {
    "duration": 12,
    "start_time": "2024-12-21T02:23:17.957Z"
   },
   {
    "duration": 231,
    "start_time": "2024-12-21T02:23:17.971Z"
   },
   {
    "duration": 242,
    "start_time": "2024-12-21T02:23:18.204Z"
   },
   {
    "duration": 336,
    "start_time": "2024-12-21T02:23:18.448Z"
   },
   {
    "duration": 216,
    "start_time": "2024-12-21T02:23:18.785Z"
   },
   {
    "duration": 29,
    "start_time": "2024-12-21T02:23:19.003Z"
   },
   {
    "duration": 3,
    "start_time": "2024-12-21T02:23:19.035Z"
   },
   {
    "duration": 42,
    "start_time": "2024-12-21T02:23:19.040Z"
   },
   {
    "duration": 38,
    "start_time": "2024-12-21T02:23:19.084Z"
   },
   {
    "duration": 9,
    "start_time": "2024-12-21T02:23:19.126Z"
   },
   {
    "duration": 7,
    "start_time": "2024-12-21T02:23:19.136Z"
   },
   {
    "duration": 25,
    "start_time": "2024-12-21T02:23:19.144Z"
   },
   {
    "duration": 5,
    "start_time": "2024-12-21T02:23:19.170Z"
   },
   {
    "duration": 6,
    "start_time": "2024-12-21T02:23:29.732Z"
   },
   {
    "duration": 5,
    "start_time": "2024-12-21T02:26:00.838Z"
   },
   {
    "duration": 5,
    "start_time": "2024-12-21T02:26:11.195Z"
   },
   {
    "duration": 157,
    "start_time": "2024-12-21T02:26:19.270Z"
   },
   {
    "duration": 5,
    "start_time": "2024-12-21T02:26:26.849Z"
   },
   {
    "duration": 5,
    "start_time": "2024-12-21T02:26:47.275Z"
   },
   {
    "duration": 8,
    "start_time": "2024-12-21T02:27:00.520Z"
   },
   {
    "duration": 4,
    "start_time": "2024-12-21T02:28:06.062Z"
   },
   {
    "duration": 5,
    "start_time": "2024-12-21T02:28:42.834Z"
   },
   {
    "duration": 6,
    "start_time": "2024-12-21T02:30:01.641Z"
   },
   {
    "duration": 5,
    "start_time": "2024-12-21T02:36:01.499Z"
   },
   {
    "duration": 82,
    "start_time": "2024-12-21T02:36:24.593Z"
   },
   {
    "duration": 6,
    "start_time": "2024-12-21T02:36:42.804Z"
   },
   {
    "duration": 164,
    "start_time": "2024-12-21T02:37:04.506Z"
   },
   {
    "duration": 4,
    "start_time": "2024-12-21T02:49:09.348Z"
   },
   {
    "duration": 5,
    "start_time": "2024-12-21T02:49:17.466Z"
   },
   {
    "duration": 6,
    "start_time": "2024-12-21T02:49:47.274Z"
   },
   {
    "duration": 6,
    "start_time": "2024-12-21T02:49:50.534Z"
   },
   {
    "duration": 6,
    "start_time": "2024-12-21T02:50:14.525Z"
   },
   {
    "duration": 5,
    "start_time": "2024-12-21T02:50:23.488Z"
   },
   {
    "duration": 188,
    "start_time": "2024-12-21T03:03:21.614Z"
   },
   {
    "duration": 33829,
    "start_time": "2024-12-21T03:03:48.182Z"
   },
   {
    "duration": 15,
    "start_time": "2024-12-21T03:05:38.439Z"
   },
   {
    "duration": 12,
    "start_time": "2024-12-21T03:06:09.472Z"
   },
   {
    "duration": 6,
    "start_time": "2024-12-21T03:34:36.957Z"
   },
   {
    "duration": 6,
    "start_time": "2024-12-21T03:48:50.769Z"
   },
   {
    "duration": 4,
    "start_time": "2024-12-21T03:49:10.218Z"
   },
   {
    "duration": 5,
    "start_time": "2024-12-21T03:49:15.332Z"
   },
   {
    "duration": 5,
    "start_time": "2024-12-22T02:35:12.400Z"
   },
   {
    "duration": 5,
    "start_time": "2024-12-22T02:41:35.672Z"
   },
   {
    "duration": 1317,
    "start_time": "2024-12-22T05:26:59.758Z"
   },
   {
    "duration": 211,
    "start_time": "2024-12-22T05:27:01.077Z"
   },
   {
    "duration": 27,
    "start_time": "2024-12-22T05:27:01.290Z"
   },
   {
    "duration": 18,
    "start_time": "2024-12-22T05:27:01.319Z"
   },
   {
    "duration": 18,
    "start_time": "2024-12-22T05:27:01.339Z"
   },
   {
    "duration": 19,
    "start_time": "2024-12-22T05:27:01.359Z"
   },
   {
    "duration": 30,
    "start_time": "2024-12-22T05:27:01.380Z"
   },
   {
    "duration": 31,
    "start_time": "2024-12-22T05:27:01.411Z"
   },
   {
    "duration": 20,
    "start_time": "2024-12-22T05:27:01.444Z"
   },
   {
    "duration": 163,
    "start_time": "2024-12-22T05:27:01.468Z"
   },
   {
    "duration": 10,
    "start_time": "2024-12-22T05:27:01.633Z"
   },
   {
    "duration": 119,
    "start_time": "2024-12-22T05:27:01.645Z"
   },
   {
    "duration": 191,
    "start_time": "2024-12-22T05:27:01.765Z"
   },
   {
    "duration": 217,
    "start_time": "2024-12-22T05:27:01.957Z"
   },
   {
    "duration": 228,
    "start_time": "2024-12-22T05:27:02.176Z"
   },
   {
    "duration": 33,
    "start_time": "2024-12-22T05:27:02.406Z"
   },
   {
    "duration": 5,
    "start_time": "2024-12-22T05:27:02.441Z"
   },
   {
    "duration": 224,
    "start_time": "2024-12-22T05:27:02.450Z"
   },
   {
    "duration": 23,
    "start_time": "2024-12-22T05:27:02.676Z"
   },
   {
    "duration": 25,
    "start_time": "2024-12-22T05:27:02.701Z"
   },
   {
    "duration": 204,
    "start_time": "2024-12-22T05:27:02.727Z"
   },
   {
    "duration": 211,
    "start_time": "2024-12-22T05:27:02.933Z"
   },
   {
    "duration": 323,
    "start_time": "2024-12-22T05:27:03.146Z"
   },
   {
    "duration": 208,
    "start_time": "2024-12-22T05:27:03.470Z"
   },
   {
    "duration": 24,
    "start_time": "2024-12-22T05:27:03.680Z"
   },
   {
    "duration": 10,
    "start_time": "2024-12-22T05:27:03.721Z"
   },
   {
    "duration": 38,
    "start_time": "2024-12-22T05:27:03.733Z"
   },
   {
    "duration": 12,
    "start_time": "2024-12-22T05:27:03.775Z"
   },
   {
    "duration": 46,
    "start_time": "2024-12-22T05:27:03.789Z"
   },
   {
    "duration": 32,
    "start_time": "2024-12-22T05:27:03.837Z"
   },
   {
    "duration": 39,
    "start_time": "2024-12-22T05:27:03.871Z"
   },
   {
    "duration": 134,
    "start_time": "2024-12-22T05:27:03.912Z"
   },
   {
    "duration": 0,
    "start_time": "2024-12-22T05:27:04.048Z"
   },
   {
    "duration": 1090,
    "start_time": "2024-12-22T05:30:44.868Z"
   },
   {
    "duration": 66,
    "start_time": "2024-12-22T05:30:45.960Z"
   },
   {
    "duration": 26,
    "start_time": "2024-12-22T05:30:46.027Z"
   },
   {
    "duration": 21,
    "start_time": "2024-12-22T05:30:46.055Z"
   },
   {
    "duration": 13,
    "start_time": "2024-12-22T05:30:46.077Z"
   },
   {
    "duration": 41,
    "start_time": "2024-12-22T05:30:46.091Z"
   },
   {
    "duration": 5,
    "start_time": "2024-12-22T05:30:46.134Z"
   },
   {
    "duration": 11,
    "start_time": "2024-12-22T05:30:46.141Z"
   },
   {
    "duration": 8,
    "start_time": "2024-12-22T05:30:46.153Z"
   },
   {
    "duration": 224,
    "start_time": "2024-12-22T05:30:46.164Z"
   },
   {
    "duration": 5,
    "start_time": "2024-12-22T05:30:46.390Z"
   },
   {
    "duration": 138,
    "start_time": "2024-12-22T05:30:46.396Z"
   },
   {
    "duration": 152,
    "start_time": "2024-12-22T05:30:46.535Z"
   },
   {
    "duration": 185,
    "start_time": "2024-12-22T05:30:46.689Z"
   },
   {
    "duration": 192,
    "start_time": "2024-12-22T05:30:46.875Z"
   },
   {
    "duration": 11,
    "start_time": "2024-12-22T05:30:47.069Z"
   },
   {
    "duration": 12,
    "start_time": "2024-12-22T05:30:47.082Z"
   },
   {
    "duration": 192,
    "start_time": "2024-12-22T05:30:47.096Z"
   },
   {
    "duration": 22,
    "start_time": "2024-12-22T05:30:47.289Z"
   },
   {
    "duration": 9,
    "start_time": "2024-12-22T05:30:47.321Z"
   },
   {
    "duration": 189,
    "start_time": "2024-12-22T05:30:47.332Z"
   },
   {
    "duration": 187,
    "start_time": "2024-12-22T05:30:47.523Z"
   },
   {
    "duration": 271,
    "start_time": "2024-12-22T05:30:47.712Z"
   },
   {
    "duration": 197,
    "start_time": "2024-12-22T05:30:47.985Z"
   },
   {
    "duration": 16,
    "start_time": "2024-12-22T05:30:48.184Z"
   },
   {
    "duration": 54,
    "start_time": "2024-12-22T05:30:48.202Z"
   },
   {
    "duration": 77,
    "start_time": "2024-12-22T05:30:48.257Z"
   },
   {
    "duration": 12,
    "start_time": "2024-12-22T05:30:48.337Z"
   },
   {
    "duration": 90,
    "start_time": "2024-12-22T05:30:48.350Z"
   },
   {
    "duration": 15,
    "start_time": "2024-12-22T05:30:48.442Z"
   },
   {
    "duration": 28,
    "start_time": "2024-12-22T05:30:48.459Z"
   },
   {
    "duration": 95,
    "start_time": "2024-12-22T05:30:48.488Z"
   },
   {
    "duration": 0,
    "start_time": "2024-12-22T05:30:48.585Z"
   },
   {
    "duration": 12,
    "start_time": "2024-12-22T05:32:01.615Z"
   },
   {
    "duration": 112,
    "start_time": "2024-12-22T06:12:32.899Z"
   },
   {
    "duration": 98,
    "start_time": "2024-12-22T06:12:35.297Z"
   },
   {
    "duration": 148,
    "start_time": "2024-12-22T06:17:49.453Z"
   },
   {
    "duration": 139,
    "start_time": "2024-12-22T06:18:02.307Z"
   },
   {
    "duration": 145,
    "start_time": "2024-12-22T06:27:03.545Z"
   },
   {
    "duration": 143,
    "start_time": "2024-12-22T06:27:08.679Z"
   },
   {
    "duration": 155,
    "start_time": "2024-12-22T06:27:31.831Z"
   },
   {
    "duration": 8,
    "start_time": "2024-12-22T06:29:32.120Z"
   },
   {
    "duration": 167,
    "start_time": "2024-12-22T06:34:37.789Z"
   },
   {
    "duration": 174,
    "start_time": "2024-12-22T06:35:14.360Z"
   },
   {
    "duration": 204,
    "start_time": "2024-12-22T06:35:30.979Z"
   },
   {
    "duration": 192,
    "start_time": "2024-12-22T06:35:48.004Z"
   },
   {
    "duration": 183,
    "start_time": "2024-12-22T06:36:19.244Z"
   },
   {
    "duration": 21,
    "start_time": "2024-12-22T06:37:35.385Z"
   },
   {
    "duration": 252,
    "start_time": "2024-12-22T06:38:45.867Z"
   },
   {
    "duration": 256,
    "start_time": "2024-12-22T06:38:59.148Z"
   },
   {
    "duration": 521,
    "start_time": "2024-12-22T06:39:12.364Z"
   },
   {
    "duration": 254,
    "start_time": "2024-12-22T06:40:22.946Z"
   },
   {
    "duration": 265,
    "start_time": "2024-12-22T06:42:48.428Z"
   },
   {
    "duration": 254,
    "start_time": "2024-12-22T06:44:04.542Z"
   },
   {
    "duration": 269,
    "start_time": "2024-12-22T06:44:42.384Z"
   },
   {
    "duration": 200,
    "start_time": "2024-12-22T06:48:28.000Z"
   },
   {
    "duration": 186,
    "start_time": "2024-12-22T06:48:30.114Z"
   },
   {
    "duration": 287,
    "start_time": "2024-12-22T06:48:43.184Z"
   },
   {
    "duration": 185,
    "start_time": "2024-12-22T06:49:04.720Z"
   },
   {
    "duration": 311,
    "start_time": "2024-12-22T06:49:13.200Z"
   },
   {
    "duration": 306,
    "start_time": "2024-12-22T06:50:03.729Z"
   },
   {
    "duration": 4,
    "start_time": "2024-12-22T06:52:57.659Z"
   },
   {
    "duration": 18,
    "start_time": "2024-12-22T06:53:01.769Z"
   },
   {
    "duration": 23,
    "start_time": "2024-12-22T06:53:30.263Z"
   },
   {
    "duration": 1155,
    "start_time": "2024-12-22T06:55:00.085Z"
   },
   {
    "duration": 72,
    "start_time": "2024-12-22T06:55:01.241Z"
   },
   {
    "duration": 23,
    "start_time": "2024-12-22T06:55:01.314Z"
   },
   {
    "duration": 33,
    "start_time": "2024-12-22T06:55:01.339Z"
   },
   {
    "duration": 14,
    "start_time": "2024-12-22T06:55:01.373Z"
   },
   {
    "duration": 28,
    "start_time": "2024-12-22T06:55:01.388Z"
   },
   {
    "duration": 6,
    "start_time": "2024-12-22T06:55:01.418Z"
   },
   {
    "duration": 44,
    "start_time": "2024-12-22T06:55:01.426Z"
   },
   {
    "duration": 13,
    "start_time": "2024-12-22T06:55:01.472Z"
   },
   {
    "duration": 190,
    "start_time": "2024-12-22T06:55:01.488Z"
   },
   {
    "duration": 106,
    "start_time": "2024-12-22T06:55:01.679Z"
   },
   {
    "duration": 213,
    "start_time": "2024-12-22T06:55:01.787Z"
   },
   {
    "duration": 19,
    "start_time": "2024-12-22T06:55:02.001Z"
   },
   {
    "duration": 244,
    "start_time": "2024-12-22T06:55:02.022Z"
   },
   {
    "duration": 212,
    "start_time": "2024-12-22T06:55:02.267Z"
   },
   {
    "duration": 13,
    "start_time": "2024-12-22T06:55:02.480Z"
   },
   {
    "duration": 330,
    "start_time": "2024-12-22T06:55:02.494Z"
   },
   {
    "duration": 27,
    "start_time": "2024-12-22T06:55:02.826Z"
   },
   {
    "duration": 26,
    "start_time": "2024-12-22T06:55:02.855Z"
   },
   {
    "duration": 33,
    "start_time": "2024-12-22T06:55:02.882Z"
   },
   {
    "duration": 415,
    "start_time": "2024-12-22T06:55:02.917Z"
   },
   {
    "duration": 332,
    "start_time": "2024-12-22T06:55:03.334Z"
   },
   {
    "duration": 4,
    "start_time": "2024-12-22T06:55:03.668Z"
   },
   {
    "duration": 139,
    "start_time": "2024-12-22T06:55:03.674Z"
   },
   {
    "duration": 3,
    "start_time": "2024-12-22T06:55:03.815Z"
   },
   {
    "duration": 200,
    "start_time": "2024-12-22T06:55:03.820Z"
   },
   {
    "duration": 14,
    "start_time": "2024-12-22T06:55:04.022Z"
   },
   {
    "duration": 19,
    "start_time": "2024-12-22T06:55:04.040Z"
   },
   {
    "duration": 5,
    "start_time": "2024-12-22T06:55:04.061Z"
   },
   {
    "duration": 14,
    "start_time": "2024-12-22T06:55:04.068Z"
   },
   {
    "duration": 118,
    "start_time": "2024-12-22T06:55:04.083Z"
   },
   {
    "duration": 0,
    "start_time": "2024-12-22T06:55:04.203Z"
   },
   {
    "duration": 5,
    "start_time": "2024-12-22T07:02:25.858Z"
   },
   {
    "duration": 146,
    "start_time": "2024-12-22T07:06:58.671Z"
   },
   {
    "duration": 1139,
    "start_time": "2024-12-22T07:07:11.642Z"
   },
   {
    "duration": 71,
    "start_time": "2024-12-22T07:07:12.783Z"
   },
   {
    "duration": 21,
    "start_time": "2024-12-22T07:07:12.856Z"
   },
   {
    "duration": 25,
    "start_time": "2024-12-22T07:07:12.879Z"
   },
   {
    "duration": 13,
    "start_time": "2024-12-22T07:07:12.906Z"
   },
   {
    "duration": 32,
    "start_time": "2024-12-22T07:07:12.920Z"
   },
   {
    "duration": 5,
    "start_time": "2024-12-22T07:07:12.954Z"
   },
   {
    "duration": 14,
    "start_time": "2024-12-22T07:07:12.960Z"
   },
   {
    "duration": 8,
    "start_time": "2024-12-22T07:07:12.975Z"
   },
   {
    "duration": 189,
    "start_time": "2024-12-22T07:07:12.985Z"
   },
   {
    "duration": 100,
    "start_time": "2024-12-22T07:07:13.175Z"
   },
   {
    "duration": 183,
    "start_time": "2024-12-22T07:07:13.276Z"
   },
   {
    "duration": 7,
    "start_time": "2024-12-22T07:07:13.461Z"
   },
   {
    "duration": 207,
    "start_time": "2024-12-22T07:07:13.470Z"
   },
   {
    "duration": 207,
    "start_time": "2024-12-22T07:07:13.679Z"
   },
   {
    "duration": 13,
    "start_time": "2024-12-22T07:07:13.888Z"
   },
   {
    "duration": 227,
    "start_time": "2024-12-22T07:07:13.902Z"
   },
   {
    "duration": 26,
    "start_time": "2024-12-22T07:07:14.131Z"
   },
   {
    "duration": 11,
    "start_time": "2024-12-22T07:07:14.159Z"
   },
   {
    "duration": 22,
    "start_time": "2024-12-22T07:07:14.172Z"
   },
   {
    "duration": 402,
    "start_time": "2024-12-22T07:07:14.216Z"
   },
   {
    "duration": 337,
    "start_time": "2024-12-22T07:07:14.620Z"
   },
   {
    "duration": 4,
    "start_time": "2024-12-22T07:07:14.958Z"
   },
   {
    "duration": 37,
    "start_time": "2024-12-22T07:07:14.964Z"
   },
   {
    "duration": 4,
    "start_time": "2024-12-22T07:07:15.004Z"
   },
   {
    "duration": 224,
    "start_time": "2024-12-22T07:07:15.022Z"
   },
   {
    "duration": 14,
    "start_time": "2024-12-22T07:07:15.247Z"
   },
   {
    "duration": 18,
    "start_time": "2024-12-22T07:07:15.264Z"
   },
   {
    "duration": 8,
    "start_time": "2024-12-22T07:07:15.284Z"
   },
   {
    "duration": 27,
    "start_time": "2024-12-22T07:07:15.293Z"
   },
   {
    "duration": 170,
    "start_time": "2024-12-22T07:07:15.321Z"
   },
   {
    "duration": 43,
    "start_time": "2024-12-22T07:07:15.492Z"
   },
   {
    "duration": 1012,
    "start_time": "2024-12-22T09:07:50.532Z"
   },
   {
    "duration": 305,
    "start_time": "2024-12-22T09:07:51.546Z"
   },
   {
    "duration": 19,
    "start_time": "2024-12-22T09:07:51.852Z"
   },
   {
    "duration": 15,
    "start_time": "2024-12-22T09:07:51.873Z"
   },
   {
    "duration": 11,
    "start_time": "2024-12-22T09:07:51.891Z"
   },
   {
    "duration": 17,
    "start_time": "2024-12-22T09:07:51.903Z"
   },
   {
    "duration": 20,
    "start_time": "2024-12-22T09:07:51.921Z"
   },
   {
    "duration": 26,
    "start_time": "2024-12-22T09:07:51.943Z"
   },
   {
    "duration": 15,
    "start_time": "2024-12-22T09:07:51.971Z"
   },
   {
    "duration": 196,
    "start_time": "2024-12-22T09:07:51.988Z"
   },
   {
    "duration": 97,
    "start_time": "2024-12-22T09:07:52.186Z"
   },
   {
    "duration": 172,
    "start_time": "2024-12-22T09:07:52.285Z"
   },
   {
    "duration": 7,
    "start_time": "2024-12-22T09:07:52.458Z"
   },
   {
    "duration": 196,
    "start_time": "2024-12-22T09:07:52.468Z"
   },
   {
    "duration": 194,
    "start_time": "2024-12-22T09:07:52.665Z"
   },
   {
    "duration": 10,
    "start_time": "2024-12-22T09:07:52.860Z"
   },
   {
    "duration": 194,
    "start_time": "2024-12-22T09:07:52.871Z"
   },
   {
    "duration": 22,
    "start_time": "2024-12-22T09:07:53.067Z"
   },
   {
    "duration": 10,
    "start_time": "2024-12-22T09:07:53.090Z"
   },
   {
    "duration": 28,
    "start_time": "2024-12-22T09:07:53.114Z"
   },
   {
    "duration": 359,
    "start_time": "2024-12-22T09:07:53.144Z"
   },
   {
    "duration": 296,
    "start_time": "2024-12-22T09:07:53.504Z"
   },
   {
    "duration": 4,
    "start_time": "2024-12-22T09:07:53.801Z"
   },
   {
    "duration": 44,
    "start_time": "2024-12-22T09:07:53.806Z"
   },
   {
    "duration": 3,
    "start_time": "2024-12-22T09:07:53.851Z"
   },
   {
    "duration": 222,
    "start_time": "2024-12-22T09:07:53.855Z"
   },
   {
    "duration": 12,
    "start_time": "2024-12-22T09:07:54.079Z"
   },
   {
    "duration": 5,
    "start_time": "2024-12-22T09:07:54.093Z"
   },
   {
    "duration": 27,
    "start_time": "2024-12-22T09:07:54.099Z"
   },
   {
    "duration": 14,
    "start_time": "2024-12-22T09:07:54.135Z"
   },
   {
    "duration": 140,
    "start_time": "2024-12-22T09:07:54.150Z"
   },
   {
    "duration": 5,
    "start_time": "2024-12-22T09:07:54.291Z"
   },
   {
    "duration": 1018,
    "start_time": "2024-12-22T09:08:22.180Z"
   },
   {
    "duration": 74,
    "start_time": "2024-12-22T09:08:23.200Z"
   },
   {
    "duration": 21,
    "start_time": "2024-12-22T09:08:23.276Z"
   },
   {
    "duration": 34,
    "start_time": "2024-12-22T09:08:23.300Z"
   },
   {
    "duration": 13,
    "start_time": "2024-12-22T09:08:23.336Z"
   },
   {
    "duration": 15,
    "start_time": "2024-12-22T09:08:23.350Z"
   },
   {
    "duration": 4,
    "start_time": "2024-12-22T09:08:23.366Z"
   },
   {
    "duration": 12,
    "start_time": "2024-12-22T09:08:23.371Z"
   },
   {
    "duration": 7,
    "start_time": "2024-12-22T09:08:23.384Z"
   },
   {
    "duration": 190,
    "start_time": "2024-12-22T09:08:23.393Z"
   },
   {
    "duration": 109,
    "start_time": "2024-12-22T09:08:23.585Z"
   },
   {
    "duration": 168,
    "start_time": "2024-12-22T09:08:23.696Z"
   },
   {
    "duration": 8,
    "start_time": "2024-12-22T09:08:23.865Z"
   },
   {
    "duration": 207,
    "start_time": "2024-12-22T09:08:23.874Z"
   },
   {
    "duration": 188,
    "start_time": "2024-12-22T09:08:24.082Z"
   },
   {
    "duration": 11,
    "start_time": "2024-12-22T09:08:24.271Z"
   },
   {
    "duration": 201,
    "start_time": "2024-12-22T09:08:24.283Z"
   },
   {
    "duration": 50,
    "start_time": "2024-12-22T09:08:24.485Z"
   },
   {
    "duration": 10,
    "start_time": "2024-12-22T09:08:24.537Z"
   },
   {
    "duration": 95,
    "start_time": "2024-12-22T09:08:24.548Z"
   },
   {
    "duration": 304,
    "start_time": "2024-12-22T09:08:24.644Z"
   },
   {
    "duration": 295,
    "start_time": "2024-12-22T09:08:24.949Z"
   },
   {
    "duration": 4,
    "start_time": "2024-12-22T09:08:25.245Z"
   },
   {
    "duration": 35,
    "start_time": "2024-12-22T09:08:25.251Z"
   },
   {
    "duration": 3,
    "start_time": "2024-12-22T09:08:25.287Z"
   },
   {
    "duration": 219,
    "start_time": "2024-12-22T09:08:25.291Z"
   },
   {
    "duration": 18,
    "start_time": "2024-12-22T09:08:25.523Z"
   },
   {
    "duration": 28,
    "start_time": "2024-12-22T09:08:25.544Z"
   },
   {
    "duration": 11,
    "start_time": "2024-12-22T09:08:25.573Z"
   },
   {
    "duration": 18,
    "start_time": "2024-12-22T09:08:25.585Z"
   },
   {
    "duration": 146,
    "start_time": "2024-12-22T09:08:25.604Z"
   },
   {
    "duration": 5,
    "start_time": "2024-12-22T09:08:25.751Z"
   },
   {
    "duration": 53,
    "start_time": "2024-12-24T13:04:05.603Z"
   },
   {
    "duration": 9,
    "start_time": "2024-12-24T13:04:26.563Z"
   }
  ],
  "kernelspec": {
   "display_name": "Python 3 (ipykernel)",
   "language": "python",
   "name": "python3"
  },
  "language_info": {
   "codemirror_mode": {
    "name": "ipython",
    "version": 3
   },
   "file_extension": ".py",
   "mimetype": "text/x-python",
   "name": "python",
   "nbconvert_exporter": "python",
   "pygments_lexer": "ipython3",
   "version": "3.9.20"
  },
  "toc": {
   "base_numbering": 1,
   "nav_menu": {},
   "number_sections": true,
   "sideBar": true,
   "skip_h1_title": true,
   "title_cell": "Table of Contents",
   "title_sidebar": "Contents",
   "toc_cell": false,
   "toc_position": {},
   "toc_section_display": true,
   "toc_window_display": false
  }
 },
 "nbformat": 4,
 "nbformat_minor": 5
}
